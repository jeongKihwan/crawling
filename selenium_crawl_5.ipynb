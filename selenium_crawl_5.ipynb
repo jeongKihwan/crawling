{
 "cells": [
  {
   "cell_type": "code",
   "execution_count": 1,
   "metadata": {},
   "outputs": [],
   "source": [
    "# 다나와 사이트로 가서\n",
    "\n",
    "# 1. 메뉴목록 출력\n",
    "# 2. 로그인..\n",
    "# 3. 최근 본 상품의 제목, 가격"
   ]
  },
  {
   "cell_type": "code",
   "execution_count": 2,
   "metadata": {},
   "outputs": [],
   "source": [
    "# https://www.danawa.com"
   ]
  },
  {
   "cell_type": "code",
   "execution_count": 3,
   "metadata": {},
   "outputs": [],
   "source": [
    "from selenium import webdriver\n",
    "import time \n",
    "from bs4 import BeautifulSoup as bs"
   ]
  },
  {
   "cell_type": "code",
   "execution_count": 4,
   "metadata": {},
   "outputs": [],
   "source": [
    "import priv   # 다나와 아이디와 패스워드를 담은 파일"
   ]
  },
  {
   "cell_type": "code",
   "execution_count": 17,
   "metadata": {},
   "outputs": [],
   "source": [
    "driver = webdriver.Chrome()\n",
    "time.sleep(2)"
   ]
  },
  {
   "cell_type": "code",
   "execution_count": 18,
   "metadata": {},
   "outputs": [],
   "source": [
    "driver.get('https://www.danawa.com')"
   ]
  },
  {
   "cell_type": "code",
   "execution_count": 19,
   "metadata": {},
   "outputs": [],
   "source": [
    "# 로그인 버튼\n",
    "login_path  = '#danawa_header > div.danawa_top_search > div > div.my_service > div.my_service_list > ul > li.my_page_service > a > span'\n",
    "driver.find_element_by_tag_name(login_path).click()"
   ]
  },
  {
   "cell_type": "code",
   "execution_count": 21,
   "metadata": {},
   "outputs": [],
   "source": [
    "userid_id = 'danawa-member-login-input-id'\n",
    "pwd_id = 'danawa-member-login-input-pwd'"
   ]
  },
  {
   "cell_type": "code",
   "execution_count": 22,
   "metadata": {},
   "outputs": [],
   "source": [
    "driver.find_element_by_id(userid_id).send_keys(priv.idpwd['id'])"
   ]
  },
  {
   "cell_type": "code",
   "execution_count": 23,
   "metadata": {},
   "outputs": [],
   "source": [
    "driver.find_element_by_id(pwd_id).send_keys(priv.idpwd['pwd'])"
   ]
  },
  {
   "cell_type": "code",
   "execution_count": 24,
   "metadata": {},
   "outputs": [],
   "source": [
    "login_id = 'danawa-member-login-loginButton'\n",
    "driver.find_element_by_id(login_id).click()"
   ]
  },
  {
   "cell_type": "code",
   "execution_count": 25,
   "metadata": {},
   "outputs": [],
   "source": [
    "recent_product_path = '#danawa_header > div.danawa_top_search > div > div.my_service > div.my_service_list > ul > li.interest_goods_service > a'\n",
    "driver.find_element_by_css_selector(recent_product_path).click()"
   ]
  },
  {
   "cell_type": "code",
   "execution_count": 16,
   "metadata": {},
   "outputs": [],
   "source": [
    "# driver.find_element_by_css_selector('li.interest_goods_service > a').click()"
   ]
  },
  {
   "cell_type": "code",
   "execution_count": 26,
   "metadata": {},
   "outputs": [],
   "source": [
    "html = driver.page_source"
   ]
  },
  {
   "cell_type": "code",
   "execution_count": 27,
   "metadata": {
    "collapsed": true
   },
   "outputs": [
    {
     "data": {
      "text/plain": [
       "'<html xmlns=\"http://www.w3.org/1999/xhtml\" xml:lang=\"ko\" lang=\"ko\"><head>\\n<title>관심상품 : 다나와 마이페이지</title>\\n<!-- <meta http-equiv=\"Content-Type\" content=\"text/html; charset=utf-8\"/> -->\\n<meta http-equiv=\"Content-Type\" content=\"text/html; charset=utf-8\"><meta http-equiv=\"X-UA-Compatible\" content=\"IE=edge\"><meta name=\"Title\" content=\"관심상품 : 다나와 마이페이지\"><meta name=\"Description\" content=\"다나와는 온라인 전제품에 대한 가격비교 사이트 입니다. 안전구매시스템(전자보증,Escrow)을 갖춘 쇼핑몰의 최저 가격 정보를 보여드리며, 다양한 각도의 상품 사진, 상세 설명, 소비자 의견 등을 한곳에서 볼 수 있습니다. 즐거운 비교 쇼핑,다나와!\">\\n<meta name=\"Keywords\" content=\"가격비교, 상품 추천, 가격비교사이트, 다나와, 가격비교 싸이트, 가격 검색, 최저가, 추천, 인터넷쇼핑, 온라인쇼핑, 쇼핑, 쇼핑몰, 싸게 파는 곳, 지식쇼핑\">\\n<meta property=\"og:title\" content=\"관심상품 : 다나와 마이페이지\">\\n<meta property=\"og:image\" content=\"http://img.danawa.com/new/tour/img/logo/sns_danawa.jpg\">\\n<meta property=\"og:description\" content=\"관심상품\">\\n<meta content=\"width=1200\" name=\"viewport\">\\n<link rel=\"shortcut icon\" href=\"//img.danawa.com/new/danawa_main/v1/img/danawa_favicon.ico\">\\n<link rel=\"stylesheet\" type=\"text/css\" href=\"//static.danawa.com/new/recss/common.css?v=2008061111\">\\n<link rel=\"stylesheet\" type=\"text/css\" href=\"//static.danawa.com/new/recss/navigation.css?v=2008061111\">\\n<link rel=\"stylesheet\" type=\"text/css\" href=\"//static.danawa.com/new/recss/wish_pop.css?v=2008061111\">\\n<link rel=\"stylesheet\" type=\"text/css\" href=\"//static.danawa.com/new/recss/mypage_v2.css\">\\n<script type=\"text/javascript\" async=\"\" src=\"https://www.google-analytics.com/analytics.js\"></script><script type=\"text/javascript\" src=\"//static.danawa.com/globaljs/external/jquery/core/last/jquery-last.min.js?v=2007081800\"></script>\\n<script type=\"text/javascript\" charset=\"euc-kr\" src=\"/globaljs/com/danawa/common/gnb_ui.js?v=2007081800\"></script>\\n<script type=\"text/javascript\" charset=\"euc-kr\" src=\"/globaljs/com/danawa/common/jquery.addProductToWishList.js?v=2007081800\"></script>\\n<script type=\"text/javascript\" src=\"//static.danawa.com/globaljs/external/jquery/plugin/jquery.cookie/jquery.cookie.js\"></script>\\n<script type=\"text/javascript\" charset=\"utf-8\" src=\"//static.danawa.com/globaljs/com/danawa/common/searchAutocompleteLayer_UTF8.js?v=2007081800\"></script>\\n<script type=\"text/javascript\" src=\"//static.danawa.com/globaljs/static/common_func.js\"></script>\\n<script type=\"text/javascript\" src=\"//static.danawa.com/globaljs/static/prod_view.js\"></script>\\n<script type=\"text/javascript\" src=\"//static.danawa.com/globaljs/static/logger_trackEvent.js\"></script>\\n<script type=\"text/javascript\" src=\"//static.danawa.com/globaljs/static/getRealOffsetXY.js\"></script>\\n<script type=\"text/javascript\" src=\"//static.danawa.com/globaljs/static/scroller2.js\"></script>\\n<script type=\"text/javascript\" src=\"//static.danawa.com/globaljs/static/slideMenu2.js\"></script>\\n<script type=\"text/javascript\" src=\"//static.danawa.com/globaljs/static/getRealOffsetXY.js\"></script>\\n<script src=\"//rum.beusable.net/script/b180313e103010u949/078affcc49\" async=\"\" type=\"text/javascript\"></script><img src=\"http://tracking.adweb.co.kr/t/simple.php?u=http%3A%2F%2Fwww.danawa.com%2FmyPage%2FwishList.php&amp;r=http%3A%2F%2Fwww.danawa.com%2F&amp;t=1602729397&amp;s=danawacom&amp;i=53ad8ae7-3165-2069-853b-edc8c3c08166&amp;c=page&amp;d=%7B%22cs%22%3A%22UTF-8%22%7D&amp;e=Y\" style=\"border: 0px; width: 0px; height: 0px; display: none;\"><img src=\"http://tracking02.adweb.co.kr/t/simple.php?u=http%3A%2F%2Fwww.danawa.com%2FmyPage%2FwishList.php&amp;r=http%3A%2F%2Fwww.danawa.com%2F&amp;t=1602729397&amp;s=danawacom&amp;i=53ad8ae7-3165-2069-853b-edc8c3c08166&amp;c=page&amp;d=%7B%22cs%22%3A%22UTF-8%22%7D&amp;e=Y\" style=\"border: 0px; width: 0px; height: 0px; display: none;\"><img src=\"http://tracking.adweb.co.kr/tracking/log4php_danawa.php?url=http%3A%2F%2Fwww.danawa.com%2FmyPage%2FwishList.php&amp;referrer=http%3A%2F%2Fwww.danawa.com%2F&amp;uuid=53ad8ae7-3165-2069-853b-edc8c3c08166&amp;site=danawa.com&amp;account=danawacom&amp;searchkeyword=&amp;searchurl=&amp;adkeyword=&amp;adsite=&amp;adarea=&amp;category=page&amp;namming=&amp;login=&amp;price=&amp;goodsno=&amp;productCount=&amp;productName=&amp;time=20201015113637&amp;serviceId=&amp;serviceTime=&amp;serviceDomain=&amp;serviceKeyword=&amp;company=&amp;landing=&amp;check=Y\" style=\"border: 0px; width: 0px; height: 0px; display: none;\"><img src=\"http://tracking02.adweb.co.kr/tracking/log4php_danawa.php?url=http%3A%2F%2Fwww.danawa.com%2FmyPage%2FwishList.php&amp;referrer=http%3A%2F%2Fwww.danawa.com%2F&amp;uuid=53ad8ae7-3165-2069-853b-edc8c3c08166&amp;site=danawa.com&amp;account=danawacom&amp;searchkeyword=&amp;searchurl=&amp;adkeyword=&amp;adsite=&amp;adarea=&amp;category=page&amp;namming=&amp;login=&amp;price=&amp;goodsno=&amp;productCount=&amp;productName=&amp;time=20201015113637&amp;serviceId=&amp;serviceTime=&amp;serviceDomain=&amp;serviceKeyword=&amp;company=&amp;landing=&amp;check=Y\" style=\"border: 0px; width: 0px; height: 0px; display: none;\"><script src=\"//rum.beusable.net/script/checker/b180313e103010u949/078affcc49?url=http%3A%2F%2Fwww.danawa.com%2FmyPage%2FwishList.php\" async=\"\" type=\"text/javascript\"></script></head>\\n<body><div id=\"skip_navigation\">\\n<a href=\"#danawa_header\" onclick=\"document.getElementById(\\'danawa_header\\').tabIndex=-1;document.getElementById(\\'danawa_header\\').focus();return false;\"><span>메인 메뉴로 바로가기</span></a>\\n<a href=\"#danawa_container\" onclick=\"document.getElementById(\\'danawa_container\\').tabIndex=-1;document.getElementById(\\'danawa_container\\').focus();return false;\"><span>본문으로 바로가기</span></a>\\n</div>\\n\\n<div id=\"danawa_wrap\" class=\"\">\\n\\t<div id=\"danawa_header\">\\n\\t\\t<div class=\"danawa_gnb\">\\n\\t\\t\\t<div class=\"danawa_gnb_center\">\\n\\t\\t\\t\\t<h2 class=\"screen_out\">상단 서비스 목록</h2>\\n\\t\\t\\t\\t<div class=\"top_list_ty1 top_service_list\">\\n\\t<ul>\\n\\t\\t<li class=\"mobile_service_app\"><span class=\"btn_apss_wrap\"><a href=\"#mobile_service_layer\" target=\"_self\" class=\"icon_gnb_mobile \" onclick=\"return false;\">다나와 앱</a></span>\\n\\t\\t\\t<div id=\"mobile_service_layer\" class=\"mobile_service_layer\">\\n\\t\\t\\t<input type=\"hidden\" id=\"now_mobileApp\" value=\"priceCompare\">\\n\\t\\t\\t\\t<h3 class=\"screen_out\">다나와 앱 서비스 목록</h3>\\n\\t\\t\\t\\t<div class=\"gnb_apps_list\">\\n\\t\\t\\t\\t\\t<a href=\"#mobile_service_layer\" onclick=\"getLayerInfo(this,\\'priceCompare\\'); return false;\" class=\"gnb_apps_link first_gnb_apps active_apps\">가격비교</a><!-- 선택된 링크 class=active_apps -->\\n\\t\\t\\t\\t\\t<a href=\"#mobile_service_layer\" onclick=\"getLayerInfo(this,\\'dmall\\'); return false;\" class=\"gnb_apps_link\">장터</a>\\n\\t\\t\\t\\t\\t<a href=\"#mobile_service_layer\" onclick=\"getLayerInfo(this,\\'estimate\\'); return false;\" class=\"gnb_apps_link\">PC견적</a>\\n\\t\\t\\t\\t\\t<a href=\"#mobile_service_layer\" onclick=\"getLayerInfo(this,\\'event\\'); return false;\" class=\"gnb_apps_link\">이벤트</a>\\n\\t\\t\\t\\t\\t<a href=\"#mobile_service_layer\" onclick=\"getLayerInfo(this,\\'autoPush\\'); return false;\" class=\"gnb_apps_link\">자동차</a>\\n\\t\\t\\t\\t</div>\\n\\t\\t\\t\\t<div class=\"gnb_apps_conts\">\\n\\t\\t\\t\\t\\t<div class=\"gnb_apps_imgs\" id=\"layerInfo_priceCompare\">\\n\\t\\t\\t\\t\\t\\t<span class=\"gnb_appimg_wrap\"><img src=\"http://img.danawa.com/new/danawaApp/img/app1.gif\" alt=\"다나와 APP\"></span>\\n\\t\\t\\t\\t\\t\\t<span class=\"gnb_apps_txt\">No.1 가격비교사이트 다나와 앱으로 <br>간편하게 최저가를 확인하세요.</span>\\n\\t\\t\\t\\t\\t</div>\\n\\n\\t\\t\\t\\t\\t<div class=\"gnb_apps_imgs\" id=\"layerInfo_dmall\" style=\"display:none\">\\n\\t\\t\\t\\t\\t\\t<span class=\"gnb_appimg_wrap\"><img src=\"http://img.danawa.com/new/danawaApp/img/app2.gif\" alt=\"다나와 장터\"></span>\\n\\t\\t\\t\\t\\t\\t<span class=\"gnb_apps_txt\">언제 어디서나 빠르고 간편하게 상품을 팔거나 살 수 있는<br>스마트한 모바일 장터입니다.</span>\\n\\t\\t\\t\\t\\t</div>\\n\\n\\t\\t\\t\\t\\t<div class=\"gnb_apps_imgs\" id=\"layerInfo_estimate\" style=\"display:none\">\\n\\t\\t\\t\\t\\t\\t<span class=\"gnb_appimg_wrap\"><img src=\"http://img.danawa.com/new/danawaApp/img/app3.gif\" alt=\"PC견적\"></span>\\n\\t\\t\\t\\t\\t\\t<span class=\"gnb_apps_txt\">PC조립을 위한 최고의 어플<br>실시간 최저가로 손쉽게 조립PC를 구성해보세요.</span>\\n\\t\\t\\t\\t\\t</div>\\n\\n\\t\\t\\t\\t\\t<div class=\"gnb_apps_imgs\" id=\"layerInfo_event\" style=\"display:none\">\\n\\t\\t\\t\\t\\t\\t<span class=\"gnb_appimg_wrap\"><img src=\"http://img.danawa.com/new/danawaApp/img/app8.gif\" alt=\"이벤트\"></span>\\n\\t\\t\\t\\t\\t\\t<span class=\"gnb_apps_txt\">항시 100개 이상의 이벤트를 언제 어디서든<br>자유롭고 편리하게 응모 할 수 있습니다.</span>\\n\\t\\t\\t\\t\\t</div>\\n\\n\\t\\t\\t\\t\\t<div class=\"gnb_apps_imgs\" id=\"layerInfo_autoPush\" style=\"display:none\">\\n\\t\\t\\t\\t\\t\\t<span class=\"gnb_appimg_wrap\"><img src=\"http://img.danawa.com/new/danawaApp/img/app6.gif\" alt=\"자동차\"></span>\\n\\t\\t\\t\\t\\t\\t<span class=\"gnb_apps_txt\">대한민국 최대 규모의 정보를 자랑하는 신차견적, 견적평가,<br>중고차 매물 검색, 자동차 뉴스, 커뮤니티 등 자동차 관련<br>소식을 받아보실 수 있습니다.</span>\\n\\t\\t\\t\\t\\t</div>\\n\\n\\t\\t\\t\\t\\t<div class=\"gnb_apps_bottom\">\\n\\t\\t\\t\\t\\t\\t<div class=\"sms_get_area\">\\n\\t\\t\\t\\t\\t\\t\\t<h4 class=\"title_gnb_apps\">SMS 문자로 받기</h4>\\n\\t\\t\\t\\t\\t\\t\\t<div class=\"sms_number_area\">\\n\\t\\t\\t\\t\\t\\t\\t\\t<input type=\"text\" class=\"input_size_01 input_color_blue\" id=\"smsNumber_first\" value=\"\" title=\"휴대폰 앞자리 입력\"><span class=\"input_bar\">-</span><input type=\"text\" value=\"\" class=\"input_size_01\" id=\"smsNumber_middle\" title=\"휴대폰 중간 네자리 입력\"><span class=\"input_bar\">-</span><input type=\"text\" value=\"\" class=\"input_size_01\" id=\"smsNumber_last\" title=\"휴대폰 끝자리 입력\">\\n\\t\\t\\t\\t\\t\\t\\t</div>\\n\\n\\t\\t\\t\\t\\t\\t\\t<div class=\"sms_send_btn\">\\n\\t\\t\\t\\t\\t\\t\\t\\t<button class=\"btn_sms_send\">보내기</button>\\n\\t\\t\\t\\t\\t\\t\\t</div>\\n\\t\\t\\t\\t\\t\\t\\t<p class=\"txt_sms_01\"></p>\\n\\t\\t\\t\\t\\t\\t</div>\\n\\n\\t\\t\\t\\t\\t\\t<div class=\"qr_code_area\">\\n\\t\\t\\t\\t\\t\\t\\t<h4 class=\"title_gnb_apps\">QR코드</h4>\\n\\t\\t\\t\\t\\t\\t\\t<div class=\"qr_image_area\">\\n\\t\\t\\t\\t\\t\\t\\t\\t<img id=\"qrCode_image\" src=\"//img.danawa.com/mobileApp/qrcode/img_priceCompare_real.png\" alt=\"가격비교 앱 다운로드 QR코드\">\\n\\t\\t\\t\\t\\t\\t\\t</div>\\n\\t\\t\\t\\t\\t\\t</div>\\n\\t\\t\\t\\t\\t</div>\\n\\t\\t\\t\\t\\t<a href=\"#mobile_service_layer\" class=\"btn_apps_close\" onclick=\"return false;\"> 닫기</a>\\n\\t\\t\\t\\t</div>\\n\\t\\t\\t</div>\\n\\t\\t</li>\\n\\t</ul>\\n</div>\\n<div class=\"top_list_ty1 top_service_login\">\\n\\t<ul>\\n\\t\\t<li><a href=\"http://auto.danawa.com\" target=\"_blank\">자동차</a></li>\\n\\t\\t<li><a href=\"http://shop.danawa.com/shopmain/?logger_kw=dnw_top_pcmain\" target=\"_blank\">조립PC</a></li>\\n\\t\\t<li><a href=\"http://shop.danawa.com/virtualestimate/?controller=estimateMain&amp;methods=index&amp;marketPlaceSeq=16&amp;logger_kw=dnw_top_esti\" target=\"_blank\">PC견적</a></li>\\n\\t\\t<li><a href=\"http://shop.danawa.com/shopmain/?controller=main&amp;methods=usedMarket&amp;logger_kw=dnw_top_used\" target=\"_blank\">중고장터</a></li>\\n\\t\\t\\t\\t<li><a href=\"http://prod.danawa.com/hotdeal/\" target=\"_self\">핫딜</a></li>\\n\\t\\t\\t\\t<li><a href=\"http://tour.danawa.com/\" target=\"_self\">여행</a></li>\\n\\t\\t\\t\\t<li><a href=\"http://plan.danawa.com/\" target=\"_self\">쇼핑기획전</a></li>\\n\\t\\t\\t\\t<li><a href=\"http://dpg.danawa.com/bbs\" target=\"_self\">DPG</a></li>\\n\\t\\t\\t\\t<li><a href=\"http://event.danawa.com/\" target=\"_self\">이벤트</a><span class=\"top_link_dv\">/</span><a href=\"http://event.danawa.com/experience/\" target=\"_self\">체험단</a></li>\\n\\t\\t\\t\\t<li class=\"more_service\">\\n\\t\\t\\t<a href=\"#more_service_layer2\" class=\"more_sevice_click\" onclick=\"return false;\">더보기 <span class=\"screen_out\">열기</span></a>\\n\\t\\t\\t<div id=\"more_service_layer2\" style=\"display:none\">\\n\\t\\t\\t\\t<a href=\"http://www.danawa.com/info/map.html\" class=\"more_service_all\">서비스 전체보기</a>\\n\\t\\t\\t\\t\\t<div class=\"more_service_list\">\\n\\t\\t\\t\\t\\t\\t<ul class=\"mserv_ul\">\\n\\t\\t\\t\\t\\t\\t\\t<li class=\"msev_li\"><a href=\"http://shop.danawa.com/main/?logger_kw=dnw_topmore_shopmain\" target=\"_blank\">샵다나와</a></li>\\n\\t\\t\\t\\t\\t\\t\\t<li class=\"msev_li\"><a href=\"http://brand.danawa.com/\" target=\"_self\">브랜드로그</a></li>\\n\\t\\t\\t\\t\\t\\t\\t<li class=\"msev_li\"><a href=\"http://dmall.danawa.com/v3/?logger_kw=dnw_topmore_dmall\" target=\"_blank\">장터</a></li>\\n\\t\\t\\t\\t\\t\\t\\t<li class=\"msev_li\"><a href=\"http://news.danawa.com/tv?page=index\" target=\"_self\">동영상</a></li>\\n\\t\\t\\t\\t\\t\\t\\t<li class=\"msev_li\"><a href=\"http://shop.danawa.com/main/?controller=used&amp;methods=index&amp;logger_kw=dnw_topmore_used_purch\" target=\"_blank\">중고매입</a></li>\\n\\t\\t\\t\\t\\t\\t\\t<li class=\"msev_li\"><a href=\"http://nanum.danawa.com/\" target=\"_blank\">사회공헌</a></li>\\n\\t\\t\\t\\t\\t\\t\\t<li class=\"msev_li\"><a href=\"http://dasale.danawa.com/\" target=\"_self\">다나와특가몰</a></li>\\n\\t\\t\\t\\t\\t\\t\\t<li class=\"msev_li\"><a href=\"http://www.danawa.com/mobileApp/intro.php\" target=\"_self\">모바일 앱</a></li>\\n\\t\\t\\t\\t\\t\\t\\t<li class=\"msev_li\"><a href=\"http://shop.danawa.com/offcenter/?controller=main&amp;methods=index&amp;logger_kw=dnw_topmore_as\" target=\"_blank\">다나와AS</a></li>\\n\\t\\t\\t\\t\\t\\t\\t<li class=\"msev_li\"><a href=\"http://pc26.danawa.com/bbs/\" target=\"_blank\">PC26</a></li>\\n\\t\\t\\t\\t\\t\\t</ul>\\n\\t\\t\\t\\t\\t</div>\\n\\t\\t\\t</div>\\n\\t\\t</li>\\n\\t</ul>\\n</div>\\t\\t\\t</div>\\n\\t\\t</div>\\n\\t\\t<div class=\"danawa_top_search\">\\n\\t\\t\\t\\t\\t\\t\\t<div class=\"danawa_search_center\">\\n\\t\\t\\t\\t\\t<div class=\"top_logo_area\">\\n\\t\\t\\t\\t\\t\\t<h1 class=\"sub_h1\"><a href=\"http://www.danawa.com\"><img src=\"//img.danawa.com/new/danawa_main/v1/img/danawa_logo_sub.png\" alt=\"다나와 가격비교 CI\"></a></h1>\\n\\t\\t\\t\\t\\t\\t<h2><a href=\"http://www.danawa.com/member/myPage.php\"><img src=\"//img.danawa.com/new/newmain/img/h2_section113.jpg\" alt=\"마이페이지\"></a></h2>\\n\\t\\t\\t\\t\\t</div>\\n\\n\\t\\t\\t\\t\\t\\t\\t\\t\\t\\t<div class=\"search_middle_area\">\\n\\t\\t\\t\\t\\t\\t<div class=\"top_search_area\">\\n\\t\\t\\t\\t\\t\\t\\t\\t\\t\\t\\t\\t\\t\\t<form id=\"srchFRM_TOP\" name=\"srchFRM_TOP\" method=\"get\" action=\"http://search.danawa.com/dsearch.php\">\\n\\t\\t\\t\\t\\t\\t\\t\\t\\t\\t\\t\\t\\t\\t<fieldset>\\n\\t\\t\\t\\t\\t\\t\\t\\t<legend>검색</legend>\\n\\t\\t\\t\\t\\t\\t\\t\\t\\t<div class=\"search_area_content\">\\n\\t\\t<input type=\"text\" class=\"search_words_insert\" name=\"k1\" id=\"AKCSearch\" autocomplete=\"off\" title=\"검색어 입력\">\\n\\t\\t<input id=\"module\" name=\"module\" value=\"goods\" type=\"hidden\">\\n\\t\\t<input id=\"act\" name=\"act\" value=\"dispMain\" type=\"hidden\">\\n\\t\\t<button class=\"btn_search_submit\"><span>검색</span></button>\\n\\t</div>\\t\\t\\t\\t\\t\\t\\t<div id=\"auto_area2\" class=\"auto_complete_area\" style=\"display: none;\"><div id=\"akcLayer\" class=\"auto_word_list\" style=\"\"><ul></ul><div id=\"layerFunctionBtn\" class=\"func_opt\"><a class=\"com_gnb keyword_all_delete\">전체 삭제</a><a href=\"#\" class=\"com_gnb auto_function_switch\" id=\"function_switch_keyword\">자동완성 끄기</a></div><div id=\"mySearchKeywordBlockArea\" style=\"display: none;\"><dl class=\"searched_keyword\"><dt>내가 검색한 키워드</dt><dd><ul class=\"searched_keyword_info\" id=\"mySearchKeywordListArea\"></ul></dd></dl></div></div><div class=\"auto_product_list\" style=\"\"><ul id=\"auto_goods_list\" class=\"auto_goods_list\" style=\"display: none;\"></ul><ul id=\"auto_banner_layer\" class=\"goods_banner\"><li><iframe width=\"300\" title=\"자동완성 광고영역\" scrolling=\"no\" height=\"250\" frameborder=\"0\" src=\"//ad.danawa.com/RealMedia/ads/adstream_sx.ads/www.danawa.com/main@Top1\" marginheight=\"0\" marginwidth=\"0\"></iframe></li></ul></div><div></div></div></fieldset>\\n\\t\\t\\t\\t\\t\\t\\t</form>\\n\\t\\t\\t\\t\\t\\t</div>\\n\\t\\t\\t\\t\\t</div>\\n\\t\\t\\t\\t\\t\\n\\t\\t\\t\\t\\t<div class=\"my_service2\">\\n\\t\\t\\t\\t\\t\\t\\n<h2 class=\"screen_out\">다나와 내 서비스 목록</h2>\\n<div class=\"my_service_list3\">\\n\\t<ul class=\"my_serv_ul\">\\n\\t\\t<li class=\"recently_seeing_goods\">\\n\\t\\t\\t<a href=\"#\" onclick=\"return false;\" class=\"\">\\n\\t\\t\\t\\t<span class=\"my_serv_tit\">최근본상품</span>\\n\\t\\t\\t\\t\\t\\t\\t</a>\\n\\t\\t</li>\\n\\t\\t<li class=\"interest_goods_service\">\\n\\t\\t\\t<a href=\"http://www.danawa.com/myPage/wishList.php\">\\n\\t\\t\\t\\t<span class=\"my_serv_tit\">관심상품</span>\\n\\t\\t\\t\\t<span class=\"number_has\">2</span>\\t\\t\\t</a>\\n\\t\\t</li>\\n\\t\\t<li class=\"my_page_service\">\\n\\t\\t\\t<a href=\"http://www.danawa.com/member/myPage.php\">\\n\\t\\t\\t\\t<span class=\"my_serv_tit\">sinca77<em class=\"lo_nim\">님</em></span>\\n\\n\\t\\t\\t</a>\\n\\t\\t</li>\\n\\t</ul>\\n</div>\\n\\n<input type=\"hidden\" id=\"browserCode\" value=\"\">\\n<input type=\"hidden\" id=\"memberSeq\" value=\"6473690\">\\n\\n<div class=\"my_service_layer renew\" style=\"display: none;\">\\n\\t<div class=\"ico_tarw_com\"></div>\\n\\t<!-- msl_left -->\\n\\t<div class=\"msl_left\" id=\"mslLeft\">\\n\\n\\t</div>\\n\\t<!--// msl_left -->\\n\\n\\t<!-- msl_right -->\\n\\t<div class=\"msl_right\">\\n\\t\\t<div class=\"mr_sale\" id=\"mslRight\">\\n\\t\\t</div>\\n\\t\\t<div class=\"msl_close_wrap\">\\n\\t\\t\\t<a href=\"#\" class=\"msl_close\">닫기</a>\\n\\t\\t</div>\\n\\n\\t</div>\\n\\t<!--// msl_right -->\\n</div>\\n\\n<div class=\"my_login_slayer\" style=\"display:none\">\\n\\t<div class=\"ico_tarw_com\"></div>\\n\\t<ul class=\"my_login_ul\">\\n\\t\\t<li class=\"mlog_li\"><a href=\"http://www.danawa.com/member/myPage.php\" class=\"mlog_a\">마이페이지</a></li><li class=\"mlog_li\"><a href=\"https://buyer.danawa.com/order/Order/orderList\" class=\"mlog_a\">주문/배송조회</a></li><li class=\"mlog_li\"><a href=\"#\" class=\"mlog_a\" onclick=\"javascript:$.viewMyNote();\">쪽지 <span id=\"message_count\"></span></a></li><li class=\"mlog_li\"><a href=\"http://adcenter.danawa.com\" class=\"mlog_a\">광고센터</a></li><li class=\"mlog_li\"><a href=\"http://help.danawa.com\" class=\"mlog_a\">고객센터</a></li><li class=\"mlog_li\"><a href=\"https://auth.danawa.com/logout?url=http%3A%2F%2Fwww.danawa.com%2FmyPage%2FwishList.php\" class=\"mlog_a\">로그아웃</a></li>\\t</ul>\\n</div>\\t\\t\\t\\t\\t</div>\\n\\n\\t\\t\\t\\t</div>\\n\\n\\n\\t\\t\\t\\t\\n\\t\\t\\t\\t<script type=\"text/javascript\">\\n\\t\\t\\t\\tjQuery(document).ready(function($){ new $(\"FORM#srchFRM_TOP\").danawaSearchAutoComplete({\"gnbCode\":3}); });\\n\\t\\t\\t\\t</script>\\n<!-- \\t\\t\\t</div> -->\\n\\t\\t</div>\\n\\t</div>\\n\\n\\t<div id=\"danawa_container\" class=\"mypage_wrap\">\\n<hr><script type=\"text/javascript\">\\n    function modifyInfo() {\\n        if (confirm(\"회원정보를 수정 하시겠습니까?\")) {\\n            window.open(\\'https://auth.danawa.com/modifyMember\\', \\'_self\\');\\n            return true;\\n        } else {\\n            return false;\\n        }\\n    }\\n</script>\\n<!-- snb_area -->\\n<div class=\"snb_area\">\\n    <!-- user_area -->\\n    <div class=\"user_area\">\\n        <div class=\"my_thumb\">\\n            <a href=\"javascript:;\" onclick=\"modifyInfo();\"><span class=\"p_img\"><img src=\"//img.danawa.com/icon/icon_default_01.gif\" alt=\"닉네임\" onerror=\"this.src=\\'//img.danawa.com/icon/icon_default_01.gif\\'\"></span></a>\\n            <!-- m레벨일 경우 level_m 추가, g레벨일 경우 level_g 추가 -->\\n            <span class=\"p_level level_l\"><span class=\"num\">L1</span></span>\\n        </div>\\n        <div class=\"my_info\">\\n            <p class=\"p_nick\"><strong>sinca77</strong>님</p>\\n            <p class=\"p_id\">(sinca77)</p>\\n        </div>\\n        <dl class=\"my_point\">\\n            <dt><span class=\"dot\"></span>다나와 포인트</dt>\\n            <dd>\\n                <em class=\"num\">0</em>\\n                <span class=\"num txt\">P</span>\\n            </dd>\\n        </dl>\\n        <dl class=\"my_point mp_money\">\\n            <dt><span class=\"dot\"></span>사이버머니</dt>\\n            <dd>\\n                <em class=\"num\">0</em>\\n                <span class=\"txt\">원</span>\\n            </dd>\\n        </dl>\\n        <div class=\"my_btn\">\\n            <a href=\"javascript:;\" onclick=\"modifyInfo();\" class=\"btn_profile\">회원정보수정</a>\\n        </div>\\n    </div>\\n    <!--// user_area -->\\n    <!-- menu_area -->\\n    <div class=\"menu_area\">\\n        <dl class=\"menu_lst\">\\n            <dt><span class=\"tit\">쇼핑내역</span></dt>\\n            <dd>\\n                <ul>\\n                    <li><a id=\"link1\" href=\"https://buyer.danawa.com/order/Order/orderList\" target=\"_blank\">주문/배송조회</a></li>\\n                    <li><a id=\"link2\" href=\"http://eshop.danawa.com/myPage/eshopOrderView.php\">전문몰 거래내역</a></li>\\n                    <li><a id=\"link3\" href=\"http://dmall.danawa.com/v3/?controller=mypage&amp;methods=index#1\" target=\"_blank\">장터 거래내역</a></li>\\n                </ul>\\n            </dd>\\n            <dt><a id=\"link4\" class=\"on\" href=\"http://www.danawa.com/myPage/wishList.php\">관심상품</a></dt>\\n            <dt><a id=\"link5\" href=\"http://www.danawa.com/myPage/estimateList.php\">PC견적함</a></dt>\\n            <dt><span class=\"tit\">활동내역</span></dt>\\n            <dd>\\n                <ul>\\n                    <li><a id=\"link6\" href=\"http://dpg.danawa.com/myPage/danawaPoint\">다나와 포인트</a></li>\\n                    <li><a id=\"link7\" href=\"http://dpg.danawa.com/myPage/writeArticle \">DPG 활동내역</a></li>\\n                    <li><a id=\"link8\" href=\"http://event.danawa.com/event/applyEventList?tab=1\">이벤트/체험단</a></li>\\n                    <li><a id=\"link9\" href=\"http://shop.danawa.com/main/?controller=board&amp;methods=mySellerQna\" target=\"_blank\">판매점 문의내역</a></li>\\n                    <li><a id=\"link10\" href=\"http://help.danawa.com/onlineInquiryForm.php?urlPath=receipt\" target=\"_blank\">고객센터 문의내역</a></li>\\n                </ul>\\n            </dd>\\n            <dt><span class=\"tit\">다나와 리포터</span></dt>\\n            <dd>\\n                <ul>\\n                    <li><a id=\"link11\" href=\"http://dpg.danawa.com/myPage/reporter\">리포터 관리</a></li>\\n                                    </ul>\\n            </dd>\\n        </dl>\\n    </div>\\n    <!--// menu_area -->\\n</div>\\n<!--// snb_area --><div class=\"cont_area\">\\n\\t<div class=\"wish_wrap\">\\n\\t\\t<div class=\"sub_box\">\\n\\t\\t\\t<div class=\"head\">\\n\\t\\t\\t\\t<h2 class=\"b_tit\">관심상품</h2>\\n\\t\\t\\t\\t<span class=\"b_count\">(<strong>2</strong>)</span>\\n\\t\\t\\t\\t\\t\\t\\t\\t<span class=\"sub_txt\">관심상품은 보관함 접속일로부터 6개월까지 저장되며 보관함에 접속할 때마다 저장 기간이 연장됩니다.</span>\\n\\t\\t\\t\\t\\t\\t\\t</div>\\n\\t\\t\\t<div class=\"cont\">\\n\\t\\t\\t\\t\\t\\t\\t<div class=\"folder_area fol_v2\" id=\"myFolderArea\"><!-- 상단 탭 없을 경우 fol_v2 클래스 추가 -->\\n\\t\\t\\t\\t\\t<ul class=\"fol_lst\">\\n\\t\\t\\t\\t\\t\\t\\t\\t\\t\\t\\t\\t<li class=\"on last\" id=\"myFolderMain_28129140\">\\n\\t\\t\\t\\t\\t\\t\\t\\t<a href=\"#\" onclick=\"return false;\">\\n\\t\\t\\t\\t\\t\\t\\t\\t\\t<span class=\"folderName\">관심상품1</span> (<span class=\"folderCount\">2</span>)\\n\\t\\t\\t\\t\\t\\t\\t\\t</a>\\n\\t\\t\\t\\t\\t\\t\\t</li>\\n\\t\\t\\t\\t\\t\\t\\t\\t\\t\\t\\t</ul>\\n\\t\\t\\t\\t\\t<div class=\"btn_rgt\">\\n\\t\\t\\t\\t\\t\\t<div class=\"layer_wrap\">\\n\\t\\t\\t\\t\\t\\t\\t<a href=\"#\" class=\"btn\" onclick=\"return false;\" id=\"showFolderManagerBtn\">관심상품 폴더관리</a><!-- 활성화 시 on 클래스 추가 -->\\n\\t\\t\\t\\t\\t\\t\\t<div class=\"layer_folder\" id=\"LAY_FolderManager\">\\n\\t\\t\\t\\t\\t\\t\\t\\t<div class=\"layer_container\">\\n\\t\\t\\t\\t\\t\\t\\t\\t\\t<div class=\"header\">\\n\\t\\t\\t\\t\\t\\t\\t\\t\\t\\t<p class=\"title\">관심상품 폴더 관리</p>\\n\\t\\t\\t\\t\\t\\t\\t\\t\\t\\t<a href=\"#\" onclick=\"return false;\" class=\"com_gnb btn_service_close\">닫기</a>\\n\\t\\t\\t\\t\\t\\t\\t\\t\\t</div>\\n\\t\\t\\t\\t\\t\\t\\t\\t\\t<div class=\"content\">\\n\\t\\t\\t\\t\\t\\t\\t\\t\\t\\t<p class=\"sub_txt\">관심상품 폴더는 최대 10개까지 만들 수 있습니다.</p>\\n\\t\\t\\t\\t\\t\\t\\t\\t\\t\\t<div class=\"folder_input\" id=\"folderInputArea\">\\n\\t\\t\\t\\t\\t\\t\\t\\t\\t\\t\\t<input type=\"text\" placeholder=\"폴더명을 입력하세요.\" title=\"폴더명을 입력하세요.\" class=\"srh_input\" id=\"createFolderInputBox\">\\n\\t\\t\\t\\t\\t\\t\\t\\t\\t\\t\\t<a href=\"#\" onclick=\"return false;\" class=\"btn_de_srch\">확인</a>\\n\\t\\t\\t\\t\\t\\t\\t\\t\\t\\t\\t<a href=\"#\" onclick=\"return false;\" class=\"btn_de_cls\">취소</a>\\n\\t\\t\\t\\t\\t\\t\\t\\t\\t\\t</div>\\n\\t\\t\\t\\t\\t\\t\\t\\t\\t\\t<div class=\"folder_list\">\\n\\t\\t\\t\\t\\t\\t\\t\\t\\t\\t\\t<ul>\\n\\t\\t\\t\\t\\t\\t\\t\\t\\t\\t\\t\\t\\t\\t\\t\\t\\t\\t\\t\\t\\t\\t\\t<li id=\"folderList_28129140\">\\n\\t\\t\\t\\t\\t\\t\\t\\t\\t\\t\\t\\t\\t<input type=\"hidden\" class=\"folder_seq\" value=\"28129140\">\\n\\t\\t\\t\\t\\t\\t\\t\\t\\t\\t\\t\\t\\t<input type=\"hidden\" id=\"folder_name_28129140\" value=\"관심상품1\">\\n\\t\\t\\t\\t\\t\\t\\t\\t\\t\\t\\t\\t\\t<input type=\"text\" class=\"input_name\" title=\"폴더명 입력\" id=\"folderNameTxt_28129140\" value=\"관심상품1\" style=\"display: none;\" onkeyup=\"limitTextLength(\\'folderNameTxt_28129140\\');\">\\n\\t\\t\\t\\t\\t\\t\\t\\t\\t\\t\\t\\t\\t<span class=\"folder_name\">관심상품1</span>\\n\\t\\t\\t\\t\\t\\t\\t\\t\\t\\t\\t\\t\\t<div class=\"folder_btn\">\\n\\t\\t\\t\\t\\t\\t\\t\\t\\t\\t\\t\\t\\t\\t<a href=\"#\" onclick=\"return false;\" class=\"modifyFolderBtn leftBtn\">수정</a><a href=\"#\" onclick=\"return false;\" class=\"deleteFolderBtn rightBtn\">삭제</a>\\n\\t\\t\\t\\t\\t\\t\\t\\t\\t\\t\\t\\t\\t</div>\\n\\t\\t\\t\\t\\t\\t\\t\\t\\t\\t\\t\\t</li>\\n\\t\\t\\t\\t\\t\\t\\t\\t\\t\\t\\t\\t\\t\\t\\t\\t\\t\\t\\t\\t\\t\\t</ul>\\n\\t\\t\\t\\t\\t\\t\\t\\t\\t\\t</div>\\n\\t\\t\\t\\t\\t\\t\\t\\t\\t</div>\\n\\t\\t\\t\\t\\t\\t\\t\\t</div>\\n\\t\\t\\t\\t\\t\\t\\t</div>\\n\\t\\t\\t\\t\\t\\t</div>\\n\\t\\t\\t\\t\\t</div>\\n\\t\\t\\t\\t</div>\\n\\t\\t\\t\\t\\t\\t\\t<div class=\"est_detail\" id=\"MyWishListUl\">\\n\\t\\t\\t\\t \\t<div class=\"head\">\\n\\t\\t\\t\\t \\t\\t<div class=\"h_tit\">\\n\\t\\t\\t\\t \\t\\t\\t<h3 class=\"s_tit\" id=\"currentFolderName\">관심상품1</h3>\\n\\t\\t\\t\\t \\t\\t\\t<span class=\"count\" id=\"currentFolderCount\">(2개)</span>\\n\\t\\t\\t\\t \\t\\t</div>\\n\\t\\t\\t\\t \\t\\t<div class=\"h_opt\">\\n\\t\\t\\t\\t \\t\\t\\t<div class=\"vw_opt\">\\n\\t\\t\\t\\t \\t\\t\\t\\t<ul class=\"clear\" id=\"sortType\">\\n\\t\\t\\t\\t \\t\\t\\t\\t\\t<li class=\"on\" data-sorttype=\"WishProduct\"><a href=\"#\" onclick=\"return false;\" class=\"item\">최신 저장순</a></li>\\n\\t\\t\\t\\t\\t\\t\\t\\t\\t<li data-sorttype=\"NEW\"><a href=\"#\" onclick=\"return false;\" class=\"item\">신상품순</a></li>\\n\\t\\t\\t\\t\\t\\t\\t\\t\\t<li data-sorttype=\"MinPrice\"><a href=\"#\" onclick=\"return false;\" class=\"item\">낮은 가격순</a></li>\\n\\t\\t\\t\\t\\t\\t\\t\\t\\t<li data-sorttype=\"MaxPrice\"><a href=\"#\" onclick=\"return false;\" class=\"item\">높은 가격순</a></li>\\n\\t\\t\\t\\t\\t\\t\\t\\t</ul>\\n\\t\\t\\t\\t\\t\\t\\t</div>\\n\\t\\t\\t\\t\\t\\t\\t<a href=\"#\" class=\"btn btn_url\" id=\"shareUrl\" onclick=\"return false;\"><span class=\"ico i_url\"></span>URL복사</a>\\n\\t\\t\\t\\t\\t\\t</div>\\n\\t\\t\\t\\t\\t</div>\\n\\t\\t\\t\\t\\t<div class=\"cont\">\\n\\t\\t\\t\\t\\t\\t<div class=\"ctrl_box clear\">\\n\\t\\t\\t\\t\\t\\t\\t<div class=\"left_a\">\\n\\t\\t\\t\\t\\t\\t\\t\\t<div class=\"chk\">\\n\\t\\t\\t\\t\\t\\t\\t\\t\\t<input type=\"checkbox\" id=\"select_all\">\\n\\t\\t\\t\\t\\t\\t\\t\\t\\t<label for=\"select_all\"><span class=\"ico\" tabindex=\"0\"></span>전체선택</label>\\n\\t\\t\\t\\t\\t\\t\\t\\t</div>\\n\\t\\t\\t\\t\\t\\t\\t\\t\\t\\t\\t\\t\\t\\t\\t\\t<div class=\"sel\" id=\"wishListMoveLayer\">\\n\\t\\t\\t\\t\\t\\t\\t\\t\\t<a href=\"#\" onclick=\"return false;\" class=\"btn_s\" id=\"wishListMoveBtn\">이동<span class=\"ico\">열기</span></a><!-- 활성화시 텍스트 : 접기로 변경 -->\\n\\t\\t\\t\\t\\t\\t\\t\\t\\t<div class=\"inner\">\\n\\t\\t\\t\\t\\t\\t\\t\\t\\t\\t<div class=\"scroll\" data-actiontype=\"MOVE\">\\n\\t\\t\\t\\t\\t\\t\\t\\t\\t\\t\\t<ul id=\"wishListSelectLayer\">\\n\\t\\t\\t\\t\\t\\t\\t\\t\\t\\t\\t\\t\\t\\t\\t\\t\\t\\t\\t\\t\\t\\t\\t<li id=\"myFolderLayer_28129140\">\\n\\t\\t\\t\\t\\t\\t\\t\\t\\t\\t\\t\\t\\t<a href=\"#\" onclick=\"return false;\" data-folderseq=\"28129140\">\\n\\t\\t\\t\\t\\t\\t\\t\\t\\t\\t\\t\\t\\t\\t<span class=\"folderName\">관심상품1</span>\\n\\t\\t\\t\\t\\t\\t\\t\\t\\t\\t\\t\\t\\t</a>\\n\\t\\t\\t\\t\\t\\t\\t\\t\\t\\t\\t\\t</li>\\n\\t\\t\\t\\t\\t\\t\\t\\t\\t\\t\\t\\t\\t\\t\\t\\t\\t\\t\\t\\t\\t\\t</ul>\\n\\t\\t\\t\\t\\t\\t\\t\\t\\t\\t</div>\\n\\t\\t\\t\\t\\t\\t\\t\\t\\t</div>\\n\\t\\t\\t\\t\\t\\t\\t\\t</div>\\n\\t\\t\\t\\t\\t\\t\\t\\t<div class=\"sel\" id=\"wishListCopyLayer\">\\n\\t\\t\\t\\t\\t\\t\\t\\t\\t<a href=\"#\" onclick=\"return false;\" class=\"btn_s\" id=\"wishListCopyBtn\">복사<span class=\"ico\">열기</span></a><!-- 활성화시 텍스트 : 접기로 변경 -->\\n\\t\\t\\t\\t\\t\\t\\t\\t\\t<div class=\"inner\">\\n\\t\\t\\t\\t\\t\\t\\t\\t\\t\\t<div class=\"scroll\" data-actiontype=\"COPY\">\\n\\t\\t\\t\\t\\t\\t\\t\\t\\t\\t</div>\\n\\t\\t\\t\\t\\t\\t\\t\\t\\t</div>\\n\\t\\t\\t\\t\\t\\t\\t\\t</div>\\n\\t\\t\\t\\t\\t\\t\\t\\t\\t\\t\\t\\t\\t\\t\\t\\t<a href=\"#\" onclick=\"return false;\" id=\"deleteBtn\" class=\"btn_s\">삭제</a>\\n\\t\\t\\t\\t\\t\\t\\t</div>\\n\\t\\t\\t\\t\\t\\t\\t<div class=\"right_a\">\\n\\t\\t\\t\\t\\t\\t\\t\\t<div class=\"layer_wrap\" id=\"otherCopyLayer\">\\n\\t\\t\\t\\t\\t\\t\\t\\t\\t<a href=\"#\" onclick=\"return false;\" class=\"btn btn_pnt\">PC견적함으로 복사</a>\\n\\t\\t\\t\\t\\t\\t\\t\\t\\t<div class=\"layer_copy\">\\n\\t\\t\\t\\t\\t\\t\\t\\t\\t\\t<div class=\"layer_container\">\\n\\t\\t\\t\\t\\t\\t\\t\\t\\t\\t\\t<div class=\"header\">\\n\\t\\t\\t\\t\\t\\t\\t\\t\\t\\t\\t\\t<p class=\"title\">PC견적함으로 복사</p>\\n\\t\\t\\t\\t\\t\\t\\t\\t\\t\\t\\t\\t<a href=\"#\" onclick=\"return false;\" class=\"com_gnb btn_service_close\">닫기</a>\\n\\t\\t\\t\\t\\t\\t\\t\\t\\t\\t\\t</div>\\n\\t\\t\\t\\t\\t\\t\\t\\t\\t\\t\\t<div class=\"content\">\\n\\t\\t\\t\\t\\t\\t\\t\\t\\t\\t\\t\\t<div class=\"scroll\" data-actiontype=\"COPY\">\\n\\t\\t\\t\\t\\t\\t\\t\\t\\t\\t\\t\\t\\t<ul class=\"copy_lst\">\\n\\t\\t\\t\\t\\t\\t\\t\\t\\t\\t\\t\\t\\t\\t\\t\\t\\t\\t\\t\\t\\t\\t\\t\\t\\t\\t\\t<li>\\n\\t\\t\\t\\t\\t\\t\\t\\t\\t\\t\\t\\t\\t\\t\\t<span class=\"name\">견적상품1</span>\\n\\t\\t\\t\\t\\t\\t\\t\\t\\t\\t\\t\\t\\t\\t\\t<div class=\"folder_btn\"><a href=\"#\" data-folderseq=\"28129146\" class=\"btn_copy\">복사</a></div>\\n\\t\\t\\t\\t\\t\\t\\t\\t\\t\\t\\t\\t\\t\\t</li>\\n\\t\\t\\t\\t\\t\\t\\t\\t\\t\\t\\t\\t\\t\\t\\t\\t\\t\\t\\t\\t\\t\\t\\t\\t\\t\\t</ul>\\n\\t\\t\\t\\t\\t\\t\\t\\t\\t\\t\\t\\t</div>\\n\\t\\t\\t\\t\\t\\t\\t\\t\\t\\t\\t</div>\\n\\t\\t\\t\\t\\t\\t\\t\\t\\t\\t</div>\\n\\t\\t\\t\\t\\t\\t\\t\\t\\t</div>\\n\\t\\t\\t\\t\\t\\t\\t\\t</div>\\n\\t\\t\\t\\t\\t\\t\\t\\t<div class=\"layer_wrap\" id=\"otherMoveLayer\">\\n\\t\\t\\t\\t\\t\\t\\t\\t\\t<a href=\"#\" onclick=\"return false;\" class=\"btn btn_pnt\">PC견적함으로 이동</a>\\n\\t\\t\\t\\t\\t\\t\\t\\t\\t<div class=\"layer_copy\">\\n\\t\\t\\t\\t\\t\\t\\t\\t\\t\\t<div class=\"layer_container\">\\n\\t\\t\\t\\t\\t\\t\\t\\t\\t\\t\\t<div class=\"header\">\\n\\t\\t\\t\\t\\t\\t\\t\\t\\t\\t\\t\\t<p class=\"title\">PC견적함으로 이동</p>\\n\\t\\t\\t\\t\\t\\t\\t\\t\\t\\t\\t\\t<a href=\"#\" onclick=\"return false;\" class=\"com_gnb btn_service_close\">닫기</a>\\n\\t\\t\\t\\t\\t\\t\\t\\t\\t\\t\\t</div>\\n\\t\\t\\t\\t\\t\\t\\t\\t\\t\\t\\t<div class=\"content\">\\n\\t\\t\\t\\t\\t\\t\\t\\t\\t\\t\\t\\t<div class=\"scroll\" data-actiontype=\"MOVE\">\\n\\t\\t\\t\\t\\t\\t\\t\\t\\t\\t\\t\\t\\t<ul class=\"copy_lst\">\\n\\t\\t\\t\\t\\t\\t\\t\\t\\t\\t\\t\\t\\t\\t\\t\\t\\t\\t\\t\\t\\t\\t\\t\\t\\t\\t\\t<li>\\n\\t\\t\\t\\t\\t\\t\\t\\t\\t\\t\\t\\t\\t\\t\\t<span class=\"name\">견적상품1</span>\\n\\t\\t\\t\\t\\t\\t\\t\\t\\t\\t\\t\\t\\t\\t\\t<div class=\"folder_btn\"><a href=\"#\" data-folderseq=\"28129146\" class=\"btn_copy\">이동</a></div>\\n\\t\\t\\t\\t\\t\\t\\t\\t\\t\\t\\t\\t\\t\\t</li>\\n\\t\\t\\t\\t\\t\\t\\t\\t\\t\\t\\t\\t\\t\\t\\t\\t\\t\\t\\t\\t\\t\\t\\t\\t\\t\\t</ul>\\n\\t\\t\\t\\t\\t\\t\\t\\t\\t\\t\\t\\t</div>\\n\\t\\t\\t\\t\\t\\t\\t\\t\\t\\t\\t</div>\\n\\t\\t\\t\\t\\t\\t\\t\\t\\t\\t</div>\\n\\t\\t\\t\\t\\t\\t\\t\\t\\t</div>\\n\\t\\t\\t\\t\\t\\t\\t\\t</div>\\n\\t\\t\\t\\t\\t\\t\\t</div>\\n\\t\\t\\t\\t\\t\\t</div>\\n\\t\\t\\t\\t\\t\\t<div id=\"wishProductListArea\">\\t<table class=\"tbl wish_tbl\">\\n\\t\\t<caption>\\n\\t\\t\\t<strong>관심상품1 목록</strong>\\n\\t\\t\\t<p>관심상품1 목록으로 이미지, 상품명, 최저가 등의 정보를 제공</p>\\n\\t\\t</caption>\\n\\t\\t<colgroup>\\n\\t\\t\\t<col class=\"check\">\\n\\t\\t\\t<col class=\"img\">\\n\\t\\t\\t<col class=\"info\">\\n\\t\\t\\t<col class=\"lowest\">\\n\\t\\t</colgroup>\\n\\t\\t<thead class=\"th_blind\">\\n\\t\\t\\t<tr><th scope=\"col\" class=\"check\">선택</th>\\n\\t\\t\\t<th scope=\"col\" class=\"img\">상품 이미지</th>\\n\\t\\t\\t<th scope=\"col\" class=\"info\">상품 정보</th>\\n\\t\\t\\t<th scope=\"col\" class=\"lowest\">최저가 정보</th>\\n\\t\\t\\t</tr>\\n\\t\\t</thead>\\n\\t\\t<tbody>\\n\\t\\t\\t\\t\\t<tr>\\n\\t\\t\\t\\t<td class=\"check\">\\n\\t\\t\\t\\t\\t<div class=\"chk\">\\n\\t\\t\\t\\t\\t\\t<input type=\"checkbox\" id=\"wishProductSeq_612100411_6047368\">\\n\\t\\t\\t\\t\\t\\t<label for=\"wishProductSeq_612100411_6047368\"><span class=\"ico\" tabindex=\"0\"></span></label>\\n\\t\\t\\t\\t\\t</div>\\n\\t\\t\\t\\t</td>\\n\\t\\t\\t\\t<td class=\"img\">\\n\\t\\t\\t\\t\\t<a href=\"http://prod.danawa.com/info/?pcode=6047368\" target=\"_blank\" class=\"prod_link\"><span class=\"img_a\"><img class=\"image_lazy\" data-original=\"http://img.danawa.com/prod_img/500000/368/047/img/6047368_1.jpg?shrink=160:160\" alt=\"LG전자 디오스 S831S32 (일반구매)_이미지\" src=\"http://img.danawa.com/prod_img/500000/368/047/img/6047368_1.jpg?shrink=160:160\" style=\"display: inline;\"></span></a>\\n\\t\\t\\t\\t</td>\\n\\t\\t\\t\\t<td class=\"info\">\\n\\t\\t\\t\\t\\t<div class=\"tit\"><a href=\"http://prod.danawa.com/info/?pcode=6047368\" target=\"_blank\" class=\"link\">LG전자 디오스 S831S32 (일반구매)</a></div>\\n\\t\\t\\t\\t\\t<dl class=\"spec\">\\n\\t\\t\\t\\t\\t\\t<dt class=\"blind\">상세스펙</dt>\\n\\t\\t\\t\\t\\t\\t<dd class=\"spec_list\">\\n\\t\\t\\t\\t\\t\\t\\t<a href=\"http://prod.danawa.com/info/?pcode=6047368\" target=\"_blank\" class=\"link\">2도어(양문) / 용량: 821L / 냉장: 523L / 냉동: 298L / 매직스페이스 / 에너지효율: 2등급 / 소비전력:  29.2kWh(월) / <br><b>[특징]</b> 미세자동정온 / 도어쿨링 / <br><b>[보관]</b> 야채실 / <br><b>[편의]</b> 스마트진단 / WiFi / 아이스메이커: 분리 / <br><b>[부가]</b> 리니어인버터 / Big매직디스플레이 / LED라이팅 / 재질:메탈 / 색상:퓨어 / 스퀘어핸들 / 크기(가로x세로x깊이): 912x1785x927mm</a>\\n\\t\\t\\t\\t\\t\\t</dd>\\n\\t\\t\\t\\t\\t</dl>\\n\\t\\t\\t\\t\\t<div class=\"sub_info clear\">\\n\\t\\t\\t\\t\\t\\t<dl>\\n\\t\\t\\t\\t\\t\\t\\t<dt>등록일</dt>\\n\\t\\t\\t\\t\\t\\t\\t<dd>2018.04</dd>\\n\\t\\t\\t\\t\\t\\t</dl>\\n\\t\\t\\t\\t\\t\\t\\t\\t\\t\\t\\t\\t<dl>\\n\\t\\t\\t\\t\\t\\t\\t<dt>판매몰</dt>\\n\\t\\t\\t\\t\\t\\t\\t<dd>259개</dd>\\n\\t\\t\\t\\t\\t\\t</dl>\\n\\t\\t\\t\\t\\t\\t\\t\\t\\t\\t\\t\\t<dl>\\n\\t\\t\\t\\t\\t\\t\\t<dt>\\n\\t\\t\\t\\t\\t\\t\\t\\t<span class=\"point_type_ss\">\\n\\t\\t\\t\\t\\t\\t\\t\\t\\t<span class=\"star_mask\" style=\"width:96%\"></span>\\n\\t\\t\\t\\t\\t\\t\\t\\t</span>\\n\\t\\t\\t\\t\\t\\t\\t</dt>\\n\\t\\t\\t\\t\\t\\t\\t<dd><span>4.8점 (<strong>1,527</strong>)</span></dd>\\n\\t\\t\\t\\t\\t\\t</dl>\\n\\t\\t\\t\\t\\t\\t\\t\\t\\t\\t\\t</div>\\n\\t\\t\\t\\t</td>\\n\\t\\t\\t\\t<td class=\"lowest\">\\n\\t\\t\\t\\t\\t<dl>\\n\\t\\t\\t\\t\\t\\t\\t\\t\\t\\t\\t<dt>최저가</dt>\\n\\t\\t\\t\\t\\t\\t<dd><span class=\"price\"><em class=\"num\">1,187,400</em>원</span></dd>\\n\\t\\t\\t\\t\\t\\t\\t\\t\\t\\t</dl>\\n\\t\\t\\t\\t\\t\\t\\t\\t\\t\\t<a href=\"#\" onclick=\"return false;\" class=\"btn_delete\" id=\"wishProductDel_612100411\"><span class=\"ico\">관심상품 삭제</span></a>\\n\\t\\t\\t\\t\\t\\t\\t\\t\\t</td>\\n\\t\\t\\t</tr>\\n\\t\\t\\t\\t\\t<tr>\\n\\t\\t\\t\\t<td class=\"check\">\\n\\t\\t\\t\\t\\t<div class=\"chk\">\\n\\t\\t\\t\\t\\t\\t<input type=\"checkbox\" id=\"wishProductSeq_612100405_8073913\">\\n\\t\\t\\t\\t\\t\\t<label for=\"wishProductSeq_612100405_8073913\"><span class=\"ico\" tabindex=\"1\"></span></label>\\n\\t\\t\\t\\t\\t</div>\\n\\t\\t\\t\\t</td>\\n\\t\\t\\t\\t<td class=\"img\">\\n\\t\\t\\t\\t\\t<a href=\"http://prod.danawa.com/info/?pcode=8073913\" target=\"_blank\" class=\"prod_link\"><span class=\"img_a\"><img class=\"image_lazy\" data-original=\"http://img.danawa.com/prod_img/500000/913/073/img/8073913_1.jpg?shrink=160:160\" alt=\"캐리어 클라윈드 피트인 CRF-SN570BDC_이미지\" src=\"http://img.danawa.com/prod_img/500000/913/073/img/8073913_1.jpg?shrink=160:160\" style=\"display: inline;\"></span></a>\\n\\t\\t\\t\\t</td>\\n\\t\\t\\t\\t<td class=\"info\">\\n\\t\\t\\t\\t\\t<div class=\"tit\"><a href=\"http://prod.danawa.com/info/?pcode=8073913\" target=\"_blank\" class=\"link\">캐리어 클라윈드 피트인 CRF-SN570BDC</a></div>\\n\\t\\t\\t\\t\\t<dl class=\"spec\">\\n\\t\\t\\t\\t\\t\\t<dt class=\"blind\">상세스펙</dt>\\n\\t\\t\\t\\t\\t\\t<dd class=\"spec_list\">\\n\\t\\t\\t\\t\\t\\t\\t<a href=\"http://prod.danawa.com/info/?pcode=8073913\" target=\"_blank\" class=\"link\">2도어(양문) / 용량: 570L / 냉장: 356L / 냉동: 214L / 에너지효율: 2등급 / 소비전력:  26.52kWh(월) / <br><b>[특징]</b> 세미빌트인 / <br><b>[보관]</b> 야채실 / <br><b>[편의]</b> 탈취 / 제균 / UV자외선 / <br><b>[부가]</b> 인버터 / LED디스플레이 / LED라이팅 / 재질:메탈 / 색상:버티칼블랙 / 터치디스플레이 /  히든핸들 / 크기(가로x세로x깊이): 912x1770x705mm</a>\\n\\t\\t\\t\\t\\t\\t</dd>\\n\\t\\t\\t\\t\\t</dl>\\n\\t\\t\\t\\t\\t<div class=\"sub_info clear\">\\n\\t\\t\\t\\t\\t\\t<dl>\\n\\t\\t\\t\\t\\t\\t\\t<dt>등록일</dt>\\n\\t\\t\\t\\t\\t\\t\\t<dd>2019.06</dd>\\n\\t\\t\\t\\t\\t\\t</dl>\\n\\t\\t\\t\\t\\t\\t\\t\\t\\t\\t\\t\\t<dl>\\n\\t\\t\\t\\t\\t\\t\\t<dt>판매몰</dt>\\n\\t\\t\\t\\t\\t\\t\\t<dd>75개</dd>\\n\\t\\t\\t\\t\\t\\t</dl>\\n\\t\\t\\t\\t\\t\\t\\t\\t\\t\\t\\t\\t<dl>\\n\\t\\t\\t\\t\\t\\t\\t<dt>\\n\\t\\t\\t\\t\\t\\t\\t\\t<span class=\"point_type_ss\">\\n\\t\\t\\t\\t\\t\\t\\t\\t\\t<span class=\"star_mask\" style=\"width:92%\"></span>\\n\\t\\t\\t\\t\\t\\t\\t\\t</span>\\n\\t\\t\\t\\t\\t\\t\\t</dt>\\n\\t\\t\\t\\t\\t\\t\\t<dd><span>4.6점 (<strong>299</strong>)</span></dd>\\n\\t\\t\\t\\t\\t\\t</dl>\\n\\t\\t\\t\\t\\t\\t\\t\\t\\t\\t\\t</div>\\n\\t\\t\\t\\t</td>\\n\\t\\t\\t\\t<td class=\"lowest\">\\n\\t\\t\\t\\t\\t<dl>\\n\\t\\t\\t\\t\\t\\t\\t\\t\\t\\t\\t<dt>최저가</dt>\\n\\t\\t\\t\\t\\t\\t<dd><span class=\"price\"><em class=\"num\">608,830</em>원</span></dd>\\n\\t\\t\\t\\t\\t\\t\\t\\t\\t\\t</dl>\\n\\t\\t\\t\\t\\t\\t\\t\\t\\t\\t<a href=\"#\" onclick=\"return false;\" class=\"btn_delete\" id=\"wishProductDel_612100405\"><span class=\"ico\">관심상품 삭제</span></a>\\n\\t\\t\\t\\t\\t\\t\\t\\t\\t</td>\\n\\t\\t\\t</tr>\\n\\t\\t\\t\\t</tbody>\\n\\t</table>\\n<div class=\"co_paginate\" id=\"pageNavigation\">\\n\\t<ul class=\"clear\">\\n\\t\\t\\t<li class=\"now\"><strong>1</strong></li>\\n\\n\\t\\t</ul>\\n</div></div>\\n\\t\\t\\t\\t\\t</div>\\n\\t\\t\\t\\t</div>\\n\\t\\t\\t</div>\\n\\t\\t</div>\\n\\t</div>\\n</div><div class=\"top_down_position\" style=\"display: block;\">\\n\\t<div class=\"top_down_area\">\\n\\t\\t<div class=\"top_down_fixed\">\\n\\t\\t\\t<a class=\"btn_layer_up\" href=\"#\" onclick=\"return false;\"><span>컨텐츠 상단으로 이동</span></a>\\n\\t\\t\\t<a class=\"btn_layer_down\" href=\"#\" onclick=\"return false;\"><span>컨텐츠 하단으로 이동</span></a>\\n\\t\\t</div>\\n\\t</div>\\n</div>\\n<input id=\"clip_tmp\" type=\"text\" value=\"\" style=\"position:absolute;top:-2000px;\">\\n<script type=\"text/javascript\">\\nvar sShareShortUrl = \\'\\';\\nvar oGlobalSetting = {\\n\\tnFolderSeq:\\'28129140\\',\\n\\tnType:\\'1\\',\\n\\tnServiceType:\\'0\\',\\n\\tsSortType:\\'WishProduct\\',\\n\\tnPage:\\'1\\',\\n\\tnCurrentFolderCount : \\'2\\',\\n\\tsUserID : \\'sinca77\\',\\n\\tsFolderUserID : \\'\\',\\n\\tisAuthInfo : \\'Y\\',\\n\\tsPageType : \\'\\'\\n};\\n</script>\\n<script type=\"text/javascript\" src=\"//static.danawa.com/globaljs/external/jquery/plugin/jquery.kakao/1.20.1/kakao-1.20.1.min.js\"></script>\\n<script type=\"text/javascript\" src=\"//static.danawa.com/globaljs/external/jquery/plugin/jquery.lazyload/1.9.0/jquery.lazyload.min.js\"></script>\\n<script type=\"text/javascript\" src=\"js/myPageUI.js?v=202009161717\"></script></div>\\t<div id=\"danawa_footer\">\\n\\t\\t<div class=\"footer_top\">\\n\\t\\t\\t<div class=\"footer_top_content\">\\n\\t\\t\\t\\t<span class=\"title_notice_squre\">공지</span>\\n\\t\\t\\t\\t<span class=\"footer_text_type1\"><a href=\"http://help.danawa.com/noticeDetail.php?listSeq=4252768\" target=\"_blank\">[채용공고] 신입/경력 사원 모집</a></span>\\n\\t\\t\\t\\t<dl class=\"footer_danawa_policy\">\\n\\t\\t\\t\\t\\t<dt class=\"screen_out\">다나와 정책 및 약관</dt>\\n\\t\\t\\t\\t\\t<dd class=\"first\"><a href=\"http://www.danawa.com/corp/main.html\" target=\"_blank\">회사소개</a></dd>\\n\\t\\t\\t\\t\\t<dd><a href=\"http://www.danawa.com/info/provision.html\" target=\"_blank\">이용약관</a></dd>\\n\\t\\t\\t\\t\\t<dd class=\"fbold\"><a href=\"http://www.danawa.com/info/helprule_private.html\" target=\"_blank\">개인정보처리방침</a></dd>\\n\\t\\t\\t\\t\\t<dd><a href=\"http://www.danawa.com/info/map.html\">사이트맵</a></dd>\\n\\t\\t\\t\\t\\t<dd><a href=\"http://www.danawacomputer.co.kr/\" target=\"_blank\">다나와컴퓨터</a></dd>\\n\\t\\t\\t\\t\\t<dd><a href=\"http://adcenter.danawa.com\" target=\"_blank\">광고센터</a></dd>\\n\\t\\t\\t\\t\\t<dd><a href=\"http://help.danawa.com/bizCenter/index.php?depth1=1\" target=\"_blank\">협력사문의</a></dd>\\n\\t\\t\\t\\t</dl>\\n\\t\\t\\t</div>\\n\\t\\t</div>\\n\\n\\t\\t\\n\\t\\t<!-- footer_bottom_area -->\\n\\t<div class=\"footer_bottom_area\">\\n\\t\\t<div class=\"footer_danawa_address add_csbox\">\\n\\t\\t\\t<address>주소 (우) 07995 서울특별시 양천구 목동동로 233-1, 501 (목동, 드림타워)</address>\\n\\t\\t\\t<span class=\"ceo\">대표이사: 손윤환, 안징현</span>\\n\\t\\t\\t<!-- footer_info1 -->\\n\\t\\t\\t<div class=\"footer_info1\">\\n\\t\\t\\t<span class=\"first_info\">사업자번호: 117-81-40065</span><span>통신판매업: 제2004-서울양천-00918호</span><span>부가통신사업: 제003081호</span><a href=\"http://www.ftc.go.kr/bizCommPop.do?wrkr_no=1178140065\" class=\"btn_box_type\" target=\"_blank\">사업자정보확인</a>\\n\\t\\t\\t</div>\\n\\t\\t\\t<!--// footer_info1 -->\\n\\t\\t\\t<!-- footer_info2 -->\\n\\t\\t\\t<dl class=\"footer_info2\">\\n\\t\\t\\t\\t<dt>콘텐츠산업진흥법</dt>\\n\\t\\t\\t\\t<dd>콘텐츠산업 진흥법에 의한 콘텐츠 보호</dd>\\n\\t\\t\\t\\t<dd class=\"btn_footer_info\">\\n\\t\\t\\t\\t\\t<!-- footer_over_layer -->\\n\\t\\t\\t\\t\\t<div class=\"footer_over_layer\" style=\"display:none\">\\n\\t\\t\\t\\t\\t\\t<div class=\"footer_over_margin\">\\n\\t\\t\\t\\t\\t\\t\\t<strong>콘텐츠산업진흥법에 의한 표시</strong>\\n\\t\\t\\t\\t\\t\\t\\t<dl class=\"contents_law first\">\\n\\t\\t\\t\\t\\t\\t\\t\\t<dt>콘텐츠의 명칭</dt>\\n\\t\\t\\t\\t\\t\\t\\t\\t<dd>상품콘텐츠(정보) 및 기사, 이벤트 정보</dd>\\n\\t\\t\\t\\t\\t\\t\\t</dl>\\n\\t\\t\\t\\t\\t\\t\\t<dl class=\"contents_law\">\\n\\t\\t\\t\\t\\t\\t\\t\\t<dt>콘텐츠의 제작 및 표시 연월일</dt>\\n\\t\\t\\t\\t\\t\\t\\t\\t<dd>개별 표기된 제작일 또는 갱신일</dd>\\n\\t\\t\\t\\t\\t\\t\\t</dl>\\n\\t\\t\\t\\t\\t\\t\\t<dl class=\"contents_law\">\\n\\t\\t\\t\\t\\t\\t\\t\\t<dt>콘텐츠의 제작자</dt>\\n\\t\\t\\t\\t\\t\\t\\t\\t<dd>(주)다나와\\n\\t\\t\\t\\t\\t\\t\\t\\t<br>전화: 1688 - 2470 / 팩스: 1688-2451\\n\\t\\t\\t\\t\\t\\t\\t\\t<br>서울특별시 양천구 목1동 923-14 드림타워 501호</dd>\\n\\t\\t\\t\\t\\t\\t\\t</dl>\\n\\t\\t\\t\\t\\t\\t\\t<dl class=\"contents_law last\">\\n\\t\\t\\t\\t\\t\\t\\t\\t<dt>콘텐츠의 이용조건</dt>\\n\\t\\t\\t\\t\\t\\t\\t\\t<dd>이용약관 및 서비스 안내 참조\\n\\t\\t\\t\\t\\t\\t\\t\\t<br>(동의 없이 무단복제 및 가공을 금함)<a href=\"http://www.danawa.com/info/agreement.html\" class=\"btn_box_type btn_policy_view\">이용약관 보기</a></dd>\\n\\t\\t\\t\\t\\t\\t\\t</dl>\\n\\n\\t\\t\\t\\t\\t\\t\\t<!-- footer_notice -->\\n\\t\\t\\t\\t\\t\\t\\t<div class=\"footer_notice\">\\n\\t\\t\\t\\t\\t\\t\\t\\t<p>㈜다나와 홈페이지 내의 모든 콘텐츠는 『콘텐츠산업 진흥법』에 따라\\n\\t\\t\\t\\t\\t\\t\\t\\t<br> 제작일 또는 그 갱신일로부터 5년간 보호 됩니다.</p>\\n\\t\\t\\t\\t\\t\\t\\t</div>\\n\\t\\t\\t\\t\\t\\t\\t<!--// txt_clause -->\\n\\t\\t\\t\\t\\t\\t\\t<!-- footer_layer_close -->\\n\\t\\t\\t\\t\\t\\t\\t<div class=\"footer_layer_close\">\\n\\t\\t\\t\\t\\t\\t\\t\\t<a href=\"#\" class=\"btn_footer_close\" onclick=\"return false;\">닫기</a>\\n\\t\\t\\t\\t\\t\\t\\t</div>\\n\\t\\t\\t\\t\\t\\t\\t<!--// footer_layer_close -->\\n\\t\\t\\t\\t\\t\\t</div>\\n\\t\\t\\t\\t\\t</div>\\n\\t\\t\\t\\t\\t<!--// footer_over_layer -->\\n\\t\\t\\t\\t\\t<a href=\"\" id=\"content_see_more\" class=\"btn_box_type\" onclick=\"return false;\">자세히보기</a>\\n\\t\\t\\t\\t\\t<a href=\"http://help.danawa.com/bizCenter/index.php?depth1=11\" class=\"btn_box_type\" target=\"_blank\">콘텐츠이용안내</a>\\n\\t\\t\\t\\t</dd>\\n\\t\\t\\t</dl>\\n\\t\\t\\t<!--// footer_info2 -->\\n\\t\\t\\t<!-- 161103 footer_info3 -->\\n\\t\\t\\t<div class=\"footer_info3\">\\n\\t\\t\\t\\t<dl class=\"footer_cs_wrap\">\\n\\t\\t\\t\\t\\t<dt>다나와 고객센터</dt>\\n\\t\\t\\t\\t\\t<dd>\\n\\t\\t\\t\\t\\t\\t<div class=\"footer_cs_box clear\">\\n\\t\\t\\t\\t\\t\\t\\t<ul>\\n\\t\\t\\t\\t\\t\\t\\t\\t<li class=\"home\"><a href=\"http://help.danawa.com\" target=\"_blank\">고객센터 홈</a></li>\\n\\t\\t\\t\\t\\t\\t\\t\\t<li class=\"rip\"><a href=\"#\" onclick=\"window.open(\\'http://help.danawa.com/onlineInquiry.php\\',\\'_blank\\', \\'width=800, height=900, toolbar=no, menubar=no, scrollbars=no, resizable=no, copyhistory=no\\'); return false;\" target=\"_blank\">신고/문의/제안</a></li>\\n\\t\\t\\t\\t\\t\\t\\t\\t<li class=\"help\"><a href=\"http://help.danawa.com/serviceHelpList.php\" target=\"_blank\">서비스도움말</a></li>\\n\\t\\t\\t\\t\\t\\t\\t</ul>\\n\\t\\t\\t\\t\\t\\t</div>\\n\\t\\t\\t\\t\\t</dd>\\n\\t\\t\\t\\t\\t<dd class=\"txt clear\"><span>전화: 1688-2470</span><span>팩스: 1688-2451</span></dd>\\n\\t\\t\\t\\t\\t<dd class=\"txt clear\"><span>이메일: cs@danawa.com</span></dd>\\n\\t\\t\\t\\t\\t<dd class=\"txt btn_footer_info\">\\n\\t\\t\\t\\t\\t\\t<a href=\"#\" class=\"btn_box_type\" onclick=\"return false;\" id=\"denyEmailOpenBtn\" title=\"메일수신거부새창열림\">이메일수집거부</a>\\n\\t\\t\\t\\t\\t\\t<div class=\"footer_over_denyemail\" id=\"denyEmailNoticeArea\">\\n\\t\\t\\t\\t\\t\\t\\t<div class=\"denyemail_detail\">\\n\\t\\t\\t\\t\\t\\t\\t\\t<strong class=\"subj\">이메일 주소 무단 수신수집 거부</strong>\\n\\t\\t\\t\\t\\t\\t\\t\\t<p class=\"contents\">영리목적 (주)다나와에서는 본 웹사이트에 게시된 이메일 주소가<br>\\n\\t\\t\\t\\t\\t\\t\\t\\t전자우편 수집 프로그램이나 그 밖의 기술적 장치를 이용하여<br>\\n\\t\\t\\t\\t\\t\\t\\t\\t무단으로 수집되는 것을 거부하며, 이를 위반시<br>\\n\\t\\t\\t\\t\\t\\t\\t\\t<strong class=\"point\">정보통신망법에 의해 형사처벌됨</strong>을 유념하시기 바랍니다.</p>\\n\\t\\t\\t\\t\\t\\t\\t\\t<span class=\"date\">[게시일 2004년 1월 16일]</span>\\n\\t\\t\\t\\t\\t\\t\\t\\t<div class=\"denymain_close\">\\n\\t\\t\\t\\t\\t\\t\\t\\t\\t<a class=\"btn_close\" id=\"denyEmailCloseBtn\" onclick=\"return false;\" href=\"#\"><em class=\"screen_out\">닫기</em></a>\\n\\t\\t\\t\\t\\t\\t\\t\\t</div>\\n\\t\\t\\t\\t\\t\\t\\t</div>\\n\\t\\t\\t\\t\\t\\t</div>\\n\\t\\t\\t\\t\\t\\t<a href=\"http://help.danawa.com/ars_suggestion.php\" class=\"btn_box_type\" target=\"_blank\">ARS문의안내</a>\\n\\t\\t\\t\\t\\t</dd>\\n\\t\\t\\t\\t</dl>\\n\\t\\t\\t</div>\\n\\t\\t\\t<!--// 161103 footer_info3 -->\\n\\t\\t\\t<!-- footer_info4 -->\\n\\t\\t\\t<div class=\"footer_info4\">\\n\\t\\t\\t\\t<p class=\"policy_explain\">(주)다나와는 상품판매와 직접적인 관련이 없으며, 모든 상거래의 책임은 구매자와 판매자에게 있습니다.\\n\\t\\t\\t\\t<br> 이에 대해 (주)다나와는 일체의 책임을 지지 않습니다.\\n\\t\\t\\t\\t<br> 본사에 등록된 모든 광고와 저작권 및 법적책임은 자료제공사 (또는 글쓴이)에게 있으므로 본사는 광고에 대한 책임을 지지 않습니다.</p>\\n\\t\\t\\t</div>\\n\\t\\t\\t<div class=\"footer_info4\">\\n\\t\\t\\t\\t<!-- icon_footer_list -->\\n\\t\\t\\t\\t<!--161103 cs클래스 추가 -->\\n\\t\\t\\t\\t<div class=\"icon_footer_list cs\">\\n\\t\\t\\t\\t\\t<a target=\"_blank\" href=\"http://www.kolsa.or.kr\" class=\"icon_at1 icon_kolsa\">KOLSA 한국온라인 쇼핑협회</a>\\n\\t\\t\\t\\t</div>\\n\\t\\t\\t\\t<!--// icon_footer_list -->\\n\\t\\t\\t</div>\\n\\t\\t\\t<div class=\"confirm_layer\" id=\"contentsConfirmLayer\" style=\"display:none;\">\\n\\t\\t\\t\\t<div class=\"layer_header\">\\n\\t\\t\\t\\t\\t<strong class=\"blind\">우수 콘텐츠 서비스 레이어</strong>\\n\\t\\t\\t\\t\\t<a href=\"#contentsConfirmLayer\" id=\"contentsConfirmCloseButton\" class=\"btn_close\">레이어 닫기</a>\\n\\t\\t\\t\\t</div>\\n\\t\\t\\t\\t<div class=\"layer_content\">\\n\\t\\t\\t\\t\\t<img src=\"//img.danawa.com/img/footer_goodcontents.jpg\" alt=\"콘텐츠제공서비스 품질인증서\">\\n\\t\\t\\t\\t\\t<div class=\"blind\">\\n\\t\\t\\t\\t\\t\\t<p>인증번호: 2018-08-0031\\n\\t\\t\\t\\t\\t\\t홈페이지: http://www.danawa.com\\n\\t\\t\\t\\t\\t\\t서비스명: 다나와\\n\\t\\t\\t\\t\\t\\t기업/기관명: 주식회사 다나와\\n\\t\\t\\t\\t\\t\\t대표자: 손윤환,안징현\\n\\t\\t\\t\\t\\t\\t유효기간: 2018년 08월 30일 ~ 2020년 08월 29일\\n\\t\\t\\t\\t\\t\\t위 기관은 콘텐츠산업진흥법 제 22조 규정에 의하여 우수한 콘텐츠 서비스를 고객에게 제공함으로써 콘텐츠 산업의 국가경쟁력 향상에\\n\\t\\t\\t\\t\\t\\t기여하였기에 콘텐츠 제공서비스 품질인증기관 운영 규칙 제 25조 제1항의 규정에 따라 콘텐츠제공서비스 품질인증 사업자로 인증합니다.\\n\\t\\t\\t\\t\\t\\t2018년 08월 30일\\n\\t\\t\\t\\t\\t\\t한국데이터진흥원장\\n\\t\\t\\t\\t\\t\\t</p>\\n\\t\\t\\t\\t\\t</div>\\n\\t\\t\\t\\t</div>\\n\\t\\t\\t</div>\\n\\t\\t\\t<!--// footer_info4 -->\\n\\t\\t\\t<div class=\"footer_copyright\">\\n\\t\\t\\tCopyright © <strong>danawa</strong> Co., Ltd. All Rights\\n\\t\\t\\tReserved.\\n\\t\\t\\t</div>\\n\\t\\t</div>\\n\\t</div>\\n\\t<!--// footer_bottom_area -->\\n\\t</div>\\n</div>\\n<script src=\"//static.danawa.com/globaljs/static/logger_trackEvent.js\"></script>\\n<script src=\"//static.danawa.com/globaljs/static/logger_Insight_WebAnalytics.js\"></script>\\n<script src=\"//static.danawa.com/globaljs/static/wcslog.js?v1607061545=\"></script>\\n<script type=\"text/javascript\">\\nif(!wcs_add) var wcs_add = {};\\nwcs_add[\"wa\"] = \"s_3b3fb74948b1\";\\nif(!_nasa) var _nasa = {};\\nwcs.inflow(\"danawa.com\");\\nwcs_do(_nasa);\\n</script>\\n\\n<script type=\"text/javascript\">\\n\\t(function(w, d, a) {\\n\\t\\tw.__beusablerumclient__ = {\\n\\t\\tload : function(src){\\n\\t\\t\\tvar b = d.createElement(\"script\");\\n\\t\\t\\tb.src = src; b.async=true; b.type = \"text/javascript\";\\n\\t\\t\\td.getElementsByTagName(\"head\")[0].appendChild(b);\\n\\t\\t}\\n\\t};w.__beusablerumclient__.load(a);\\n\\t})(window, document, \\'//rum.beusable.net/script/b180313e103010u949/078affcc49\\');\\n</script>\\n\\n<script>\\nvar _AdwebCounterValue = _AdwebCounterValue || [];\\n_AdwebCounterValue[\\'Account\\'] = _AdwebCounterValue[\\'Account\\'] || \\'danawacom\\';\\n_AdwebCounterValue[\\'Category\\'] = _AdwebCounterValue[\\'Category\\'] || \\'page\\';\\n_AdwebCounterValue[\\'Namming\\'] = _AdwebCounterValue[\\'Namming\\'] || \\'\\';\\n_AdwebCounterValue[\\'Price\\'] = _AdwebCounterValue[\\'Price\\'] || \\'\\';\\n_AdwebCounterValue[\\'GoodsNo\\'] = _AdwebCounterValue[\\'GoodsNo\\'] || \\'\\';\\n_AdwebCounterValue[\\'Version\\'] = _AdwebCounterValue[\\'Version\\'] || \\'2.0\\';\\n\\nif(typeof _AdwebCounterDomain == \\'undefined\\') {\\n\\tvar _AdwebCounterDomain = document.location.protocol+\\'//tracking.adweb.co.kr/tracking/log4php_danawa.php\\';\\n}\\n</script>\\n<script src=\"//static.danawa.com/globaljs/static/adweb_counter_danawa.min.js?version=20200910\"></script>\\n\\n<!-- view as mobile script -->\\n<script type=\"text/javascript\" src=\"http://static.danawa.com/globaljs/com/danawa/common/setUpMobileView.js\"></script>\\n\\n<!-- Global site tag (gtag.js) - Google Analytics -->\\n<script async=\"\" src=\"https://www.googletagmanager.com/gtag/js?id=UA-37762359-14\"></script>\\n<script>\\nwindow.dataLayer = window.dataLayer || [];\\nfunction gtag(){dataLayer.push(arguments);}\\ngtag(\\'js\\', new Date());\\ngtag(\\'config\\', \\'UA-37762359-14\\', {\\'sample_rate\\':5});\\n</script>\\n\\n\\n</body></html>'"
      ]
     },
     "execution_count": 27,
     "metadata": {},
     "output_type": "execute_result"
    }
   ],
   "source": [
    "html"
   ]
  },
  {
   "cell_type": "code",
   "execution_count": 28,
   "metadata": {},
   "outputs": [],
   "source": [
    "soup = bs(html, 'html.parser')"
   ]
  },
  {
   "cell_type": "code",
   "execution_count": 32,
   "metadata": {
    "collapsed": true
   },
   "outputs": [
    {
     "data": {
      "text/plain": [
       "[<tr>\n",
       " <td class=\"check\">\n",
       " <div class=\"chk\">\n",
       " <input id=\"wishProductSeq_612100411_6047368\" type=\"checkbox\"/>\n",
       " <label for=\"wishProductSeq_612100411_6047368\"><span class=\"ico\" tabindex=\"0\"></span></label>\n",
       " </div>\n",
       " </td>\n",
       " <td class=\"img\">\n",
       " <a class=\"prod_link\" href=\"http://prod.danawa.com/info/?pcode=6047368\" target=\"_blank\"><span class=\"img_a\"><img alt=\"LG전자 디오스 S831S32 (일반구매)_이미지\" class=\"image_lazy\" data-original=\"http://img.danawa.com/prod_img/500000/368/047/img/6047368_1.jpg?shrink=160:160\" src=\"http://img.danawa.com/prod_img/500000/368/047/img/6047368_1.jpg?shrink=160:160\" style=\"display: inline;\"/></span></a>\n",
       " </td>\n",
       " <td class=\"info\">\n",
       " <div class=\"tit\"><a class=\"link\" href=\"http://prod.danawa.com/info/?pcode=6047368\" target=\"_blank\">LG전자 디오스 S831S32 (일반구매)</a></div>\n",
       " <dl class=\"spec\">\n",
       " <dt class=\"blind\">상세스펙</dt>\n",
       " <dd class=\"spec_list\">\n",
       " <a class=\"link\" href=\"http://prod.danawa.com/info/?pcode=6047368\" target=\"_blank\">2도어(양문) / 용량: 821L / 냉장: 523L / 냉동: 298L / 매직스페이스 / 에너지효율: 2등급 / 소비전력:  29.2kWh(월) / <br/><b>[특징]</b> 미세자동정온 / 도어쿨링 / <br/><b>[보관]</b> 야채실 / <br/><b>[편의]</b> 스마트진단 / WiFi / 아이스메이커: 분리 / <br/><b>[부가]</b> 리니어인버터 / Big매직디스플레이 / LED라이팅 / 재질:메탈 / 색상:퓨어 / 스퀘어핸들 / 크기(가로x세로x깊이): 912x1785x927mm</a>\n",
       " </dd>\n",
       " </dl>\n",
       " <div class=\"sub_info clear\">\n",
       " <dl>\n",
       " <dt>등록일</dt>\n",
       " <dd>2018.04</dd>\n",
       " </dl>\n",
       " <dl>\n",
       " <dt>판매몰</dt>\n",
       " <dd>259개</dd>\n",
       " </dl>\n",
       " <dl>\n",
       " <dt>\n",
       " <span class=\"point_type_ss\">\n",
       " <span class=\"star_mask\" style=\"width:96%\"></span>\n",
       " </span>\n",
       " </dt>\n",
       " <dd><span>4.8점 (<strong>1,527</strong>)</span></dd>\n",
       " </dl>\n",
       " </div>\n",
       " </td>\n",
       " <td class=\"lowest\">\n",
       " <dl>\n",
       " <dt>최저가</dt>\n",
       " <dd><span class=\"price\"><em class=\"num\">1,187,400</em>원</span></dd>\n",
       " </dl>\n",
       " <a class=\"btn_delete\" href=\"#\" id=\"wishProductDel_612100411\" onclick=\"return false;\"><span class=\"ico\">관심상품 삭제</span></a>\n",
       " </td>\n",
       " </tr>,\n",
       " <tr>\n",
       " <td class=\"check\">\n",
       " <div class=\"chk\">\n",
       " <input id=\"wishProductSeq_612100405_8073913\" type=\"checkbox\"/>\n",
       " <label for=\"wishProductSeq_612100405_8073913\"><span class=\"ico\" tabindex=\"1\"></span></label>\n",
       " </div>\n",
       " </td>\n",
       " <td class=\"img\">\n",
       " <a class=\"prod_link\" href=\"http://prod.danawa.com/info/?pcode=8073913\" target=\"_blank\"><span class=\"img_a\"><img alt=\"캐리어 클라윈드 피트인 CRF-SN570BDC_이미지\" class=\"image_lazy\" data-original=\"http://img.danawa.com/prod_img/500000/913/073/img/8073913_1.jpg?shrink=160:160\" src=\"http://img.danawa.com/prod_img/500000/913/073/img/8073913_1.jpg?shrink=160:160\" style=\"display: inline;\"/></span></a>\n",
       " </td>\n",
       " <td class=\"info\">\n",
       " <div class=\"tit\"><a class=\"link\" href=\"http://prod.danawa.com/info/?pcode=8073913\" target=\"_blank\">캐리어 클라윈드 피트인 CRF-SN570BDC</a></div>\n",
       " <dl class=\"spec\">\n",
       " <dt class=\"blind\">상세스펙</dt>\n",
       " <dd class=\"spec_list\">\n",
       " <a class=\"link\" href=\"http://prod.danawa.com/info/?pcode=8073913\" target=\"_blank\">2도어(양문) / 용량: 570L / 냉장: 356L / 냉동: 214L / 에너지효율: 2등급 / 소비전력:  26.52kWh(월) / <br/><b>[특징]</b> 세미빌트인 / <br/><b>[보관]</b> 야채실 / <br/><b>[편의]</b> 탈취 / 제균 / UV자외선 / <br/><b>[부가]</b> 인버터 / LED디스플레이 / LED라이팅 / 재질:메탈 / 색상:버티칼블랙 / 터치디스플레이 /  히든핸들 / 크기(가로x세로x깊이): 912x1770x705mm</a>\n",
       " </dd>\n",
       " </dl>\n",
       " <div class=\"sub_info clear\">\n",
       " <dl>\n",
       " <dt>등록일</dt>\n",
       " <dd>2019.06</dd>\n",
       " </dl>\n",
       " <dl>\n",
       " <dt>판매몰</dt>\n",
       " <dd>75개</dd>\n",
       " </dl>\n",
       " <dl>\n",
       " <dt>\n",
       " <span class=\"point_type_ss\">\n",
       " <span class=\"star_mask\" style=\"width:92%\"></span>\n",
       " </span>\n",
       " </dt>\n",
       " <dd><span>4.6점 (<strong>299</strong>)</span></dd>\n",
       " </dl>\n",
       " </div>\n",
       " </td>\n",
       " <td class=\"lowest\">\n",
       " <dl>\n",
       " <dt>최저가</dt>\n",
       " <dd><span class=\"price\"><em class=\"num\">608,830</em>원</span></dd>\n",
       " </dl>\n",
       " <a class=\"btn_delete\" href=\"#\" id=\"wishProductDel_612100405\" onclick=\"return false;\"><span class=\"ico\">관심상품 삭제</span></a>\n",
       " </td>\n",
       " </tr>]"
      ]
     },
     "execution_count": 32,
     "metadata": {},
     "output_type": "execute_result"
    }
   ],
   "source": [
    "products = soup.select('div#wishProductListArea > table > tbody > tr')\n",
    "products"
   ]
  },
  {
   "cell_type": "code",
   "execution_count": 33,
   "metadata": {},
   "outputs": [
    {
     "data": {
      "text/plain": [
       "2"
      ]
     },
     "execution_count": 33,
     "metadata": {},
     "output_type": "execute_result"
    }
   ],
   "source": [
    "len(products)"
   ]
  },
  {
   "cell_type": "code",
   "execution_count": 38,
   "metadata": {},
   "outputs": [
    {
     "data": {
      "text/plain": [
       "'LG전자 디오스 S831S32 (일반구매)'"
      ]
     },
     "execution_count": 38,
     "metadata": {},
     "output_type": "execute_result"
    }
   ],
   "source": [
    "title = products[0].select('div.tit > a')[0].text\n",
    "title"
   ]
  },
  {
   "cell_type": "code",
   "execution_count": 42,
   "metadata": {},
   "outputs": [
    {
     "data": {
      "text/plain": [
       "'2도어(양문) / 용량: 821L / 냉장: 523L / 냉동: 298L / 매직스페이스 / 에너지효율: 2등급 / 소비전력:  29.2kWh(월) / [특징] 미세자동정온 / 도어쿨링 / [보관] 야채실 / [편의] 스마트진단 / WiFi / 아이스메이커: 분리 / [부가] 리니어인버터 / Big매직디스플레이 / LED라이팅 / 재질:메탈 / 색상:퓨어 / 스퀘어핸들 / 크기(가로x세로x깊이): 912x1785x927mm'"
      ]
     },
     "execution_count": 42,
     "metadata": {},
     "output_type": "execute_result"
    }
   ],
   "source": [
    "spec = products[0].select('dd.spec_list > a')[0].text\n",
    "spec"
   ]
  },
  {
   "cell_type": "code",
   "execution_count": 43,
   "metadata": {},
   "outputs": [
    {
     "data": {
      "text/plain": [
       "'1,187,400원'"
      ]
     },
     "execution_count": 43,
     "metadata": {},
     "output_type": "execute_result"
    }
   ],
   "source": [
    "price = products[0].select('span.price')[0].text\n",
    "price"
   ]
  },
  {
   "cell_type": "code",
   "execution_count": 47,
   "metadata": {},
   "outputs": [
    {
     "name": "stdout",
     "output_type": "stream",
     "text": [
      "====================\n",
      "title : LG전자 디오스 S831S32 (일반구매)\n",
      "spec :\n",
      "2도어(양문) / 용량: 821L / 냉장: 523L / 냉동: 298L / 매직스페이스 / 에너지효율: 2등급 / 소비전력:  29.2kWh(월) / [특징] 미세자동정온 / 도어쿨링 / [보관] 야채실 / [편의] 스마트진단 / WiFi / 아이스메이커: 분리 / [부가] 리니어인버터 / Big매직디스플레이 / LED라이팅 / 재질:메탈 / 색상:퓨어 / 스퀘어핸들 / 크기(가로x세로x깊이): 912x1785x927mm\n",
      "price : 1,187,400원\n",
      "====================\n",
      "title : 캐리어 클라윈드 피트인 CRF-SN570BDC\n",
      "spec :\n",
      "2도어(양문) / 용량: 570L / 냉장: 356L / 냉동: 214L / 에너지효율: 2등급 / 소비전력:  26.52kWh(월) / [특징] 세미빌트인 / [보관] 야채실 / [편의] 탈취 / 제균 / UV자외선 / [부가] 인버터 / LED디스플레이 / LED라이팅 / 재질:메탈 / 색상:버티칼블랙 / 터치디스플레이 /  히든핸들 / 크기(가로x세로x깊이): 912x1770x705mm\n",
      "price : 608,830원\n"
     ]
    }
   ],
   "source": [
    "for p in products:\n",
    "    print('='*20)\n",
    "    print('title :', p.select('div.tit > a')[0].text)\n",
    "    print('spec :')\n",
    "    print(p.select('dd.spec_list > a')[0].text)\n",
    "    print('price :', p.select('span.price')[0].text)"
   ]
  },
  {
   "cell_type": "code",
   "execution_count": null,
   "metadata": {},
   "outputs": [],
   "source": []
  }
 ],
 "metadata": {
  "kernelspec": {
   "display_name": "Python 3",
   "language": "python",
   "name": "python3"
  },
  "language_info": {
   "codemirror_mode": {
    "name": "ipython",
    "version": 3
   },
   "file_extension": ".py",
   "mimetype": "text/x-python",
   "name": "python",
   "nbconvert_exporter": "python",
   "pygments_lexer": "ipython3",
   "version": "3.8.3"
  }
 },
 "nbformat": 4,
 "nbformat_minor": 4
}
