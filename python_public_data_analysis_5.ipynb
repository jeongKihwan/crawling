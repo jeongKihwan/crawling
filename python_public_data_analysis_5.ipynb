{
  "nbformat": 4,
  "nbformat_minor": 0,
  "metadata": {
    "colab": {
      "name": "python_public_data_analysis_5.ipynb",
      "provenance": [],
      "collapsed_sections": []
    },
    "kernelspec": {
      "name": "python3",
      "display_name": "Python 3"
    }
  },
  "cells": [
    {
      "cell_type": "code",
      "metadata": {
        "id": "1LzuVnj6Ahl8",
        "outputId": "e7b4b4ce-02a3-4899-dbe9-03714ecebd29",
        "colab": {
          "resources": {
            "http://localhost:8080/nbextensions/google.colab/files.js": {
              "data": "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",
              "ok": true,
              "headers": [
                [
                  "content-type",
                  "application/javascript"
                ]
              ],
              "status": 200,
              "status_text": ""
            }
          },
          "base_uri": "https://localhost:8080/",
          "height": 113
        }
      },
      "source": [
        "from google.colab import files\n",
        "files.upload()"
      ],
      "execution_count": null,
      "outputs": [
        {
          "output_type": "display_data",
          "data": {
            "text/html": [
              "\n",
              "     <input type=\"file\" id=\"files-8bd98274-5e8b-480c-97a7-6d99a36d7d63\" name=\"files[]\" multiple disabled\n",
              "        style=\"border:none\" />\n",
              "     <output id=\"result-8bd98274-5e8b-480c-97a7-6d99a36d7d63\">\n",
              "      Upload widget is only available when the cell has been executed in the\n",
              "      current browser session. Please rerun this cell to enable.\n",
              "      </output>\n",
              "      <script src=\"/nbextensions/google.colab/files.js\"></script> "
            ],
            "text/plain": [
              "<IPython.core.display.HTML object>"
            ]
          },
          "metadata": {
            "tags": []
          }
        },
        {
          "output_type": "stream",
          "text": [
            "Saving subwayfee.csv to subwayfee.csv\n"
          ],
          "name": "stdout"
        },
        {
          "output_type": "execute_result",
          "data": {
            "text/plain": [
              "{'subwayfee.csv': b'\\xbb\\xe7\\xbf\\xeb\\xbf\\xf9,\\xc8\\xa3\\xbc\\xb1\\xb8\\xed,\\xbf\\xaaID,\\xc1\\xf6\\xc7\\xcf\\xc3\\xb6\\xbf\\xaa,\\xc0\\xaf\\xc0\\xd3\\xbd\\xc2\\xc2\\xf7,\\xc0\\xaf\\xc0\\xd3\\xc7\\xcf\\xc2\\xf7,\\xb9\\xab\\xc0\\xd3\\xbd\\xc2\\xc2\\xf7,\\xb9\\xab\\xc0\\xd3\\xc7\\xcf\\xc2\\xf7\\r\\n2019-01,1\\xc8\\xa3\\xbc\\xb1,0150,\\xbc\\xad\\xbf\\xef\\xbf\\xaa,1516452,1400464,221180,211764\\r\\n2019-01,1\\xc8\\xa3\\xbc\\xb1,0151,\\xbd\\xc3\\xc3\\xbb,676932,676266,102388,101033\\r\\n2019-01,1\\xc8\\xa3\\xbc\\xb1,0152,\\xc1\\xbe\\xb0\\xa2,1240810,1177643,162410,152062\\r\\n2019-01,1\\xc8\\xa3\\xbc\\xb1,0153,\\xc1\\xbe\\xb7\\xce3\\xb0\\xa1,703110,674148,387062,362735\\r\\n2019-01,1\\xc8\\xa3\\xbc\\xb1,0154,\\xc1\\xbe\\xb7\\xce5\\xb0\\xa1,571824,583955,275447,263687\\r\\n2019-01,1\\xc8\\xa3\\xbc\\xb1,0155,\\xb5\\xbf\\xb4\\xeb\\xb9\\xae,308301,342898,134071,138633\\r\\n2019-01,1\\xc8\\xa3\\xbc\\xb1,0156,\\xbd\\xc5\\xbc\\xb3\\xb5\\xbf,360561,353834,126466,120147\\r\\n2019-01,1\\xc8\\xa3\\xbc\\xb1,0157,\\xc1\\xa6\\xb1\\xe2\\xb5\\xbf,293540,288217,374571,400607\\r\\n2019-01,1\\xc8\\xa3\\xbc\\xb1,0158,\\xc3\\xbb\\xb7\\xae\\xb8\\xae(\\xbc\\xad\\xbf\\xef\\xbd\\xc3\\xb8\\xb3\\xb4\\xeb\\xc0\\xd4\\xb1\\xb8),463456,482960,352121,357571\\r\\n2019-01,1\\xc8\\xa3\\xbc\\xb1,0159,\\xb5\\xbf\\xb9\\xa6\\xbe\\xd5,174683,188711,146034,147551\\r\\n2019-01,2\\xc8\\xa3\\xbc\\xb1,0201,\\xbd\\xc3\\xc3\\xbb,706097,679503,61058,55387\\r\\n2019-01,2\\xc8\\xa3\\xbc\\xb1,0202,\\xc0\\xbb\\xc1\\xf6\\xb7\\xce\\xc0\\xd4\\xb1\\xb8,1415414,1414980,120425,111592\\r\\n2019-01,2\\xc8\\xa3\\xbc\\xb1,0203,\\xc0\\xbb\\xc1\\xf6\\xb7\\xce3\\xb0\\xa1,608979,601323,91668,91016\\r\\n2019-01,2\\xc8\\xa3\\xbc\\xb1,0204,\\xc0\\xbb\\xc1\\xf6\\xb7\\xce4\\xb0\\xa1,278663,281834,98689,94261\\r\\n2019-01,2\\xc8\\xa3\\xbc\\xb1,0205,\\xb5\\xbf\\xb4\\xeb\\xb9\\xae\\xbf\\xaa\\xbb\\xe7\\xb9\\xae\\xc8\\xad\\xb0\\xf8\\xbf\\xf8,470548,540467,58918,62861\\r\\n2019-01,2\\xc8\\xa3\\xbc\\xb1,0206,\\xbd\\xc5\\xb4\\xe7,350840,370121,105001,106934\\r\\n2019-01,2\\xc8\\xa3\\xbc\\xb1,0207,\\xbb\\xf3\\xbf\\xd5\\xbd\\xca\\xb8\\xae,370292,352021,70677,71280\\r\\n2019-01,2\\xc8\\xa3\\xbc\\xb1,0208,\\xbf\\xd5\\xbd\\xca\\xb8\\xae(\\xbc\\xba\\xb5\\xbf\\xb1\\xb8\\xc3\\xbb),525543,439506,61311,52124\\r\\n2019-01,2\\xc8\\xa3\\xbc\\xb1,0209,\\xc7\\xd1\\xbe\\xe7\\xb4\\xeb,233785,256079,15380,16652\\r\\n2019-01,2\\xc8\\xa3\\xbc\\xb1,0210,\\xb6\\xd2\\xbc\\xb6,474396,505844,62356,63026\\r\\n2019-01,2\\xc8\\xa3\\xbc\\xb1,0211,\\xbc\\xba\\xbc\\xf6,767696,836948,109790,111635\\r\\n2019-01,2\\xc8\\xa3\\xbc\\xb1,0212,\\xb0\\xc7\\xb4\\xeb\\xc0\\xd4\\xb1\\xb8,1238362,1367192,96044,100954\\r\\n2019-01,2\\xc8\\xa3\\xbc\\xb1,0213,\\xb1\\xb8\\xc0\\xc7(\\xb1\\xa4\\xc1\\xf8\\xb1\\xb8\\xc3\\xbb),640208,617578,110505,111865\\r\\n2019-01,2\\xc8\\xa3\\xbc\\xb1,0214,\\xb0\\xad\\xba\\xaf(\\xb5\\xbf\\xbc\\xad\\xbf\\xef\\xc5\\xcd\\xb9\\xcc\\xb3\\xce),1234132,1210954,143139,137791\\r\\n2019-01,2\\xc8\\xa3\\xbc\\xb1,0215,\\xc0\\xe1\\xbd\\xc7\\xb3\\xaa\\xb7\\xe7,419874,401622,93395,93825\\r\\n2019-01,2\\xc8\\xa3\\xbc\\xb1,0216,\\xc0\\xe1\\xbd\\xc7(\\xbc\\xdb\\xc6\\xc4\\xb1\\xb8\\xc3\\xbb),2416810,2311873,209079,198791\\r\\n2019-01,2\\xc8\\xa3\\xbc\\xb1,0217,\\xc0\\xe1\\xbd\\xc7\\xbb\\xf5\\xb3\\xbb,653006,666914,115042,113965\\r\\n2019-01,2\\xc8\\xa3\\xbc\\xb1,0218,\\xc1\\xbe\\xc7\\xd5\\xbf\\xee\\xb5\\xbf\\xc0\\xe5,249732,274799,46155,48143\\r\\n2019-01,2\\xc8\\xa3\\xbc\\xb1,0219,\\xbb\\xef\\xbc\\xba(\\xb9\\xab\\xbf\\xaa\\xbc\\xbe\\xc5\\xcd),1708765,1751738,130382,122279\\r\\n2019-01,2\\xc8\\xa3\\xbc\\xb1,0220,\\xbc\\xb1\\xb8\\xaa,1512507,1330307,231177,202344\\r\\n2019-01,2\\xc8\\xa3\\xbc\\xb1,0221,\\xbf\\xaa\\xbb\\xef,1381548,1529313,170313,171825\\r\\n2019-01,2\\xc8\\xa3\\xbc\\xb1,0222,\\xb0\\xad\\xb3\\xb2,3153418,3210437,186486,167666\\r\\n2019-01,2\\xc8\\xa3\\xbc\\xb1,0223,\\xb1\\xb3\\xb4\\xeb(\\xb9\\xfd\\xbf\\xf8.\\xb0\\xcb\\xc2\\xfb\\xc3\\xbb),946530,1067419,169873,189952\\r\\n2019-01,2\\xc8\\xa3\\xbc\\xb1,0224,\\xbc\\xad\\xc3\\xca,610589,616036,85793,86672\\r\\n2019-01,2\\xc8\\xa3\\xbc\\xb1,0225,\\xb9\\xe6\\xb9\\xe8,484175,495686,82941,81796\\r\\n2019-01,2\\xc8\\xa3\\xbc\\xb1,0226,\\xbb\\xe7\\xb4\\xe7,1114495,1281460,211281,198971\\r\\n2019-01,2\\xc8\\xa3\\xbc\\xb1,0227,\\xb3\\xab\\xbc\\xba\\xb4\\xeb,795786,764958,116511,117808\\r\\n2019-01,2\\xc8\\xa3\\xbc\\xb1,0228,\\xbc\\xad\\xbf\\xef\\xb4\\xeb\\xc0\\xd4\\xb1\\xb8(\\xb0\\xfc\\xbe\\xc7\\xb1\\xb8\\xc3\\xbb),1424677,1391043,211560,201922\\r\\n2019-01,2\\xc8\\xa3\\xbc\\xb1,0229,\\xba\\xc0\\xc3\\xb5,605635,552653,156696,157860\\r\\n2019-01,2\\xc8\\xa3\\xbc\\xb1,0230,\\xbd\\xc5\\xb8\\xb2,1928249,1883865,249174,254427\\r\\n2019-01,2\\xc8\\xa3\\xbc\\xb1,0231,\\xbd\\xc5\\xb4\\xeb\\xb9\\xe6,741010,699826,129858,131180\\r\\n2019-01,2\\xc8\\xa3\\xbc\\xb1,0232,\\xb1\\xb8\\xb7\\xce\\xb5\\xf0\\xc1\\xf6\\xc5\\xd0\\xb4\\xdc\\xc1\\xf6,1790096,1784632,182537,185035\\r\\n2019-01,2\\xc8\\xa3\\xbc\\xb1,0233,\\xb4\\xeb\\xb8\\xb2(\\xb1\\xb8\\xb7\\xce\\xb1\\xb8\\xc3\\xbb),765065,788044,117840,122048\\r\\n2019-01,2\\xc8\\xa3\\xbc\\xb1,0234,\\xbd\\xc5\\xb5\\xb5\\xb8\\xb2,1601042,1580905,215960,204974\\r\\n2019-01,2\\xc8\\xa3\\xbc\\xb1,0235,\\xb9\\xae\\xb7\\xa1,533563,541539,86593,85835\\r\\n2019-01,2\\xc8\\xa3\\xbc\\xb1,0236,\\xbf\\xb5\\xb5\\xee\\xc6\\xf7\\xb1\\xb8\\xc3\\xbb,569540,578864,107339,105413\\r\\n2019-01,2\\xc8\\xa3\\xbc\\xb1,0237,\\xb4\\xe7\\xbb\\xea,593074,651170,67769,73323\\r\\n2019-01,2\\xc8\\xa3\\xbc\\xb1,0238,\\xc7\\xd5\\xc1\\xa4,963554,1037217,73350,73712\\r\\n2019-01,2\\xc8\\xa3\\xbc\\xb1,0239,\\xc8\\xab\\xb4\\xeb\\xc0\\xd4\\xb1\\xb8,2351935,2507561,114832,111488\\r\\n2019-01,2\\xc8\\xa3\\xbc\\xb1,0240,\\xbd\\xc5\\xc3\\xcc,1293198,1324547,146482,143369\\r\\n2019-01,2\\xc8\\xa3\\xbc\\xb1,0241,\\xc0\\xcc\\xb4\\xeb,476235,498130,56990,57268\\r\\n2019-01,2\\xc8\\xa3\\xbc\\xb1,0242,\\xbe\\xc6\\xc7\\xf6,249121,237525,65983,65834\\r\\n2019-01,2\\xc8\\xa3\\xbc\\xb1,0243,\\xc3\\xe6\\xc1\\xa4\\xb7\\xce(\\xb0\\xe6\\xb1\\xe2\\xb4\\xeb\\xc0\\xd4\\xb1\\xb8),283094,302304,52048,51604\\r\\n2019-01,2\\xc8\\xa3\\xbc\\xb1,0244,\\xbf\\xeb\\xb4\\xe4,62637,62609,17274,17125\\r\\n2019-01,2\\xc8\\xa3\\xbc\\xb1,0245,\\xbd\\xc5\\xb4\\xe4,38031,42538,10674,11506\\r\\n2019-01,2\\xc8\\xa3\\xbc\\xb1,0246,\\xbd\\xc5\\xbc\\xb3\\xb5\\xbf,100784,96388,39618,41247\\r\\n2019-01,2\\xc8\\xa3\\xbc\\xb1,0247,\\xb5\\xb5\\xb8\\xb2\\xc3\\xb5,28512,30572,6495,7268\\r\\n2019-01,2\\xc8\\xa3\\xbc\\xb1,0248,\\xbe\\xe7\\xc3\\xb5\\xb1\\xb8\\xc3\\xbb,164311,174273,45637,46805\\r\\n2019-01,2\\xc8\\xa3\\xbc\\xb1,0249,\\xbd\\xc5\\xc1\\xa4\\xb3\\xd7\\xb0\\xc5\\xb8\\xae,224687,231648,67361,68036\\r\\n2019-01,2\\xc8\\xa3\\xbc\\xb1,0250,\\xbf\\xeb\\xb5\\xce(\\xb5\\xbf\\xb4\\xeb\\xb9\\xae\\xb1\\xb8\\xc3\\xbb),48254,49405,25872,27089\\r\\n2019-01,3\\xc8\\xa3\\xbc\\xb1,0309,\\xc1\\xf6\\xc3\\xe0,23573,25825,8828,11700\\r\\n2019-01,3\\xc8\\xa3\\xbc\\xb1,0310,\\xb1\\xb8\\xc6\\xc4\\xb9\\xdf,514949,475587,102695,95809\\r\\n2019-01,3\\xc8\\xa3\\xbc\\xb1,0311,\\xbf\\xac\\xbd\\xc5\\xb3\\xbb,998373,946477,275949,268661\\r\\n2019-01,3\\xc8\\xa3\\xbc\\xb1,0312,\\xba\\xd2\\xb1\\xa4,420524,457410,151438,166749\\r\\n2019-01,3\\xc8\\xa3\\xbc\\xb1,0313,\\xb3\\xec\\xb9\\xf8,339600,289711,67841,65985\\r\\n2019-01,3\\xc8\\xa3\\xbc\\xb1,0314,\\xc8\\xab\\xc1\\xa6,423880,395539,152183,151005\\r\\n2019-01,3\\xc8\\xa3\\xbc\\xb1,0315,\\xb9\\xab\\xbe\\xc7\\xc0\\xe7,87734,87462,30692,32301\\r\\n2019-01,3\\xc8\\xa3\\xbc\\xb1,0316,\\xb5\\xb6\\xb8\\xb3\\xb9\\xae,162939,169496,75288,74780\\r\\n2019-01,3\\xc8\\xa3\\xbc\\xb1,0317,\\xb0\\xe6\\xba\\xb9\\xb1\\xc3(\\xc1\\xa4\\xba\\xce\\xbc\\xad\\xbf\\xef\\xc3\\xbb\\xbb\\xe7),632058,647453,91432,84303\\r\\n2019-01,3\\xc8\\xa3\\xbc\\xb1,0318,\\xbe\\xc8\\xb1\\xb9,602643,623450,91847,96600\\r\\n2019-01,3\\xc8\\xa3\\xbc\\xb1,0319,\\xc1\\xbe\\xb7\\xce3\\xb0\\xa1,285401,386960,66004,74526\\r\\n2019-01,3\\xc8\\xa3\\xbc\\xb1,0320,\\xc0\\xbb\\xc1\\xf6\\xb7\\xce3\\xb0\\xa1,267923,291747,63164,61895\\r\\n2019-01,3\\xc8\\xa3\\xbc\\xb1,0321,\\xc3\\xe6\\xb9\\xab\\xb7\\xce,55,0,2,0\\r\\n2019-01,3\\xc8\\xa3\\xbc\\xb1,0322,\\xb5\\xbf\\xb4\\xeb\\xc0\\xd4\\xb1\\xb8,273760,299610,35986,38633\\r\\n2019-01,3\\xc8\\xa3\\xbc\\xb1,0323,\\xbe\\xe0\\xbc\\xf6,347979,337106,88077,84353\\r\\n2019-01,3\\xc8\\xa3\\xbc\\xb1,0324,\\xb1\\xdd\\xc8\\xa3,207393,189021,57696,56729\\r\\n2019-01,3\\xc8\\xa3\\xbc\\xb1,0325,\\xbf\\xc1\\xbc\\xf6,237529,247315,59129,59822\\r\\n2019-01,3\\xc8\\xa3\\xbc\\xb1,0326,\\xbe\\xd0\\xb1\\xb8\\xc1\\xa4,900459,993949,150205,148455\\r\\n2019-01,3\\xc8\\xa3\\xbc\\xb1,0327,\\xbd\\xc5\\xbb\\xe7,969740,1044254,76590,73692\\r\\n2019-01,3\\xc8\\xa3\\xbc\\xb1,0328,\\xc0\\xe1\\xbf\\xf8,154384,148266,37920,37127\\r\\n2019-01,3\\xc8\\xa3\\xbc\\xb1,0329,\\xb0\\xed\\xbc\\xd3\\xc5\\xcd\\xb9\\xcc\\xb3\\xce,1672593,1594038,192170,182793\\r\\n2019-01,3\\xc8\\xa3\\xbc\\xb1,0330,\\xb1\\xb3\\xb4\\xeb(\\xb9\\xfd\\xbf\\xf8.\\xb0\\xcb\\xc2\\xfb\\xc3\\xbb),375604,249984,73887,45715\\r\\n2019-01,3\\xc8\\xa3\\xbc\\xb1,0331,\\xb3\\xb2\\xba\\xce\\xc5\\xcd\\xb9\\xcc\\xb3\\xce(\\xbf\\xb9\\xbc\\xfa\\xc0\\xc7\\xc0\\xfc\\xb4\\xe7),964159,987210,128393,128863\\r\\n2019-01,3\\xc8\\xa3\\xbc\\xb1,0332,\\xbe\\xe7\\xc0\\xe7(\\xbc\\xad\\xc3\\xca\\xb1\\xb8\\xc3\\xbb),1082067,1167403,170638,171222\\r\\n2019-01,3\\xc8\\xa3\\xbc\\xb1,0333,\\xb8\\xc5\\xba\\xc0,293172,281731,60062,55114\\r\\n2019-01,3\\xc8\\xa3\\xbc\\xb1,0334,\\xb5\\xb5\\xb0\\xee,145454,148508,28466,24665\\r\\n2019-01,3\\xc8\\xa3\\xbc\\xb1,0335,\\xb4\\xeb\\xc4\\xa1,328634,313771,63912,61647\\r\\n2019-01,3\\xc8\\xa3\\xbc\\xb1,0336,\\xc7\\xd0\\xbf\\xa9\\xbf\\xef,58420,59233,18531,17919\\r\\n2019-01,3\\xc8\\xa3\\xbc\\xb1,0337,\\xb4\\xeb\\xc3\\xbb,243544,217014,54187,52060\\r\\n2019-01,3\\xc8\\xa3\\xbc\\xb1,0338,\\xc0\\xcf\\xbf\\xf8,229657,234627,64134,64834\\r\\n2019-01,3\\xc8\\xa3\\xbc\\xb1,0339,\\xbc\\xf6\\xbc\\xad,455919,453416,104207,101676\\r\\n2019-01,3\\xc8\\xa3\\xbc\\xb1,0340,\\xb0\\xa1\\xb6\\xf4\\xbd\\xc3\\xc0\\xe5,234180,226833,78795,77067\\r\\n2019-01,3\\xc8\\xa3\\xbc\\xb1,0341,\\xb0\\xe6\\xc2\\xfb\\xba\\xb4\\xbf\\xf8,198576,197570,43877,44845\\r\\n2019-01,3\\xc8\\xa3\\xbc\\xb1,0342,\\xbf\\xc0\\xb1\\xdd,178619,158041,29523,27548\\r\\n2019-01,4\\xc8\\xa3\\xbc\\xb1,0409,\\xb4\\xe7\\xb0\\xed\\xb0\\xb3,290085,266616,93657,92102\\r\\n2019-01,4\\xc8\\xa3\\xbc\\xb1,0410,\\xbb\\xf3\\xb0\\xe8,516628,457332,117224,115582\\r\\n2019-01,4\\xc8\\xa3\\xbc\\xb1,0411,\\xb3\\xeb\\xbf\\xf8,578020,669142,94962,93019\\r\\n2019-01,4\\xc8\\xa3\\xbc\\xb1,0412,\\xc3\\xa2\\xb5\\xbf,674935,718930,202889,209219\\r\\n2019-01,4\\xc8\\xa3\\xbc\\xb1,0413,\\xbd\\xd6\\xb9\\xae,831100,723822,172066,167596\\r\\n2019-01,4\\xc8\\xa3\\xbc\\xb1,0414,\\xbc\\xf6\\xc0\\xaf(\\xb0\\xad\\xba\\xcf\\xb1\\xb8\\xc3\\xbb),945148,934275,214439,213726\\r\\n2019-01,4\\xc8\\xa3\\xbc\\xb1,0415,\\xb9\\xcc\\xbe\\xc6(\\xbc\\xad\\xbf\\xef\\xbb\\xe7\\xc0\\xcc\\xb9\\xf6\\xb4\\xeb\\xc7\\xd0),382942,349712,122691,121209\\r\\n2019-01,4\\xc8\\xa3\\xbc\\xb1,0416,\\xb9\\xcc\\xbe\\xc6\\xbb\\xe7\\xb0\\xc5\\xb8\\xae,707702,686868,185575,183967\\r\\n2019-01,4\\xc8\\xa3\\xbc\\xb1,0417,\\xb1\\xe6\\xc0\\xbd,547211,514959,125391,126604\\r\\n2019-01,4\\xc8\\xa3\\xbc\\xb1,0418,\\xbc\\xba\\xbd\\xc5\\xbf\\xa9\\xb4\\xeb\\xc0\\xd4\\xb1\\xb8(\\xb5\\xb7\\xbe\\xcf),609703,581600,93628,93054\\r\\n2019-01,4\\xc8\\xa3\\xbc\\xb1,0419,\\xc7\\xd1\\xbc\\xba\\xb4\\xeb\\xc0\\xd4\\xb1\\xb8(\\xbb\\xef\\xbc\\xb1\\xb1\\xb3),375205,359881,77755,77186\\r\\n2019-01,4\\xc8\\xa3\\xbc\\xb1,0420,\\xc7\\xfd\\xc8\\xad,1128434,1169583,139638,137908\\r\\n2019-01,4\\xc8\\xa3\\xbc\\xb1,0421,\\xb5\\xbf\\xb4\\xeb\\xb9\\xae,591297,606127,150149,140211\\r\\n2019-01,4\\xc8\\xa3\\xbc\\xb1,0422,\\xb5\\xbf\\xb4\\xeb\\xb9\\xae\\xbf\\xaa\\xbb\\xe7\\xb9\\xae\\xc8\\xad\\xb0\\xf8\\xbf\\xf8,604325,545170,63849,57652\\r\\n2019-01,4\\xc8\\xa3\\xbc\\xb1,0423,\\xc3\\xe6\\xb9\\xab\\xb7\\xce,778649,804659,129893,131057\\r\\n2019-01,4\\xc8\\xa3\\xbc\\xb1,0424,\\xb8\\xed\\xb5\\xbf,1013193,1090078,74354,76387\\r\\n2019-01,4\\xc8\\xa3\\xbc\\xb1,0425,\\xc8\\xb8\\xc7\\xf6(\\xb3\\xb2\\xb4\\xeb\\xb9\\xae\\xbd\\xc3\\xc0\\xe5),705485,758424,198383,197336\\r\\n2019-01,4\\xc8\\xa3\\xbc\\xb1,0426,\\xbc\\xad\\xbf\\xef\\xbf\\xaa,367040,634814,42165,53241\\r\\n2019-01,4\\xc8\\xa3\\xbc\\xb1,0427,\\xbc\\xf7\\xb4\\xeb\\xc0\\xd4\\xb1\\xb8(\\xb0\\xa5\\xbf\\xf9),408452,402270,58246,54196\\r\\n2019-01,4\\xc8\\xa3\\xbc\\xb1,0428,\\xbb\\xef\\xb0\\xa2\\xc1\\xf6,123852,147453,28013,29833\\r\\n2019-01,4\\xc8\\xa3\\xbc\\xb1,0429,\\xbd\\xc5\\xbf\\xeb\\xbb\\xea,449542,469059,52330,52195\\r\\n2019-01,4\\xc8\\xa3\\xbc\\xb1,0430,\\xc0\\xcc\\xc3\\xcc(\\xb1\\xb9\\xb8\\xb3\\xc1\\xdf\\xbe\\xd3\\xb9\\xda\\xb9\\xb0\\xb0\\xfc),240562,263802,48131,51639\\r\\n2019-01,4\\xc8\\xa3\\xbc\\xb1,0431,\\xb5\\xbf\\xc0\\xdb(\\xc7\\xf6\\xc3\\xe6\\xbf\\xf8),48849,52497,18799,19144\\r\\n2019-01,4\\xc8\\xa3\\xbc\\xb1,0432,\\xc3\\xd1\\xbd\\xc5\\xb4\\xeb\\xc0\\xd4\\xb1\\xb8(\\xc0\\xcc\\xbc\\xf6),505634,569524,154374,161734\\r\\n2019-01,4\\xc8\\xa3\\xbc\\xb1,0433,\\xbb\\xe7\\xb4\\xe7,797948,668979,96377,98957\\r\\n2019-01,4\\xc8\\xa3\\xbc\\xb1,0434,\\xb3\\xb2\\xc5\\xc2\\xb7\\xc9,38898,27113,8469,7607\\r\\n2019-01,\\xb0\\xe6\\xba\\xce\\xbc\\xb1,1001,\\xbc\\xad\\xbf\\xef\\xbf\\xaa,178223,29980,10325,1612\\r\\n2019-01,\\xb0\\xe6\\xba\\xce\\xbc\\xb1,1002,\\xb3\\xb2\\xbf\\xb5,277702,292630,39574,41277\\r\\n2019-01,\\xb0\\xe6\\xba\\xce\\xbc\\xb1,1003,\\xbf\\xeb\\xbb\\xea,1117965,1137861,130281,129064\\r\\n2019-01,\\xb0\\xe6\\xba\\xce\\xbc\\xb1,1004,\\xb3\\xeb\\xb7\\xae\\xc1\\xf8,354067,325632,46863,43876\\r\\n2019-01,\\xb0\\xe6\\xba\\xce\\xbc\\xb1,1005,\\xb4\\xeb\\xb9\\xe6,375785,377701,71034,70986\\r\\n2019-01,\\xb0\\xe6\\xba\\xce\\xbc\\xb1,1006,\\xbf\\xb5\\xb5\\xee\\xc6\\xf7,1227641,1292898,291705,289797\\r\\n2019-01,\\xb0\\xe6\\xba\\xce\\xbc\\xb1,1007,\\xbd\\xc5\\xb5\\xb5\\xb8\\xb2,93312,95198,21308,24436\\r\\n2019-01,\\xb0\\xe6\\xba\\xce\\xbc\\xb1,1032,\\xbd\\xc5\\xb1\\xe6,252784,206136,46402,42844\\r\\n2019-01,\\xb0\\xe6\\xba\\xce\\xbc\\xb1,1701,\\xb1\\xb8\\xb7\\xce,530917,553635,98540,95357\\r\\n2019-01,\\xb0\\xe6\\xba\\xce\\xbc\\xb1,1702,\\xb0\\xa1\\xbb\\xea\\xb5\\xf0\\xc1\\xf6\\xc5\\xd0\\xb4\\xdc\\xc1\\xf6,470248,552752,31014,33827\\r\\n2019-01,\\xb0\\xe6\\xba\\xce\\xbc\\xb1,1703,\\xb1\\xdd\\xc3\\xb5\\xb1\\xb8\\xc3\\xbb,279888,268537,79353,80253\\r\\n2019-01,\\xb0\\xe6\\xba\\xce\\xbc\\xb1,1704,\\xbc\\xae\\xbc\\xf6,287434,251734,48593,46324\\r\\n2019-01,\\xb0\\xe6\\xba\\xce\\xbc\\xb1,1705,\\xb0\\xfc\\xbe\\xc7,199191,185653,55505,54374\\r\\n2019-01,\\xb0\\xe6\\xba\\xce\\xbc\\xb1,1706,\\xbe\\xc8\\xbe\\xe7,628613,618670,119887,121870\\r\\n2019-01,\\xb0\\xe6\\xba\\xce\\xbc\\xb1,1707,\\xb8\\xed\\xc7\\xd0,241180,240142,43655,43885\\r\\n2019-01,\\xb0\\xe6\\xba\\xce\\xbc\\xb1,1708,\\xb1\\xdd\\xc1\\xa4,707795,712943,109113,110210\\r\\n2019-01,\\xb0\\xe6\\xba\\xce\\xbc\\xb1,1709,\\xb1\\xba\\xc6\\xf7,188981,185580,34841,33522\\r\\n2019-01,\\xb0\\xe6\\xba\\xce\\xbc\\xb1,1710,\\xc0\\xc7\\xbf\\xd5,227093,220280,38975,39248\\r\\n2019-01,\\xb0\\xe6\\xba\\xce\\xbc\\xb1,1711,\\xbc\\xba\\xb1\\xd5\\xb0\\xfc\\xb4\\xeb,409799,397352,54424,54532\\r\\n2019-01,\\xb0\\xe6\\xba\\xce\\xbc\\xb1,1712,\\xc8\\xad\\xbc\\xad,206201,198549,42502,42475\\r\\n2019-01,\\xb0\\xe6\\xba\\xce\\xbc\\xb1,1713,\\xbc\\xf6\\xbf\\xf8,1149442,1218291,147589,155225\\r\\n2019-01,\\xb0\\xe6\\xba\\xce\\xbc\\xb1,1714,\\xb5\\xb6\\xbb\\xea,425046,448103,68162,71765\\r\\n2019-01,\\xb0\\xe6\\xba\\xce\\xbc\\xb1,1715,\\xbc\\xbc\\xb7\\xf9,95555,90492,18211,18161\\r\\n2019-01,\\xb0\\xe6\\xba\\xce\\xbc\\xb1,1716,\\xba\\xb4\\xc1\\xa1,383141,383446,60726,60726\\r\\n2019-01,\\xb0\\xe6\\xba\\xce\\xbc\\xb1,1717,\\xbc\\xbc\\xb8\\xb6,74316,66566,14617,13612\\r\\n2019-01,\\xb0\\xe6\\xba\\xce\\xbc\\xb1,1718,\\xbf\\xc0\\xbb\\xea\\xb4\\xeb,71667,66774,13425,12941\\r\\n2019-01,\\xb0\\xe6\\xba\\xce\\xbc\\xb1,1719,\\xbf\\xc0\\xbb\\xea,255002,248128,43309,43344\\r\\n2019-01,\\xb0\\xe6\\xba\\xce\\xbc\\xb1,1720,\\xc1\\xf8\\xc0\\xa7,40682,34644,7636,7285\\r\\n2019-01,\\xb0\\xe6\\xba\\xce\\xbc\\xb1,1721,\\xbc\\xdb\\xc5\\xba,117953,116502,24326,23812\\r\\n2019-01,\\xb0\\xe6\\xba\\xce\\xbc\\xb1,1722,\\xbc\\xad\\xc1\\xa4\\xb8\\xae,110688,111264,24237,23587\\r\\n2019-01,\\xb0\\xe6\\xba\\xce\\xbc\\xb1,1723,\\xc1\\xf6\\xc1\\xa6,63312,58765,7242,7112\\r\\n2019-01,\\xb0\\xe6\\xba\\xce\\xbc\\xb1,1724,\\xc6\\xf2\\xc5\\xc3,320815,315485,67892,66292\\r\\n2019-01,\\xb0\\xe6\\xba\\xce\\xbc\\xb1,1725,\\xbc\\xba\\xc8\\xaf,78338,78393,20313,20251\\r\\n2019-01,\\xb0\\xe6\\xba\\xce\\xbc\\xb1,1726,\\xc1\\xf7\\xbb\\xea,20397,21029,5366,5284\\r\\n2019-01,\\xb0\\xe6\\xba\\xce\\xbc\\xb1,1727,\\xb5\\xce\\xc1\\xa4,129268,131487,22310,22910\\r\\n2019-01,\\xb0\\xe6\\xba\\xce\\xbc\\xb1,1728,\\xc3\\xb5\\xbe\\xc8,130002,128484,55877,55197\\r\\n2019-01,\\xb0\\xe6\\xba\\xce\\xbc\\xb1,1729,\\xb4\\xe7\\xc1\\xa4,174805,166606,30604,29260\\r\\n2019-01,\\xb0\\xe6\\xba\\xce\\xbc\\xb1,1749,\\xbc\\xad\\xb5\\xbf\\xc5\\xba,42902,36644,10134,9282\\r\\n2019-01,\\xb0\\xe6\\xba\\xce\\xbc\\xb1,1750,\\xb1\\xa4\\xb8\\xed,78196,61098,6431,5470\\r\\n2019-01,\\xb0\\xe6\\xc0\\xce\\xbc\\xb1,1801,\\xb0\\xb3\\xba\\xc0,567257,567401,160030,166520\\r\\n2019-01,\\xb0\\xe6\\xc0\\xce\\xbc\\xb1,1802,\\xbf\\xc0\\xb7\\xf9\\xb5\\xbf,281322,258116,95635,93883\\r\\n2019-01,\\xb0\\xe6\\xc0\\xce\\xbc\\xb1,1803,\\xbf\\xaa\\xb0\\xee,750795,725247,152804,154853\\r\\n2019-01,\\xb0\\xe6\\xc0\\xce\\xbc\\xb1,1804,\\xba\\xce\\xc3\\xb5,983623,994438,218519,220820\\r\\n2019-01,\\xb0\\xe6\\xc0\\xce\\xbc\\xb1,1805,\\xbc\\xdb\\xb3\\xbb,848291,830885,122961,121409\\r\\n2019-01,\\xb0\\xe6\\xc0\\xce\\xbc\\xb1,1806,\\xba\\xce\\xc6\\xf2,1013723,1108119,149188,152451\\r\\n2019-01,\\xb0\\xe6\\xc0\\xce\\xbc\\xb1,1807,\\xb9\\xe9\\xbf\\xee,192357,185035,65110,66354\\r\\n2019-01,\\xb0\\xe6\\xc0\\xce\\xbc\\xb1,1808,\\xb5\\xbf\\xbe\\xcf,444540,440339,102095,102926\\r\\n2019-01,\\xb0\\xe6\\xc0\\xce\\xbc\\xb1,1809,\\xc1\\xd6\\xbe\\xc8,592278,536706,96798,88549\\r\\n2019-01,\\xb0\\xe6\\xc0\\xce\\xbc\\xb1,1810,\\xc1\\xa6\\xb9\\xb0\\xc6\\xf7,253761,235858,60147,60088\\r\\n2019-01,\\xb0\\xe6\\xc0\\xce\\xbc\\xb1,1811,\\xb5\\xbf\\xc0\\xce\\xc3\\xb5,386868,367520,125985,121657\\r\\n2019-01,\\xb0\\xe6\\xc0\\xce\\xbc\\xb1,1812,\\xc0\\xce\\xc3\\xb5,83933,62133,31716,29348\\r\\n2019-01,\\xb0\\xe6\\xc0\\xce\\xbc\\xb1,1813,\\xb1\\xb8\\xc0\\xcf,242468,271261,37355,36989\\r\\n2019-01,\\xb0\\xe6\\xc0\\xce\\xbc\\xb1,1814,\\xbc\\xd2\\xbb\\xe7,255661,236488,72231,71031\\r\\n2019-01,\\xb0\\xe6\\xc0\\xce\\xbc\\xb1,1815,\\xba\\xce\\xb0\\xb3,222869,205618,65846,64691\\r\\n2019-01,\\xb0\\xe6\\xc0\\xce\\xbc\\xb1,1816,\\xb0\\xa3\\xbc\\xae,152262,143703,45549,44132\\r\\n2019-01,\\xb0\\xe6\\xc0\\xce\\xbc\\xb1,1817,\\xb5\\xb5\\xbf\\xf8,64486,64863,35274,36192\\r\\n2019-01,\\xb0\\xe6\\xc0\\xce\\xbc\\xb1,1821,\\xbf\\xc2\\xbc\\xf6(\\xbc\\xba\\xb0\\xf8\\xc8\\xb8\\xb4\\xeb\\xc0\\xd4\\xb1\\xb8),157853,154281,47094,45877\\r\\n2019-01,\\xb0\\xe6\\xc0\\xce\\xbc\\xb1,1822,\\xc1\\xdf\\xb5\\xbf,231711,212763,69190,68129\\r\\n2019-01,\\xb0\\xe6\\xc0\\xce\\xbc\\xb1,1823,\\xb5\\xb5\\xc8\\xad,87519,76548,37883,37025\\r\\n2019-01,\\xb0\\xe6\\xbf\\xf8\\xbc\\xb1,1008,\\xc0\\xcc\\xc3\\xcc(\\xb1\\xb9\\xb8\\xb3\\xc1\\xdf\\xbe\\xd3\\xb9\\xda\\xb9\\xb0\\xb0\\xfc),102572,76092,29477,23974\\r\\n2019-01,\\xb0\\xe6\\xbf\\xf8\\xbc\\xb1,1009,\\xbc\\xad\\xba\\xf9\\xb0\\xed,43668,43508,15757,15152\\r\\n2019-01,\\xb0\\xe6\\xbf\\xf8\\xbc\\xb1,1010,\\xc7\\xd1\\xb3\\xb2,98040,96128,34754,32168\\r\\n2019-01,\\xb0\\xe6\\xbf\\xf8\\xbc\\xb1,1011,\\xbf\\xc1\\xbc\\xf6,1445,788,121,91\\r\\n2019-01,\\xb0\\xe6\\xbf\\xf8\\xbc\\xb1,1012,\\xc0\\xc0\\xba\\xc0,38351,31967,17072,16050\\r\\n2019-01,\\xb0\\xe6\\xbf\\xf8\\xbc\\xb1,1013,\\xbf\\xd5\\xbd\\xca\\xb8\\xae(\\xbc\\xba\\xb5\\xbf\\xb1\\xb8\\xc3\\xbb),422894,480774,62879,67011\\r\\n2019-01,\\xb0\\xe6\\xbf\\xf8\\xbc\\xb1,1014,\\xc3\\xbb\\xb7\\xae\\xb8\\xae(\\xbc\\xad\\xbf\\xef\\xbd\\xc3\\xb8\\xb3\\xb4\\xeb\\xc0\\xd4\\xb1\\xb8),367681,399974,158007,165310\\r\\n2019-01,\\xb0\\xe6\\xbf\\xf8\\xbc\\xb1,1016,\\xbf\\xdc\\xb4\\xeb\\xbe\\xd5,246211,233082,52337,51437\\r\\n2019-01,\\xb0\\xe6\\xbf\\xf8\\xbc\\xb1,1017,\\xbd\\xc5\\xc0\\xcc\\xb9\\xae,215287,187164,65998,64898\\r\\n2019-01,\\xb0\\xe6\\xbf\\xf8\\xbc\\xb1,1018,\\xbc\\xae\\xb0\\xe8,229136,257645,64959,69124\\r\\n2019-01,\\xb0\\xe6\\xbf\\xf8\\xbc\\xb1,1019,\\xb1\\xa4\\xbf\\xee\\xb4\\xeb,205537,192338,53320,53257\\r\\n2019-01,\\xb0\\xe6\\xbf\\xf8\\xbc\\xb1,1020,\\xbf\\xf9\\xb0\\xe8,111870,100025,56640,53811\\r\\n2019-01,\\xb0\\xe6\\xbf\\xf8\\xbc\\xb1,1021,\\xb3\\xec\\xc3\\xb5,109676,88711,39218,35962\\r\\n2019-01,\\xb0\\xe6\\xbf\\xf8\\xbc\\xb1,1022,\\xc3\\xa2\\xb5\\xbf,19,0,0,0\\r\\n2019-01,\\xb0\\xe6\\xbf\\xf8\\xbc\\xb1,1901,\\xb9\\xe6\\xc7\\xd0,197239,188478,109242,107190\\r\\n2019-01,\\xb0\\xe6\\xbf\\xf8\\xbc\\xb1,1902,\\xb5\\xb5\\xba\\xc0,122533,114295,69522,69718\\r\\n2019-01,\\xb0\\xe6\\xbf\\xf8\\xbc\\xb1,1903,\\xb5\\xb5\\xba\\xc0\\xbb\\xea,163088,83849,92078,71779\\r\\n2019-01,\\xb0\\xe6\\xbf\\xf8\\xbc\\xb1,1904,\\xb8\\xc1\\xbf\\xf9\\xbb\\xe7,167313,166632,70977,73305\\r\\n2019-01,\\xb0\\xe6\\xbf\\xf8\\xbc\\xb1,1905,\\xc8\\xb8\\xb7\\xe6,249439,235179,144082,145171\\r\\n2019-01,\\xb0\\xe6\\xbf\\xf8\\xbc\\xb1,1906,\\xc0\\xc7\\xc1\\xa4\\xba\\xce,515625,543580,123588,125444\\r\\n2019-01,\\xb0\\xe6\\xbf\\xf8\\xbc\\xb1,1907,\\xb0\\xa1\\xb4\\xc9,152256,140676,58533,56804\\r\\n2019-01,\\xb0\\xe6\\xbf\\xf8\\xbc\\xb1,1908,\\xb3\\xec\\xbe\\xe7,113568,103216,34658,32717\\r\\n2019-01,\\xb0\\xe6\\xbf\\xf8\\xbc\\xb1,1909,\\xbe\\xe7\\xc1\\xd6,209812,185253,55754,53508\\r\\n2019-01,\\xb0\\xe6\\xbf\\xf8\\xbc\\xb1,1910,\\xb4\\xf6\\xb0\\xe8,40320,36405,15483,14960\\r\\n2019-01,\\xb0\\xe6\\xbf\\xf8\\xbc\\xb1,1911,\\xb4\\xf6\\xc1\\xa4,148065,142591,34959,35462\\r\\n2019-01,\\xb0\\xe6\\xbf\\xf8\\xbc\\xb1,1912,\\xc1\\xf6\\xc7\\xe0,166269,161449,46103,45369\\r\\n2019-01,\\xb0\\xe6\\xbf\\xf8\\xbc\\xb1,1913,\\xb5\\xbf\\xb5\\xce\\xc3\\xb5\\xc1\\xdf\\xbe\\xd3,70022,65811,43089,43205\\r\\n2019-01,\\xb0\\xe6\\xbf\\xf8\\xbc\\xb1,1914,\\xba\\xb8\\xbb\\xea,38762,36526,13880,12911\\r\\n2019-01,\\xb0\\xe6\\xbf\\xf8\\xbc\\xb1,1915,\\xb5\\xbf\\xb5\\xce\\xc3\\xb5,43099,50274,20108,25594\\r\\n2019-01,\\xb0\\xe6\\xbf\\xf8\\xbc\\xb1,1916,\\xbc\\xd2\\xbf\\xe4\\xbb\\xea,48337,37020,62372,54630\\r\\n2019-01,\\xbe\\xc8\\xbb\\xea\\xbc\\xb1,1751,\\xbb\\xea\\xba\\xbb,448304,484455,106437,108079\\r\\n2019-01,\\xbe\\xc8\\xbb\\xea\\xbc\\xb1,1752,\\xb4\\xeb\\xbe\\xdf\\xb9\\xcc,111880,96430,24935,23395\\r\\n2019-01,\\xbe\\xc8\\xbb\\xea\\xbc\\xb1,1753,\\xb9\\xdd\\xbf\\xf9,113530,105344,28230,27928\\r\\n2019-01,\\xbe\\xc8\\xbb\\xea\\xbc\\xb1,1754,\\xbb\\xf3\\xb7\\xcf\\xbc\\xf6,510513,495290,84450,85664\\r\\n2019-01,\\xbe\\xc8\\xbb\\xea\\xbc\\xb1,1755,\\xc7\\xd1\\xb4\\xeb\\xbe\\xd5,216583,210888,37547,37770\\r\\n2019-01,\\xbe\\xc8\\xbb\\xea\\xbc\\xb1,1756,\\xc1\\xdf\\xbe\\xd3,480226,511117,57930,56256\\r\\n2019-01,\\xbe\\xc8\\xbb\\xea\\xbc\\xb1,1757,\\xb0\\xed\\xc0\\xdc,225464,216806,32769,31721\\r\\n2019-01,\\xbe\\xc8\\xbb\\xea\\xbc\\xb1,1758,\\xc3\\xca\\xc1\\xf6,88817,86237,12651,13039\\r\\n2019-01,\\xbe\\xc8\\xbb\\xea\\xbc\\xb1,1759,\\xbe\\xc8\\xbb\\xea,410566,371622,38369,35947\\r\\n2019-01,\\xbe\\xc8\\xbb\\xea\\xbc\\xb1,1760,\\xbd\\xc5\\xb1\\xe6\\xbf\\xc2\\xc3\\xb5,42401,37258,8165,7822\\r\\n2019-01,\\xbe\\xc8\\xbb\\xea\\xbc\\xb1,1761,\\xc1\\xa4\\xbf\\xd5,211750,228532,23897,25505\\r\\n2019-01,\\xbe\\xc8\\xbb\\xea\\xbc\\xb1,1762,\\xbf\\xc0\\xc0\\xcc\\xb5\\xb5,256207,244259,36209,35361\\r\\n2019-01,\\xbe\\xc8\\xbb\\xea\\xbc\\xb1,1763,\\xbc\\xf6\\xb8\\xae\\xbb\\xea,98889,73299,32076,29771\\r\\n2019-01,\\xb0\\xfa\\xc3\\xb5\\xbc\\xb1,1450,\\xbc\\xb1\\xb9\\xd9\\xc0\\xa7,249683,195677,31393,30069\\r\\n2019-01,\\xb0\\xfa\\xc3\\xb5\\xbc\\xb1,1451,\\xb0\\xe6\\xb8\\xb6\\xb0\\xf8\\xbf\\xf8,135284,138630,60965,60991\\r\\n2019-01,\\xb0\\xfa\\xc3\\xb5\\xbc\\xb1,1452,\\xb4\\xeb\\xb0\\xf8\\xbf\\xf8,59162,62171,31234,33183\\r\\n2019-01,\\xb0\\xfa\\xc3\\xb5\\xbc\\xb1,1453,\\xb0\\xfa\\xc3\\xb5,120456,103727,34320,32896\\r\\n2019-01,\\xb0\\xfa\\xc3\\xb5\\xbc\\xb1,1454,\\xc1\\xa4\\xba\\xce\\xb0\\xfa\\xc3\\xb5\\xc3\\xbb\\xbb\\xe7,308487,301902,66282,63635\\r\\n2019-01,\\xb0\\xfa\\xc3\\xb5\\xbc\\xb1,1455,\\xc0\\xce\\xb4\\xf6\\xbf\\xf8,680720,676281,106311,110092\\r\\n2019-01,\\xb0\\xfa\\xc3\\xb5\\xbc\\xb1,1456,\\xc6\\xf2\\xc3\\xcc,464834,457435,66101,66163\\r\\n2019-01,\\xb0\\xfa\\xc3\\xb5\\xbc\\xb1,1457,\\xb9\\xfc\\xb0\\xe8,790403,769393,109095,106063\\r\\n2019-01,\\xba\\xd0\\xb4\\xe7\\xbc\\xb1,1023,\\xbc\\xb1\\xb8\\xaa,278427,500378,34768,51679\\r\\n2019-01,\\xba\\xd0\\xb4\\xe7\\xbc\\xb1,1024,\\xc7\\xd1\\xc6\\xbc,396374,413225,69706,70771\\r\\n2019-01,\\xba\\xd0\\xb4\\xe7\\xbc\\xb1,1025,\\xb5\\xb5\\xb0\\xee,155781,155154,42063,42070\\r\\n2019-01,\\xba\\xd0\\xb4\\xe7\\xbc\\xb1,1026,\\xb1\\xb8\\xb7\\xe6,30857,30299,12434,12239\\r\\n2019-01,\\xba\\xd0\\xb4\\xe7\\xbc\\xb1,1027,\\xb0\\xb3\\xc6\\xf7\\xb5\\xbf,76658,78688,21538,22152\\r\\n2019-01,\\xba\\xd0\\xb4\\xe7\\xbc\\xb1,1028,\\xb4\\xeb\\xb8\\xf0\\xbb\\xea\\xc0\\xd4\\xb1\\xb8,68346,61760,29234,28706\\r\\n2019-01,\\xba\\xd0\\xb4\\xe7\\xbc\\xb1,1030,\\xbc\\xf6\\xbc\\xad,379294,382530,65134,66861\\r\\n2019-01,\\xba\\xd0\\xb4\\xe7\\xbc\\xb1,1031,\\xba\\xb9\\xc1\\xa4,25,0,0,0\\r\\n2019-01,\\xba\\xd0\\xb4\\xe7\\xbc\\xb1,1846,\\xbc\\xf6\\xbf\\xf8,249890,169909,27800,17215\\r\\n2019-01,\\xba\\xd0\\xb4\\xe7\\xbc\\xb1,1847,\\xbc\\xad\\xbf\\xef\\xbd\\xa3,207076,207131,22533,21791\\r\\n2019-01,\\xba\\xd0\\xb4\\xe7\\xbc\\xb1,1848,\\xbe\\xd0\\xb1\\xb8\\xc1\\xa4\\xb7\\xce\\xb5\\xa5\\xbf\\xc0,451755,516671,42330,41182\\r\\n2019-01,\\xba\\xd0\\xb4\\xe7\\xbc\\xb1,1849,\\xb0\\xad\\xb3\\xb2\\xb1\\xb8\\xc3\\xbb,241666,281747,41928,45124\\r\\n2019-01,\\xba\\xd0\\xb4\\xe7\\xbc\\xb1,1850,\\xbc\\xb1\\xc1\\xa4\\xb8\\xaa,203804,224793,32804,32257\\r\\n2019-01,\\xba\\xd0\\xb4\\xe7\\xbc\\xb1,1851,\\xb0\\xa1\\xc3\\xb5\\xb4\\xeb,186832,216023,27334,28811\\r\\n2019-01,\\xba\\xd0\\xb4\\xe7\\xbc\\xb1,1852,\\xc5\\xc2\\xc6\\xf2,352629,338209,91732,95998\\r\\n2019-01,\\xba\\xd0\\xb4\\xe7\\xbc\\xb1,1853,\\xb8\\xf0\\xb6\\xf5,540743,531985,169136,185734\\r\\n2019-01,\\xba\\xd0\\xb4\\xe7\\xbc\\xb1,1854,\\xbe\\xdf\\xc5\\xbe,730803,769807,172832,170673\\r\\n2019-01,\\xba\\xd0\\xb4\\xe7\\xbc\\xb1,1855,\\xbc\\xad\\xc7\\xf6,759497,773561,137206,134207\\r\\n2019-01,\\xba\\xd0\\xb4\\xe7\\xbc\\xb1,1856,\\xbc\\xf6\\xb3\\xbb,364964,360114,82906,82092\\r\\n2019-01,\\xba\\xd0\\xb4\\xe7\\xbc\\xb1,1857,\\xc1\\xa4\\xc0\\xda,451669,484328,76882,77577\\r\\n2019-01,\\xba\\xd0\\xb4\\xe7\\xbc\\xb1,1858,\\xb9\\xcc\\xb1\\xdd,422530,446971,113374,122794\\r\\n2019-01,\\xba\\xd0\\xb4\\xe7\\xbc\\xb1,1859,\\xbf\\xc0\\xb8\\xae,319097,270314,84995,72171\\r\\n2019-01,\\xba\\xd0\\xb4\\xe7\\xbc\\xb1,1860,\\xc0\\xcc\\xb8\\xc5,141591,135340,42041,41000\\r\\n2019-01,\\xba\\xd0\\xb4\\xe7\\xbc\\xb1,1861,\\xba\\xb8\\xc1\\xa4,57611,45834,24755,23232\\r\\n2019-01,\\xba\\xd0\\xb4\\xe7\\xbc\\xb1,1862,\\xc1\\xd7\\xc0\\xfc,377195,428482,80001,88064\\r\\n2019-01,\\xba\\xd0\\xb4\\xe7\\xbc\\xb1,1863,\\xb1\\xb8\\xbc\\xba,111594,112048,38488,38862\\r\\n2019-01,\\xba\\xd0\\xb4\\xe7\\xbc\\xb1,1864,\\xbd\\xc5\\xb0\\xa5,115462,110544,34087,33729\\r\\n2019-01,\\xba\\xd0\\xb4\\xe7\\xbc\\xb1,1865,\\xb1\\xe2\\xc8\\xef,259142,246816,42350,41874\\r\\n2019-01,\\xba\\xd0\\xb4\\xe7\\xbc\\xb1,1866,\\xbb\\xf3\\xb0\\xa5,141070,132410,33606,31461\\r\\n2019-01,\\xba\\xd0\\xb4\\xe7\\xbc\\xb1,1867,\\xc3\\xbb\\xb8\\xed,114105,104334,18842,19140\\r\\n2019-01,\\xba\\xd0\\xb4\\xe7\\xbc\\xb1,1868,\\xbf\\xb5\\xc5\\xeb,254011,260149,31617,31676\\r\\n2019-01,\\xba\\xd0\\xb4\\xe7\\xbc\\xb1,1869,\\xb8\\xc1\\xc6\\xf7,390803,361759,34846,33268\\r\\n2019-01,\\xba\\xd0\\xb4\\xe7\\xbc\\xb1,1870,\\xb8\\xc5\\xc5\\xba\\xb1\\xc7\\xbc\\xb1,122476,114975,16517,15976\\r\\n2019-01,\\xba\\xd0\\xb4\\xe7\\xbc\\xb1,1871,\\xbc\\xf6\\xbf\\xf8\\xbd\\xc3\\xc3\\xbb,339525,385826,38330,39329\\r\\n2019-01,\\xba\\xd0\\xb4\\xe7\\xbc\\xb1,1872,\\xb8\\xc5\\xb1\\xb3,54412,53571,17447,17541\\r\\n2019-01,\\xc0\\xcf\\xbb\\xea\\xbc\\xb1,1948,\\xbf\\xf8\\xc8\\xef,222464,197811,44512,42321\\r\\n2019-01,\\xc0\\xcf\\xbb\\xea\\xbc\\xb1,1949,\\xc1\\xf6\\xc3\\xe0,2,0,0,0\\r\\n2019-01,\\xc0\\xcf\\xbb\\xea\\xbc\\xb1,1950,\\xbb\\xef\\xbc\\xdb,407823,384125,87401,86745\\r\\n2019-01,\\xc0\\xcf\\xbb\\xea\\xbc\\xb1,1951,\\xbf\\xf8\\xb4\\xe7,275272,260445,82585,82374\\r\\n2019-01,\\xc0\\xcf\\xbb\\xea\\xbc\\xb1,1952,\\xc8\\xad\\xc1\\xa4,462731,474664,130390,129775\\r\\n2019-01,\\xc0\\xcf\\xbb\\xea\\xbc\\xb1,1953,\\xb4\\xeb\\xb0\\xee,40040,28528,9210,8295\\r\\n2019-01,\\xc0\\xcf\\xbb\\xea\\xbc\\xb1,1954,\\xb9\\xe9\\xbc\\xae,277088,277139,80740,78852\\r\\n2019-01,\\xc0\\xcf\\xbb\\xea\\xbc\\xb1,1955,\\xb8\\xb6\\xb5\\xce,179985,186549,77167,79437\\r\\n2019-01,\\xc0\\xcf\\xbb\\xea\\xbc\\xb1,1956,\\xc1\\xa4\\xb9\\xdf\\xbb\\xea,208869,225720,56527,52936\\r\\n2019-01,\\xc0\\xcf\\xbb\\xea\\xbc\\xb1,1957,\\xc1\\xd6\\xbf\\xb1,200870,202482,98914,103338\\r\\n2019-01,\\xc0\\xcf\\xbb\\xea\\xbc\\xb1,1958,\\xb4\\xeb\\xc8\\xad,352572,271133,89650,80896\\r\\n2019-01,\\xc1\\xdf\\xbe\\xd3\\xbc\\xb1,1015,\\xc8\\xb8\\xb1\\xe2,684067,666710,129129,128734\\r\\n2019-01,\\xc1\\xdf\\xbe\\xd3\\xbc\\xb1,1201,\\xc1\\xdf\\xb6\\xfb,122101,115472,51649,50612\\r\\n2019-01,\\xc1\\xdf\\xbe\\xd3\\xbc\\xb1,1202,\\xbb\\xf3\\xba\\xc0(\\xbd\\xc3\\xbf\\xdc\\xb9\\xf6\\xbd\\xba\\xc5\\xcd\\xb9\\xcc\\xb3\\xce),143000,137073,39237,36867\\r\\n2019-01,\\xc1\\xdf\\xbe\\xd3\\xbc\\xb1,1203,\\xb8\\xc1\\xbf\\xec,172521,167062,69556,70878\\r\\n2019-01,\\xc1\\xdf\\xbe\\xd3\\xbc\\xb1,1204,\\xbe\\xe7\\xbf\\xf8,28772,29685,15782,15786\\r\\n2019-01,\\xc1\\xdf\\xbe\\xd3\\xbc\\xb1,1205,\\xb1\\xb8\\xb8\\xae,347058,357649,87719,89160\\r\\n2019-01,\\xc1\\xdf\\xbe\\xd3\\xbc\\xb1,1206,\\xb5\\xb5\\xb3\\xf3,216211,187739,58716,55895\\r\\n2019-01,\\xc1\\xdf\\xbe\\xd3\\xbc\\xb1,1207,\\xbe\\xe7\\xc1\\xa4,18096,14747,6967,5937\\r\\n2019-01,\\xc1\\xdf\\xbe\\xd3\\xbc\\xb1,1208,\\xb4\\xf6\\xbc\\xd2,139275,135740,50107,50007\\r\\n2019-01,\\xc1\\xdf\\xbe\\xd3\\xbc\\xb1,1209,\\xb5\\xb5\\xbd\\xc9,58817,44680,20003,18908\\r\\n2019-01,\\xc1\\xdf\\xbe\\xd3\\xbc\\xb1,1210,\\xc6\\xc8\\xb4\\xe7,19184,19206,6176,5803\\r\\n2019-01,\\xc1\\xdf\\xbe\\xd3\\xbc\\xb1,1211,\\xbf\\xee\\xb1\\xe6\\xbb\\xea,14701,13007,5812,5749\\r\\n2019-01,\\xc1\\xdf\\xbe\\xd3\\xbc\\xb1,1212,\\xbe\\xe7\\xbc\\xf6,38629,38962,16598,16754\\r\\n2019-01,\\xc1\\xdf\\xbe\\xd3\\xbc\\xb1,1213,\\xbd\\xc5\\xbf\\xf8,3187,2825,2438,2179\\r\\n2019-01,\\xc1\\xdf\\xbe\\xd3\\xbc\\xb1,1214,\\xb1\\xb9\\xbc\\xf6,14325,13917,8576,8544\\r\\n2019-01,\\xc1\\xdf\\xbe\\xd3\\xbc\\xb1,1215,\\xbe\\xc6\\xbd\\xc5,12518,12536,5118,5017\\r\\n2019-01,\\xc1\\xdf\\xbe\\xd3\\xbc\\xb1,1216,\\xbf\\xc0\\xba\\xf3,5489,5252,3794,3829\\r\\n2019-01,\\xc1\\xdf\\xbe\\xd3\\xbc\\xb1,1217,\\xbe\\xe7\\xc6\\xf2,68513,69220,32615,32589\\r\\n2019-01,\\xc1\\xdf\\xbe\\xd3\\xbc\\xb1,1218,\\xbf\\xf8\\xb4\\xf6,6045,5796,5061,4933\\r\\n2019-01,\\xc1\\xdf\\xbe\\xd3\\xbc\\xb1,1219,\\xbf\\xeb\\xb9\\xae,36259,36316,34572,34257\\r\\n2019-01,\\xc1\\xdf\\xbe\\xd3\\xbc\\xb1,1220,\\xc1\\xf6\\xc6\\xf2,615,566,501,479\\r\\n2019-01,\\xc0\\xe5\\xc7\\xd7\\xbc\\xb1,1401,\\xba\\xc0\\xb8\\xed,25197,24703,13835,13382\\r\\n2019-01,\\xc0\\xe5\\xc7\\xd7\\xbc\\xb1,1402,\\xbd\\xd6\\xbf\\xeb(\\xb3\\xaa\\xbb\\xe7\\xb7\\xbf\\xb4\\xeb),48606,44773,14666,13807\\r\\n2019-01,\\xc0\\xe5\\xc7\\xd7\\xbc\\xb1,1403,\\xbe\\xc6\\xbb\\xea,73834,65751,10005,9277\\r\\n2019-01,\\xc0\\xe5\\xc7\\xd7\\xbc\\xb1,1405,\\xb9\\xe8\\xb9\\xe6,22947,21645,8139,8021\\r\\n2019-01,\\xc0\\xe5\\xc7\\xd7\\xbc\\xb1,1407,\\xbf\\xc2\\xbe\\xe7\\xbf\\xc2\\xc3\\xb5,84623,85690,73363,73626\\r\\n2019-01,\\xc0\\xe5\\xc7\\xd7\\xbc\\xb1,1408,\\xbd\\xc5\\xc3\\xa2(\\xbc\\xf8\\xc3\\xb5\\xc7\\xe2\\xb4\\xeb),27393,26879,7314,6964\\r\\n2019-01,\\xb0\\xe6\\xc0\\xc7\\xbc\\xb1,1251,\\xbc\\xad\\xbf\\xef\\xbf\\xaa,94475,118708,12831,16661\\r\\n2019-01,\\xb0\\xe6\\xc0\\xc7\\xbc\\xb1,1252,\\xbd\\xc5\\xc3\\xcc,21246,28103,3191,3903\\r\\n2019-01,\\xb0\\xe6\\xc0\\xc7\\xbc\\xb1,1261,\\xc8\\xbf\\xc3\\xa2\\xb0\\xf8\\xbf\\xf8\\xbe\\xd5,64044,69279,13047,14475\\r\\n2019-01,\\xb0\\xe6\\xc0\\xc7\\xbc\\xb1,1262,\\xb0\\xf8\\xb4\\xf6,97249,79394,12603,11922\\r\\n2019-01,\\xb0\\xe6\\xc0\\xc7\\xbc\\xb1,1263,\\xbc\\xad\\xb0\\xad\\xb4\\xeb,54116,53339,9629,8898\\r\\n2019-01,\\xb0\\xe6\\xc0\\xc7\\xbc\\xb1,1264,\\xc8\\xab\\xb4\\xeb\\xc0\\xd4\\xb1\\xb8,51771,64757,5906,6468\\r\\n2019-01,\\xb0\\xe6\\xc0\\xc7\\xbc\\xb1,1265,\\xb0\\xa1\\xc1\\xc2,109237,97211,47219,47573\\r\\n2019-01,\\xb0\\xe6\\xc0\\xc7\\xbc\\xb1,1266,\\xb5\\xf0\\xc1\\xf6\\xc5\\xd0\\xb9\\xcc\\xb5\\xf0\\xbe\\xee\\xbd\\xc3\\xc6\\xbc,51241,48032,8623,8640\\r\\n2019-01,\\xb0\\xe6\\xc0\\xc7\\xbc\\xb1,1267,\\xbc\\xf6\\xbb\\xf6,53120,54293,15180,15169\\r\\n2019-01,\\xb0\\xe6\\xc0\\xc7\\xbc\\xb1,1268,\\xc8\\xad\\xc0\\xfc,42874,39439,8114,8020\\r\\n2019-01,\\xb0\\xe6\\xc0\\xc7\\xbc\\xb1,1269,\\xb0\\xad\\xb8\\xc5,68817,55740,16219,15458\\r\\n2019-01,\\xb0\\xe6\\xc0\\xc7\\xbc\\xb1,1270,\\xc7\\xe0\\xbd\\xc5,199484,191845,35522,35886\\r\\n2019-01,\\xb0\\xe6\\xc0\\xc7\\xbc\\xb1,1271,\\xb4\\xc9\\xb0\\xee,82285,73147,28701,27790\\r\\n2019-01,\\xb0\\xe6\\xc0\\xc7\\xbc\\xb1,1272,\\xb0\\xee\\xbb\\xea,11758,11719,4209,4073\\r\\n2019-01,\\xb0\\xe6\\xc0\\xc7\\xbc\\xb1,1273,\\xb9\\xe9\\xb8\\xb6,171339,157674,31842,31126\\r\\n2019-01,\\xb0\\xe6\\xc0\\xc7\\xbc\\xb1,1274,\\xc7\\xb3\\xbb\\xea,131192,119253,30873,30730\\r\\n2019-01,\\xb0\\xe6\\xc0\\xc7\\xbc\\xb1,1275,\\xc0\\xcf\\xbb\\xea,218799,212721,56204,56786\\r\\n2019-01,\\xb0\\xe6\\xc0\\xc7\\xbc\\xb1,1276,\\xc5\\xba\\xc7\\xf6,194496,187025,36597,36267\\r\\n2019-01,\\xb0\\xe6\\xc0\\xc7\\xbc\\xb1,1277,\\xbe\\xdf\\xb4\\xe7,123062,115251,26760,26021\\r\\n2019-01,\\xb0\\xe6\\xc0\\xc7\\xbc\\xb1,1278,\\xbf\\xee\\xc1\\xa4,141244,130069,32911,31481\\r\\n2019-01,\\xb0\\xe6\\xc0\\xc7\\xbc\\xb1,1279,\\xb1\\xdd\\xb8\\xaa,114351,112078,23783,23617\\r\\n2019-01,\\xb0\\xe6\\xc0\\xc7\\xbc\\xb1,1280,\\xb1\\xdd\\xc3\\xcc,169243,166186,44895,45722\\r\\n2019-01,\\xb0\\xe6\\xc0\\xc7\\xbc\\xb1,1282,\\xbf\\xf9\\xb7\\xd5,61746,55813,7194,8019\\r\\n2019-01,\\xb0\\xe6\\xc0\\xc7\\xbc\\xb1,1283,\\xc6\\xc4\\xc1\\xd6,29543,20352,7325,5784\\r\\n2019-01,\\xb0\\xe6\\xc0\\xc7\\xbc\\xb1,1284,\\xb9\\xae\\xbb\\xea,138756,135982,42569,42177\\r\\n2019-01,\\xb0\\xe6\\xc0\\xc7\\xbc\\xb1,1291,\\xbc\\xad\\xbf\\xef\\xbf\\xaa,11,0,0,0\\r\\n2019-01,\\xb0\\xe6\\xc0\\xc7\\xbc\\xb1,1293,\\xc8\\xab\\xb4\\xeb\\xc0\\xd4\\xb1\\xb8,2,0,0,0\\r\\n2019-01,\\xb0\\xe6\\xc0\\xc7\\xbc\\xb1,1295,\\xb1\\xe8\\xc6\\xf7\\xb0\\xf8\\xc7\\xd7,10,0,0,0\\r\\n2019-01,\\xb0\\xe6\\xc0\\xc7\\xbc\\xb1,1296,\\xb0\\xe8\\xbe\\xe7,7,0,0,0\\r\\n2019-01,\\xb0\\xe6\\xc0\\xc7\\xbc\\xb1,1297,\\xb0\\xcb\\xbe\\xcf,5,0,0,0\\r\\n2019-01,\\xb0\\xe6\\xc3\\xe1\\xbc\\xb1,1311,\\xbd\\xc5\\xb3\\xbb,13900,14886,6998,6745\\r\\n2019-01,\\xb0\\xe6\\xc3\\xe1\\xbc\\xb1,1312,\\xb0\\xa5\\xb8\\xc5,63226,54339,16415,15231\\r\\n2019-01,\\xb0\\xe6\\xc3\\xe1\\xbc\\xb1,1313,\\xba\\xb0\\xb3\\xbb,56467,55160,17701,16543\\r\\n2019-01,\\xb0\\xe6\\xc3\\xe1\\xbc\\xb1,1314,\\xc5\\xf0\\xb0\\xe8\\xbf\\xf8,80984,73242,25996,24471\\r\\n2019-01,\\xb0\\xe6\\xc3\\xe1\\xbc\\xb1,1315,\\xbb\\xe7\\xb8\\xaa,82111,77969,18861,18487\\r\\n2019-01,\\xb0\\xe6\\xc3\\xe1\\xbc\\xb1,1316,\\xb1\\xdd\\xb0\\xee,29582,28461,15558,14369\\r\\n2019-01,\\xb0\\xe6\\xc3\\xe1\\xbc\\xb1,1317,\\xc6\\xf2\\xb3\\xbb\\xc8\\xa3\\xc6\\xf2,131330,128279,41797,39593\\r\\n2019-01,\\xb0\\xe6\\xc3\\xe1\\xbc\\xb1,1318,\\xc3\\xb5\\xb8\\xb6\\xbb\\xea,29047,24827,16520,16454\\r\\n2019-01,\\xb0\\xe6\\xc3\\xe1\\xbc\\xb1,1319,\\xb8\\xb6\\xbc\\xae,76587,76036,32473,32259\\r\\n2019-01,\\xb0\\xe6\\xc3\\xe1\\xbc\\xb1,1320,\\xb4\\xeb\\xbc\\xba\\xb8\\xae,13377,12880,4473,4005\\r\\n2019-01,\\xb0\\xe6\\xc3\\xe1\\xbc\\xb1,1321,\\xc3\\xbb\\xc6\\xf2,45320,41255,15084,14790\\r\\n2019-01,\\xb0\\xe6\\xc3\\xe1\\xbc\\xb1,1322,\\xbb\\xf3\\xc3\\xb5,5205,4423,3812,3739\\r\\n2019-01,\\xb0\\xe6\\xc3\\xe1\\xbc\\xb1,1323,\\xb0\\xa1\\xc6\\xf2,43342,45953,12227,11760\\r\\n2019-01,\\xb0\\xe6\\xc3\\xe1\\xbc\\xb1,1324,\\xb1\\xbc\\xba\\xc0\\xbb\\xea,3123,3071,1501,1534\\r\\n2019-01,\\xb0\\xe6\\xc3\\xe1\\xbc\\xb1,1325,\\xb9\\xe9\\xbe\\xe7\\xb8\\xae,8614,8259,720,766\\r\\n2019-01,\\xb0\\xe6\\xc3\\xe1\\xbc\\xb1,1326,\\xb0\\xad\\xc3\\xcc,9716,8853,3707,3635\\r\\n2019-01,\\xb0\\xe6\\xc3\\xe1\\xbc\\xb1,1327,\\xb1\\xe8\\xc0\\xaf\\xc1\\xa4,7769,8199,2731,2742\\r\\n2019-01,\\xb0\\xe6\\xc3\\xe1\\xbc\\xb1,1328,\\xb3\\xb2\\xc3\\xe1\\xc3\\xb5,58343,60051,24195,25346\\r\\n2019-01,\\xb0\\xe6\\xc3\\xe1\\xbc\\xb1,1329,\\xc3\\xe1\\xc3\\xb5,33885,29626,17392,14323\\r\\n2019-01,\\xbc\\xf6\\xc0\\xce\\xbc\\xb1,1878,\\xb4\\xde\\xbf\\xf9,1038,747,865,431\\r\\n2019-01,\\xbc\\xf6\\xc0\\xce\\xbc\\xb1,1879,\\xbf\\xf9\\xb0\\xf9,59105,55042,13378,13156\\r\\n2019-01,\\xbc\\xf6\\xc0\\xce\\xbc\\xb1,1880,\\xbc\\xd2\\xb7\\xa1\\xc6\\xf7\\xb1\\xb8,97856,90366,38607,37484\\r\\n2019-01,\\xbc\\xf6\\xc0\\xce\\xbc\\xb1,1881,\\xc0\\xce\\xc3\\xb5\\xb3\\xed\\xc7\\xf6,149882,156861,34100,33963\\r\\n2019-01,\\xbc\\xf6\\xc0\\xce\\xbc\\xb1,1882,\\xc8\\xa3\\xb1\\xb8\\xc6\\xf7,90870,90716,18151,17957\\r\\n2019-01,\\xbc\\xf6\\xc0\\xce\\xbc\\xb1,1883,\\xb3\\xb2\\xb5\\xbf\\xc0\\xce\\xb4\\xf5\\xbd\\xba\\xc6\\xc4\\xc5\\xa9,54317,60283,5948,5811\\r\\n2019-01,\\xbc\\xf6\\xc0\\xce\\xbc\\xb1,1884,\\xbf\\xf8\\xc0\\xce\\xc0\\xe7,109977,111720,27923,28306\\r\\n2019-01,\\xbc\\xf6\\xc0\\xce\\xbc\\xb1,1885,\\xbf\\xac\\xbc\\xf6,126045,126660,29483,29338\\r\\n2019-01,\\xbc\\xf6\\xc0\\xce\\xbc\\xb1,1886,\\xbc\\xdb\\xb5\\xb5,64785,59378,22506,22191\\r\\n2019-01,\\xbc\\xf6\\xc0\\xce\\xbc\\xb1,1888,\\xc0\\xce\\xc7\\xcf\\xb4\\xeb,134223,125177,23818,22629\\r\\n2019-01,\\xbc\\xf6\\xc0\\xce\\xbc\\xb1,1889,\\xbc\\xfe\\xc0\\xc7,82885,76089,28383,27531\\r\\n2019-01,\\xbc\\xf6\\xc0\\xce\\xbc\\xb1,1890,\\xbd\\xc5\\xc6\\xf7,43861,45326,12921,13331\\r\\n2019-01,\\xbc\\xf6\\xc0\\xce\\xbc\\xb1,1891,\\xc0\\xce\\xc3\\xb5,20868,40378,11458,14049\\r\\n2019-01,\\xb0\\xe6\\xb0\\xad\\xbc\\xb1,1501,\\xc6\\xc7\\xb1\\xb3,107396,108340,12114,10040\\r\\n2019-01,\\xb0\\xe6\\xb0\\xad\\xbc\\xb1,1502,\\xc0\\xcc\\xb8\\xc5,28715,23087,6985,5585\\r\\n2019-01,\\xb0\\xe6\\xb0\\xad\\xbc\\xb1,1503,\\xbb\\xef\\xb5\\xbf,53152,44616,9321,9192\\r\\n2019-01,\\xb0\\xe6\\xb0\\xad\\xbc\\xb1,1504,\\xb0\\xe6\\xb1\\xe2\\xb1\\xa4\\xc1\\xd6,176154,164708,25708,26256\\r\\n2019-01,\\xb0\\xe6\\xb0\\xad\\xbc\\xb1,1505,\\xc3\\xca\\xbf\\xf9,66411,62995,11406,11479\\r\\n2019-01,\\xb0\\xe6\\xb0\\xad\\xbc\\xb1,1506,\\xb0\\xef\\xc1\\xf6\\xbe\\xcf,49314,47245,11014,10654\\r\\n2019-01,\\xb0\\xe6\\xb0\\xad\\xbc\\xb1,1507,\\xbd\\xc5\\xb5\\xd0\\xb5\\xb5\\xbf\\xb9\\xc3\\xcc,27790,25181,5470,5173\\r\\n2019-01,\\xb0\\xe6\\xb0\\xad\\xbc\\xb1,1508,\\xc0\\xcc\\xc3\\xb5,64628,67915,12433,13231\\r\\n2019-01,\\xb0\\xe6\\xb0\\xad\\xbc\\xb1,1509,\\xba\\xce\\xb9\\xdf,45186,42466,6157,5974\\r\\n2019-01,\\xb0\\xe6\\xb0\\xad\\xbc\\xb1,1510,\\xbc\\xbc\\xc1\\xbe\\xb4\\xeb\\xbf\\xd5\\xb8\\xaa,5423,5391,2781,2686\\r\\n2019-01,\\xb0\\xe6\\xb0\\xad\\xbc\\xb1,1511,\\xbf\\xa9\\xc1\\xd6,43963,42968,13529,13267\\r\\n2019-01,5\\xc8\\xa3\\xbc\\xb1,2511,\\xb9\\xe6\\xc8\\xad,171979,160910,48362,46312\\r\\n2019-01,5\\xc8\\xa3\\xbc\\xb1,2512,\\xb0\\xb3\\xc8\\xad\\xbb\\xea,147874,139989,35495,33823\\r\\n2019-01,5\\xc8\\xa3\\xbc\\xb1,2513,\\xb1\\xe8\\xc6\\xf7\\xb0\\xf8\\xc7\\xd7,216911,182963,30949,30878\\r\\n2019-01,5\\xc8\\xa3\\xbc\\xb1,2514,\\xbc\\xdb\\xc1\\xa4,216201,205432,60599,60431\\r\\n2019-01,5\\xc8\\xa3\\xbc\\xb1,2515,\\xb8\\xb6\\xb0\\xee,176763,159755,26922,25724\\r\\n2019-01,5\\xc8\\xa3\\xbc\\xb1,2516,\\xb9\\xdf\\xbb\\xea,448838,457389,72839,70273\\r\\n2019-01,5\\xc8\\xa3\\xbc\\xb1,2517,\\xbf\\xec\\xc0\\xe5\\xbb\\xea,380499,373682,87503,90995\\r\\n2019-01,5\\xc8\\xa3\\xbc\\xb1,2518,\\xc8\\xad\\xb0\\xee,764917,704486,146048,140077\\r\\n2019-01,5\\xc8\\xa3\\xbc\\xb1,2519,\\xb1\\xee\\xc4\\xa1\\xbb\\xea,769021,724296,158304,159488\\r\\n2019-01,5\\xc8\\xa3\\xbc\\xb1,2520,\\xbd\\xc5\\xc1\\xa4(\\xc0\\xba\\xc7\\xe0\\xc1\\xa4),373681,290837,61645,60011\\r\\n2019-01,5\\xc8\\xa3\\xbc\\xb1,2521,\\xb8\\xf1\\xb5\\xbf,468654,506184,88507,89947\\r\\n2019-01,5\\xc8\\xa3\\xbc\\xb1,2522,\\xbf\\xc0\\xb8\\xf1\\xb1\\xb3(\\xb8\\xf1\\xb5\\xbf\\xbf\\xee\\xb5\\xbf\\xc0\\xe5\\xbe\\xd5),666082,722651,86962,86033\\r\\n2019-01,5\\xc8\\xa3\\xbc\\xb1,2523,\\xbe\\xe7\\xc6\\xf2,177617,176162,28711,28330\\r\\n2019-01,5\\xc8\\xa3\\xbc\\xb1,2524,\\xbf\\xb5\\xb5\\xee\\xc6\\xf7\\xb1\\xb8\\xc3\\xbb,88181,92186,20672,20358\\r\\n2019-01,5\\xc8\\xa3\\xbc\\xb1,2525,\\xbf\\xb5\\xb5\\xee\\xc6\\xf7\\xbd\\xc3\\xc0\\xe5,221814,238594,81767,83945\\r\\n2019-01,5\\xc8\\xa3\\xbc\\xb1,2526,\\xbd\\xc5\\xb1\\xe6,89495,103940,11733,12869\\r\\n2019-01,5\\xc8\\xa3\\xbc\\xb1,2527,\\xbf\\xa9\\xc0\\xc7\\xb5\\xb5,683494,729474,52715,51298\\r\\n2019-01,5\\xc8\\xa3\\xbc\\xb1,2528,\\xbf\\xa9\\xc0\\xc7\\xb3\\xaa\\xb7\\xe7,193422,203267,24966,23992\\r\\n2019-01,5\\xc8\\xa3\\xbc\\xb1,2529,\\xb8\\xb6\\xc6\\xf7,372675,386467,65600,65229\\r\\n2019-01,5\\xc8\\xa3\\xbc\\xb1,2530,\\xb0\\xf8\\xb4\\xf6,378952,409930,46749,44068\\r\\n2019-01,5\\xc8\\xa3\\xbc\\xb1,2531,\\xbe\\xd6\\xbf\\xc0\\xb0\\xb3,179895,183018,40186,39053\\r\\n2019-01,5\\xc8\\xa3\\xbc\\xb1,2532,\\xc3\\xe6\\xc1\\xa4\\xb7\\xce(\\xb0\\xe6\\xb1\\xe2\\xb4\\xeb\\xc0\\xd4\\xb1\\xb8),117489,117469,15945,16796\\r\\n2019-01,5\\xc8\\xa3\\xbc\\xb1,2533,\\xbc\\xad\\xb4\\xeb\\xb9\\xae,449372,467665,74055,71241\\r\\n2019-01,5\\xc8\\xa3\\xbc\\xb1,2534,\\xb1\\xa4\\xc8\\xad\\xb9\\xae(\\xbc\\xbc\\xc1\\xbe\\xb9\\xae\\xc8\\xad\\xc8\\xb8\\xb0\\xfc),1022109,1062447,87987,81909\\r\\n2019-01,5\\xc8\\xa3\\xbc\\xb1,2535,\\xc1\\xbe\\xb7\\xce3\\xb0\\xa1,441289,409078,122897,128616\\r\\n2019-01,5\\xc8\\xa3\\xbc\\xb1,2536,\\xc0\\xbb\\xc1\\xf6\\xb7\\xce4\\xb0\\xa1,113913,131046,45925,46569\\r\\n2019-01,5\\xc8\\xa3\\xbc\\xb1,2537,\\xb5\\xbf\\xb4\\xeb\\xb9\\xae\\xbf\\xaa\\xbb\\xe7\\xb9\\xae\\xc8\\xad\\xb0\\xf8\\xbf\\xf8,77768,90305,8975,9733\\r\\n2019-01,5\\xc8\\xa3\\xbc\\xb1,2538,\\xc3\\xbb\\xb1\\xb8,97714,92167,28002,21303\\r\\n2019-01,5\\xc8\\xa3\\xbc\\xb1,2539,\\xbd\\xc5\\xb1\\xdd\\xc8\\xa3,157349,154501,38695,42963\\r\\n2019-01,5\\xc8\\xa3\\xbc\\xb1,2540,\\xc7\\xe0\\xb4\\xe7,212258,185808,49484,45339\\r\\n2019-01,5\\xc8\\xa3\\xbc\\xb1,2541,\\xbf\\xd5\\xbd\\xca\\xb8\\xae(\\xbc\\xba\\xb5\\xbf\\xb1\\xb8\\xc3\\xbb),131362,157349,27177,26204\\r\\n2019-01,5\\xc8\\xa3\\xbc\\xb1,2542,\\xb8\\xb6\\xc0\\xe5,143267,134912,49634,48537\\r\\n2019-01,5\\xc8\\xa3\\xbc\\xb1,2543,\\xb4\\xe4\\xbd\\xca\\xb8\\xae,413270,373975,86799,84604\\r\\n2019-01,5\\xc8\\xa3\\xbc\\xb1,2544,\\xc0\\xe5\\xc7\\xd1\\xc6\\xf2,469205,465274,97119,98163\\r\\n2019-01,5\\xc8\\xa3\\xbc\\xb1,2545,\\xb1\\xba\\xc0\\xda(\\xb4\\xc9\\xb5\\xbf),295969,330997,40193,43687\\r\\n2019-01,5\\xc8\\xa3\\xbc\\xb1,2546,\\xbe\\xc6\\xc2\\xf7\\xbb\\xea(\\xbe\\xee\\xb8\\xb0\\xc0\\xcc\\xb4\\xeb\\xb0\\xf8\\xbf\\xf8\\xc8\\xc4\\xb9\\xae),346110,335278,95520,92686\\r\\n2019-01,5\\xc8\\xa3\\xbc\\xb1,2547,\\xb1\\xa4\\xb3\\xaa\\xb7\\xe7(\\xc0\\xe5\\xbd\\xc5\\xb4\\xeb),366611,328766,68102,66033\\r\\n2019-01,5\\xc8\\xa3\\xbc\\xb1,2548,\\xc3\\xb5\\xc8\\xa3(\\xc7\\xb3\\xb3\\xb3\\xc5\\xe4\\xbc\\xba),484232,496590,140935,149958\\r\\n2019-01,5\\xc8\\xa3\\xbc\\xb1,2549,\\xb0\\xad\\xb5\\xbf,502069,433173,104126,94346\\r\\n2019-01,5\\xc8\\xa3\\xbc\\xb1,2550,\\xb1\\xe6\\xb5\\xbf,165882,175877,66177,67974\\r\\n2019-01,5\\xc8\\xa3\\xbc\\xb1,2551,\\xb1\\xc1\\xc0\\xba\\xb4\\xd9\\xb8\\xae(\\xb0\\xad\\xb5\\xbf\\xb1\\xb8\\xb9\\xce\\xc8\\xb8\\xb0\\xfc\\xbe\\xd5),233202,221182,66208,61275\\r\\n2019-01,5\\xc8\\xa3\\xbc\\xb1,2552,\\xb8\\xed\\xc0\\xcf,186301,194472,60969,63838\\r\\n2019-01,5\\xc8\\xa3\\xbc\\xb1,2553,\\xb0\\xed\\xb4\\xf6,221638,215230,65089,63403\\r\\n2019-01,5\\xc8\\xa3\\xbc\\xb1,2554,\\xbb\\xf3\\xc0\\xcf\\xb5\\xbf,318982,262373,65253,61805\\r\\n2019-01,5\\xc8\\xa3\\xbc\\xb1,2555,\\xb5\\xd0\\xc3\\xcc\\xb5\\xbf,209380,215358,61708,63195\\r\\n2019-01,5\\xc8\\xa3\\xbc\\xb1,2556,\\xbf\\xc3\\xb8\\xb2\\xc7\\xc8\\xb0\\xf8\\xbf\\xf8(\\xc7\\xd1\\xb1\\xb9\\xc3\\xbc\\xb4\\xeb),111922,104819,30864,28555\\r\\n2019-01,5\\xc8\\xa3\\xbc\\xb1,2557,\\xb9\\xe6\\xc0\\xcc,185340,190186,46436,46038\\r\\n2019-01,5\\xc8\\xa3\\xbc\\xb1,2558,\\xbf\\xc0\\xb1\\xdd,90009,89326,18685,18267\\r\\n2019-01,5\\xc8\\xa3\\xbc\\xb1,2559,\\xb0\\xb3\\xb7\\xd5,161324,165432,46963,47841\\r\\n2019-01,5\\xc8\\xa3\\xbc\\xb1,2560,\\xb0\\xc5\\xbf\\xa9,170625,158520,56371,55024\\r\\n2019-01,5\\xc8\\xa3\\xbc\\xb1,2561,\\xb8\\xb6\\xc3\\xb5,109860,107635,49789,52202\\r\\n2019-01,6\\xc8\\xa3\\xbc\\xb1,2611,\\xc0\\xc0\\xbe\\xcf,432574,426356,116207,115202\\r\\n2019-01,6\\xc8\\xa3\\xbc\\xb1,2612,\\xbf\\xaa\\xc3\\xcc,86735,107201,36031,34774\\r\\n2019-01,6\\xc8\\xa3\\xbc\\xb1,2613,\\xba\\xd2\\xb1\\xa4,123414,123733,42571,34561\\r\\n2019-01,6\\xc8\\xa3\\xbc\\xb1,2614,\\xb5\\xb6\\xb9\\xd9\\xc0\\xa7,67135,68946,21527,25819\\r\\n2019-01,6\\xc8\\xa3\\xbc\\xb1,2615,\\xbf\\xac\\xbd\\xc5\\xb3\\xbb,25,0,2,0\\r\\n2019-01,6\\xc8\\xa3\\xbc\\xb1,2616,\\xb1\\xb8\\xbb\\xea,183515,124393,55766,54438\\r\\n2019-01,6\\xc8\\xa3\\xbc\\xb1,2617,\\xbb\\xf5\\xc0\\xfd(\\xbd\\xc5\\xbb\\xe7),309167,290669,87089,88281\\r\\n2019-01,6\\xc8\\xa3\\xbc\\xb1,2618,\\xc1\\xf5\\xbb\\xea(\\xb8\\xed\\xc1\\xf6\\xb4\\xeb\\xbe\\xd5),242882,227254,71063,71069\\r\\n2019-01,6\\xc8\\xa3\\xbc\\xb1,2619,\\xb5\\xf0\\xc1\\xf6\\xc5\\xd0\\xb9\\xcc\\xb5\\xf0\\xbe\\xee\\xbd\\xc3\\xc6\\xbc,348858,385939,53858,53860\\r\\n2019-01,6\\xc8\\xa3\\xbc\\xb1,2620,\\xbf\\xf9\\xb5\\xe5\\xc4\\xc5\\xb0\\xe6\\xb1\\xe2\\xc0\\xe5(\\xbc\\xba\\xbb\\xea),111535,120983,46349,46460\\r\\n2019-01,6\\xc8\\xa3\\xbc\\xb1,2621,\\xb8\\xb6\\xc6\\xf7\\xb1\\xb8\\xc3\\xbb,363189,322426,82469,75604\\r\\n2019-01,6\\xc8\\xa3\\xbc\\xb1,2622,\\xb8\\xc1\\xbf\\xf8,353805,385868,85752,90169\\r\\n2019-01,6\\xc8\\xa3\\xbc\\xb1,2623,\\xc7\\xd5\\xc1\\xa4,436483,386049,42570,37588\\r\\n2019-01,6\\xc8\\xa3\\xbc\\xb1,2624,\\xbb\\xf3\\xbc\\xf6,291531,335798,23172,23503\\r\\n2019-01,6\\xc8\\xa3\\xbc\\xb1,2625,\\xb1\\xa4\\xc8\\xef\\xc3\\xa2(\\xbc\\xad\\xb0\\xad),232495,225081,57776,56950\\r\\n2019-01,6\\xc8\\xa3\\xbc\\xb1,2626,\\xb4\\xeb\\xc8\\xef(\\xbc\\xad\\xb0\\xad\\xb4\\xeb\\xbe\\xd5),209511,220277,48004,47678\\r\\n2019-01,6\\xc8\\xa3\\xbc\\xb1,2627,\\xb0\\xf8\\xb4\\xf6,489399,482818,76137,71833\\r\\n2019-01,6\\xc8\\xa3\\xbc\\xb1,2628,\\xc8\\xbf\\xc3\\xa2\\xb0\\xf8\\xbf\\xf8\\xbe\\xd5,175640,160486,40637,38227\\r\\n2019-01,6\\xc8\\xa3\\xbc\\xb1,2629,\\xbb\\xef\\xb0\\xa2\\xc1\\xf6,184221,152208,18108,14570\\r\\n2019-01,6\\xc8\\xa3\\xbc\\xb1,2630,\\xb3\\xec\\xbb\\xe7\\xc6\\xf2(\\xbf\\xeb\\xbb\\xea\\xb1\\xb8\\xc3\\xbb),157383,165381,19494,18782\\r\\n2019-01,6\\xc8\\xa3\\xbc\\xb1,2631,\\xc0\\xcc\\xc5\\xc2\\xbf\\xf8,448763,498553,34989,36760\\r\\n2019-01,6\\xc8\\xa3\\xbc\\xb1,2632,\\xc7\\xd1\\xb0\\xad\\xc1\\xf8,243064,281963,15723,15679\\r\\n2019-01,6\\xc8\\xa3\\xbc\\xb1,2633,\\xb9\\xf6\\xc6\\xbc\\xb0\\xed\\xb0\\xb3,57730,51894,15137,17314\\r\\n2019-01,6\\xc8\\xa3\\xbc\\xb1,2634,\\xbe\\xe0\\xbc\\xf6,93236,95145,25775,24240\\r\\n2019-01,6\\xc8\\xa3\\xbc\\xb1,2635,\\xc3\\xbb\\xb1\\xb8,94594,98991,19175,24116\\r\\n2019-01,6\\xc8\\xa3\\xbc\\xb1,2636,\\xbd\\xc5\\xb4\\xe7,232009,238760,41243,39818\\r\\n2019-01,6\\xc8\\xa3\\xbc\\xb1,2637,\\xb5\\xbf\\xb9\\xa6\\xbe\\xd5,214228,225214,70909,64736\\r\\n2019-01,6\\xc8\\xa3\\xbc\\xb1,2638,\\xc3\\xa2\\xbd\\xc5,89098,69059,18861,17698\\r\\n2019-01,6\\xc8\\xa3\\xbc\\xb1,2639,\\xba\\xb8\\xb9\\xae,194680,175465,33715,32423\\r\\n2019-01,6\\xc8\\xa3\\xbc\\xb1,2640,\\xbe\\xc8\\xbe\\xcf(\\xb0\\xed\\xb4\\xeb\\xba\\xb4\\xbf\\xf8\\xbe\\xd5),317118,317938,37134,35107\\r\\n2019-01,6\\xc8\\xa3\\xbc\\xb1,2641,\\xb0\\xed\\xb7\\xc1\\xb4\\xeb(\\xc1\\xbe\\xbe\\xcf),232126,221839,35457,35372\\r\\n2019-01,6\\xc8\\xa3\\xbc\\xb1,2642,\\xbf\\xf9\\xb0\\xee(\\xb5\\xbf\\xb4\\xf6\\xbf\\xa9\\xb4\\xeb),293000,280282,81768,80883\\r\\n2019-01,6\\xc8\\xa3\\xbc\\xb1,2643,\\xbb\\xf3\\xbf\\xf9\\xb0\\xee(\\xc7\\xd1\\xb1\\xb9\\xb0\\xfa\\xc7\\xd0\\xb1\\xe2\\xbc\\xfa\\xbf\\xac\\xb1\\xb8\\xbf\\xf8),146489,128535,42556,41455\\r\\n2019-01,6\\xc8\\xa3\\xbc\\xb1,2644,\\xb5\\xb9\\xb0\\xf9\\xc0\\xcc,193137,179733,59198,59109\\r\\n2019-01,6\\xc8\\xa3\\xbc\\xb1,2645,\\xbc\\xae\\xb0\\xe8,315137,318909,78340,79194\\r\\n2019-01,6\\xc8\\xa3\\xbc\\xb1,2646,\\xc5\\xc2\\xb8\\xaa\\xc0\\xd4\\xb1\\xb8,136700,154325,29525,30899\\r\\n2019-01,6\\xc8\\xa3\\xbc\\xb1,2647,\\xc8\\xad\\xb6\\xfb\\xb4\\xeb(\\xbc\\xad\\xbf\\xef\\xbf\\xa9\\xb4\\xeb\\xc0\\xd4\\xb1\\xb8),322367,242084,47593,42333\\r\\n2019-01,6\\xc8\\xa3\\xbc\\xb1,2648,\\xba\\xc0\\xc8\\xad\\xbb\\xea(\\xbc\\xad\\xbf\\xef\\xc0\\xc7\\xb7\\xe1\\xbf\\xf8),250098,223017,54586,52951\\r\\n2019-01,7\\xc8\\xa3\\xbc\\xb1,2711,\\xc0\\xe5\\xbe\\xcf,61254,21459,7103,4372\\r\\n2019-01,7\\xc8\\xa3\\xbc\\xb1,2712,\\xb5\\xb5\\xba\\xc0\\xbb\\xea,229794,268815,38236,55905\\r\\n2019-01,7\\xc8\\xa3\\xbc\\xb1,2713,\\xbc\\xf6\\xb6\\xf4\\xbb\\xea,324221,313250,88802,88833\\r\\n2019-01,7\\xc8\\xa3\\xbc\\xb1,2714,\\xb8\\xb6\\xb5\\xe9,287854,264283,79579,79420\\r\\n2019-01,7\\xc8\\xa3\\xbc\\xb1,2715,\\xb3\\xeb\\xbf\\xf8,536292,575598,122516,121965\\r\\n2019-01,7\\xc8\\xa3\\xbc\\xb1,2716,\\xc1\\xdf\\xb0\\xe8,378203,341527,95196,92966\\r\\n2019-01,7\\xc8\\xa3\\xbc\\xb1,2717,\\xc7\\xcf\\xb0\\xe8,477632,447057,109895,104934\\r\\n2019-01,7\\xc8\\xa3\\xbc\\xb1,2718,\\xb0\\xf8\\xb8\\xaa(\\xbc\\xad\\xbf\\xef\\xb0\\xfa\\xc7\\xd0\\xb1\\xe2\\xbc\\xfa\\xb4\\xeb),304216,303167,69246,69926\\r\\n2019-01,7\\xc8\\xa3\\xbc\\xb1,2719,\\xc5\\xc2\\xb8\\xaa\\xc0\\xd4\\xb1\\xb8,213689,195986,40450,38134\\r\\n2019-01,7\\xc8\\xa3\\xbc\\xb1,2720,\\xb8\\xd4\\xb0\\xf1,267295,257794,64030,64624\\r\\n2019-01,7\\xc8\\xa3\\xbc\\xb1,2721,\\xc1\\xdf\\xc8\\xad,288775,276940,64937,64815\\r\\n2019-01,7\\xc8\\xa3\\xbc\\xb1,2722,\\xbb\\xf3\\xba\\xc0(\\xbd\\xc3\\xbf\\xdc\\xb9\\xf6\\xbd\\xba\\xc5\\xcd\\xb9\\xcc\\xb3\\xce),461901,441190,73224,70184\\r\\n2019-01,7\\xc8\\xa3\\xbc\\xb1,2723,\\xb8\\xe9\\xb8\\xf1,380729,362795,90652,92994\\r\\n2019-01,7\\xc8\\xa3\\xbc\\xb1,2724,\\xbb\\xe7\\xb0\\xa1\\xc1\\xa4,391640,387249,98172,97058\\r\\n2019-01,7\\xc8\\xa3\\xbc\\xb1,2725,\\xbf\\xeb\\xb8\\xb6\\xbb\\xea,156543,142057,35613,38290\\r\\n2019-01,7\\xc8\\xa3\\xbc\\xb1,2726,\\xc1\\xdf\\xb0\\xee,247484,224647,62753,63505\\r\\n2019-01,7\\xc8\\xa3\\xbc\\xb1,2727,\\xb1\\xba\\xc0\\xda(\\xb4\\xc9\\xb5\\xbf),379876,283621,82273,69241\\r\\n2019-01,7\\xc8\\xa3\\xbc\\xb1,2728,\\xbe\\xee\\xb8\\xb0\\xc0\\xcc\\xb4\\xeb\\xb0\\xf8\\xbf\\xf8(\\xbc\\xbc\\xc1\\xbe\\xb4\\xeb),341050,332765,40738,40259\\r\\n2019-01,7\\xc8\\xa3\\xbc\\xb1,2729,\\xb0\\xc7\\xb4\\xeb\\xc0\\xd4\\xb1\\xb8,429463,462509,59256,54166\\r\\n2019-01,7\\xc8\\xa3\\xbc\\xb1,2730,\\xb6\\xd2\\xbc\\xb6\\xc0\\xaf\\xbf\\xf8\\xc1\\xf6,183531,175221,37416,37379\\r\\n2019-01,7\\xc8\\xa3\\xbc\\xb1,2731,\\xc3\\xbb\\xb4\\xe3,532995,623876,75498,73092\\r\\n2019-01,7\\xc8\\xa3\\xbc\\xb1,2732,\\xb0\\xad\\xb3\\xb2\\xb1\\xb8\\xc3\\xbb,414491,464248,49264,49362\\r\\n2019-01,7\\xc8\\xa3\\xbc\\xb1,2733,\\xc7\\xd0\\xb5\\xbf,605493,669069,60736,57602\\r\\n2019-01,7\\xc8\\xa3\\xbc\\xb1,2734,\\xb3\\xed\\xc7\\xf6,551090,612054,53375,53425\\r\\n2019-01,7\\xc8\\xa3\\xbc\\xb1,2735,\\xb9\\xdd\\xc6\\xf7,161316,157023,34431,32417\\r\\n2019-01,7\\xc8\\xa3\\xbc\\xb1,2736,\\xb0\\xed\\xbc\\xd3\\xc5\\xcd\\xb9\\xcc\\xb3\\xce,570975,468885,82867,75227\\r\\n2019-01,7\\xc8\\xa3\\xbc\\xb1,2737,\\xb3\\xbb\\xb9\\xe6,363822,377367,67797,66878\\r\\n2019-01,7\\xc8\\xa3\\xbc\\xb1,2738,\\xc0\\xcc\\xbc\\xf6,439109,431646,82224,78703\\r\\n2019-01,7\\xc8\\xa3\\xbc\\xb1,2739,\\xb3\\xb2\\xbc\\xba,286612,262736,73598,73401\\r\\n2019-01,7\\xc8\\xa3\\xbc\\xb1,2740,\\xbc\\xfe\\xbd\\xc7\\xb4\\xeb\\xc0\\xd4\\xb1\\xb8(\\xbb\\xec\\xc7\\xc7\\xc0\\xe7),350189,344849,62572,64159\\r\\n2019-01,7\\xc8\\xa3\\xbc\\xb1,2741,\\xbb\\xf3\\xb5\\xb5,271885,256237,59009,56522\\r\\n2019-01,7\\xc8\\xa3\\xbc\\xb1,2742,\\xc0\\xe5\\xbd\\xc2\\xb9\\xe8\\xb1\\xe2,264030,254138,76345,76811\\r\\n2019-01,7\\xc8\\xa3\\xbc\\xb1,2743,\\xbd\\xc5\\xb4\\xeb\\xb9\\xe6\\xbb\\xef\\xb0\\xc5\\xb8\\xae,421756,399763,98088,99238\\r\\n2019-01,7\\xc8\\xa3\\xbc\\xb1,2744,\\xba\\xb8\\xb6\\xf3\\xb8\\xc5,242722,243947,47051,46305\\r\\n2019-01,7\\xc8\\xa3\\xbc\\xb1,2745,\\xbd\\xc5\\xc7\\xb3,283897,265440,67385,67472\\r\\n2019-01,7\\xc8\\xa3\\xbc\\xb1,2746,\\xb4\\xeb\\xb8\\xb2(\\xb1\\xb8\\xb7\\xce\\xb1\\xb8\\xc3\\xbb),290072,295419,38373,37061\\r\\n2019-01,7\\xc8\\xa3\\xbc\\xb1,2747,\\xb3\\xb2\\xb1\\xb8\\xb7\\xce,438822,466546,62909,63384\\r\\n2019-01,7\\xc8\\xa3\\xbc\\xb1,2748,\\xb0\\xa1\\xbb\\xea\\xb5\\xf0\\xc1\\xf6\\xc5\\xd0\\xb4\\xdc\\xc1\\xf6,1200693,1191942,82182,77361\\r\\n2019-01,7\\xc8\\xa3\\xbc\\xb1,2749,\\xc3\\xb6\\xbb\\xea,629391,649382,101508,101762\\r\\n2019-01,7\\xc8\\xa3\\xbc\\xb1,2750,\\xb1\\xa4\\xb8\\xed\\xbb\\xe7\\xb0\\xc5\\xb8\\xae,656538,636941,156569,160065\\r\\n2019-01,7\\xc8\\xa3\\xbc\\xb1,2751,\\xc3\\xb5\\xbf\\xd5,224928,204043,49186,48686\\r\\n2019-01,7\\xc8\\xa3\\xbc\\xb1,2752,\\xbf\\xc2\\xbc\\xf6(\\xbc\\xba\\xb0\\xf8\\xc8\\xb8\\xb4\\xeb\\xc0\\xd4\\xb1\\xb8),269728,253933,37163,36681\\r\\n2019-01,7\\xc8\\xa3\\xbc\\xb1,2753,\\xb1\\xee\\xc4\\xa1\\xbf\\xef,195618,182252,24974,25054\\r\\n2019-01,7\\xc8\\xa3\\xbc\\xb1,2754,\\xba\\xce\\xc3\\xb5\\xc1\\xbe\\xc7\\xd5\\xbf\\xee\\xb5\\xbf\\xc0\\xe5,130012,106501,17234,16660\\r\\n2019-01,7\\xc8\\xa3\\xbc\\xb1,2755,\\xc3\\xe1\\xc0\\xc7,250016,244063,30632,30195\\r\\n2019-01,7\\xc8\\xa3\\xbc\\xb1,2756,\\xbd\\xc5\\xc1\\xdf\\xb5\\xbf,399683,395461,57421,55130\\r\\n2019-01,7\\xc8\\xa3\\xbc\\xb1,2757,\\xba\\xce\\xc3\\xb5\\xbd\\xc3\\xc3\\xbb,341611,343460,51722,49756\\r\\n2019-01,7\\xc8\\xa3\\xbc\\xb1,2758,\\xbb\\xf3\\xb5\\xbf,401090,417332,51825,51965\\r\\n2019-01,7\\xc8\\xa3\\xbc\\xb1,2759,\\xbb\\xef\\xbb\\xea\\xc3\\xbc\\xc0\\xb0\\xb0\\xfc,135739,119472,26373,25125\\r\\n2019-01,7\\xc8\\xa3\\xbc\\xb1,2760,\\xb1\\xbc\\xc6\\xf7\\xc3\\xb5,249917,260776,36430,37145\\r\\n2019-01,7\\xc8\\xa3\\xbc\\xb1,2761,\\xba\\xce\\xc6\\xf2\\xb1\\xb8\\xc3\\xbb,330328,262246,31027,27512\\r\\n2019-01,8\\xc8\\xa3\\xbc\\xb1,2811,\\xbe\\xcf\\xbb\\xe7,478470,414407,99780,98455\\r\\n2019-01,8\\xc8\\xa3\\xbc\\xb1,2812,\\xc3\\xb5\\xc8\\xa3(\\xc7\\xb3\\xb3\\xb3\\xc5\\xe4\\xbc\\xba),482110,560223,94403,86933\\r\\n2019-01,8\\xc8\\xa3\\xbc\\xb1,2813,\\xb0\\xad\\xb5\\xbf\\xb1\\xb8\\xc3\\xbb,264480,269595,66036,66708\\r\\n2019-01,8\\xc8\\xa3\\xbc\\xb1,2814,\\xb8\\xf9\\xc3\\xcc\\xc5\\xe4\\xbc\\xba(\\xc6\\xf2\\xc8\\xad\\xc0\\xc7\\xb9\\xae),153437,163804,38289,38408\\r\\n2019-01,8\\xc8\\xa3\\xbc\\xb1,2815,\\xc0\\xe1\\xbd\\xc7(\\xbc\\xdb\\xc6\\xc4\\xb1\\xb8\\xc3\\xbb),413415,486278,71595,68215\\r\\n2019-01,8\\xc8\\xa3\\xbc\\xb1,2816,\\xbc\\xae\\xc3\\xcc,198692,236680,54118,58706\\r\\n2019-01,8\\xc8\\xa3\\xbc\\xb1,2817,\\xbc\\xdb\\xc6\\xc4,144085,143856,43655,43150\\r\\n2019-01,8\\xc8\\xa3\\xbc\\xb1,2818,\\xb0\\xa1\\xb6\\xf4\\xbd\\xc3\\xc0\\xe5,188435,228265,63539,65840\\r\\n2019-01,8\\xc8\\xa3\\xbc\\xb1,2819,\\xb9\\xae\\xc1\\xa4,526918,547695,55650,55591\\r\\n2019-01,8\\xc8\\xa3\\xbc\\xb1,2820,\\xc0\\xe5\\xc1\\xf6,505065,485384,74945,71327\\r\\n2019-01,8\\xc8\\xa3\\xbc\\xb1,2821,\\xba\\xb9\\xc1\\xa4,292774,238941,48071,44076\\r\\n2019-01,8\\xc8\\xa3\\xbc\\xb1,2822,\\xbb\\xea\\xbc\\xba,136393,128901,33395,35788\\r\\n2019-01,8\\xc8\\xa3\\xbc\\xb1,2823,\\xb3\\xb2\\xc7\\xd1\\xbb\\xea\\xbc\\xba\\xc0\\xd4\\xb1\\xb8(\\xbc\\xba\\xb3\\xb2\\xb9\\xfd\\xbf\\xf8.\\xb0\\xcb\\xc2\\xfb\\xc3\\xbb),336308,295457,77979,74953\\r\\n2019-01,8\\xc8\\xa3\\xbc\\xb1,2824,\\xb4\\xdc\\xb4\\xeb\\xbf\\xc0\\xb0\\xc5\\xb8\\xae,262050,253423,69327,66722\\r\\n2019-01,8\\xc8\\xa3\\xbc\\xb1,2825,\\xbd\\xc5\\xc8\\xef,102217,110447,44236,46228\\r\\n2019-01,8\\xc8\\xa3\\xbc\\xb1,2826,\\xbc\\xf6\\xc1\\xf8,121272,109186,50492,49387\\r\\n2019-01,8\\xc8\\xa3\\xbc\\xb1,2827,\\xb8\\xf0\\xb6\\xf5,92614,72139,54120,39575\\r\\n2019-01,9\\xc8\\xa3\\xbc\\xb1,4101,\\xb0\\xb3\\xc8\\xad,169271,110797,35930,27430\\r\\n2019-01,9\\xc8\\xa3\\xbc\\xb1,4102,\\xb1\\xe8\\xc6\\xf7\\xb0\\xf8\\xc7\\xd7,268159,340576,21012,22720\\r\\n2019-01,9\\xc8\\xa3\\xbc\\xb1,4103,\\xb0\\xf8\\xc7\\xd7\\xbd\\xc3\\xc0\\xe5,65907,75438,21652,24306\\r\\n2019-01,9\\xc8\\xa3\\xbc\\xb1,4104,\\xbd\\xc5\\xb9\\xe6\\xc8\\xad,178187,173429,43282,43322\\r\\n2019-01,9\\xc8\\xa3\\xbc\\xb1,4105,\\xb8\\xb6\\xb0\\xee\\xb3\\xaa\\xb7\\xe7,261506,257586,22246,22293\\r\\n2019-01,9\\xc8\\xa3\\xbc\\xb1,4106,\\xbe\\xe7\\xc3\\xb5\\xc7\\xe2\\xb1\\xb3,216273,220728,42628,41972\\r\\n2019-01,9\\xc8\\xa3\\xbc\\xb1,4107,\\xb0\\xa1\\xbe\\xe7,506045,487879,125108,121141\\r\\n2019-01,9\\xc8\\xa3\\xbc\\xb1,4108,\\xc1\\xf5\\xb9\\xcc,172552,175833,42953,43663\\r\\n2019-01,9\\xc8\\xa3\\xbc\\xb1,4109,\\xb5\\xee\\xc3\\xcc,235166,236756,80121,80685\\r\\n2019-01,9\\xc8\\xa3\\xbc\\xb1,4110,\\xbf\\xb0\\xc3\\xa2,442095,426641,66057,65433\\r\\n2019-01,9\\xc8\\xa3\\xbc\\xb1,4111,\\xbd\\xc5\\xb8\\xf1\\xb5\\xbf,100971,88880,18519,17277\\r\\n2019-01,9\\xc8\\xa3\\xbc\\xb1,4112,\\xbc\\xb1\\xc0\\xaf\\xb5\\xb5,184101,180644,25486,24685\\r\\n2019-01,9\\xc8\\xa3\\xbc\\xb1,4113,\\xb4\\xe7\\xbb\\xea,503716,489145,67667,63128\\r\\n2019-01,9\\xc8\\xa3\\xbc\\xb1,4114,\\xb1\\xb9\\xc8\\xb8\\xc0\\xc7\\xbb\\xe7\\xb4\\xe7,432110,428086,54157,46794\\r\\n2019-01,9\\xc8\\xa3\\xbc\\xb1,4115,\\xbf\\xa9\\xc0\\xc7\\xb5\\xb5,605162,596361,44306,41096\\r\\n2019-01,9\\xc8\\xa3\\xbc\\xb1,4116,\\xbb\\xfb\\xb0\\xad,130709,135230,27307,27254\\r\\n2019-01,9\\xc8\\xa3\\xbc\\xb1,4117,\\xb3\\xeb\\xb7\\xae\\xc1\\xf8,809737,845116,96158,97812\\r\\n2019-01,9\\xc8\\xa3\\xbc\\xb1,4118,\\xb3\\xeb\\xb5\\xe9,108438,92267,32103,30095\\r\\n2019-01,9\\xc8\\xa3\\xbc\\xb1,4119,\\xc8\\xe6\\xbc\\xae(\\xc1\\xdf\\xbe\\xd3\\xb4\\xeb\\xc0\\xd4\\xb1\\xb8),214559,224713,56278,58197\\r\\n2019-01,9\\xc8\\xa3\\xbc\\xb1,4120,\\xb5\\xbf\\xc0\\xdb(\\xc7\\xf6\\xc3\\xe6\\xbf\\xf8),44466,32426,13400,11585\\r\\n2019-01,9\\xc8\\xa3\\xbc\\xb1,4121,\\xb1\\xb8\\xb9\\xdd\\xc6\\xf7,72639,77493,25160,25714\\r\\n2019-01,9\\xc8\\xa3\\xbc\\xb1,4122,\\xbd\\xc5\\xb9\\xdd\\xc6\\xf7,68729,69838,21393,22085\\r\\n2019-01,9\\xc8\\xa3\\xbc\\xb1,4123,\\xb0\\xed\\xbc\\xd3\\xc5\\xcd\\xb9\\xcc\\xb3\\xce,341832,554030,51496,61919\\r\\n2019-01,9\\xc8\\xa3\\xbc\\xb1,4124,\\xbb\\xe7\\xc6\\xf2,75728,73217,16687,16793\\r\\n2019-01,9\\xc8\\xa3\\xbc\\xb1,4125,\\xbd\\xc5\\xb3\\xed\\xc7\\xf6,965930,995451,57013,54557\\r\\n2019-01,\\xb0\\xf8\\xc7\\xd7\\xc3\\xb6\\xb5\\xb5 1\\xc8\\xa3\\xbc\\xb1,4201,\\xbc\\xad\\xbf\\xef\\xbf\\xaa,361418,297358,34330,31219\\r\\n2019-01,\\xb0\\xf8\\xc7\\xd7\\xc3\\xb6\\xb5\\xb5 1\\xc8\\xa3\\xbc\\xb1,4202,\\xb0\\xf8\\xb4\\xf6,62886,84969,7191,8384\\r\\n2019-01,\\xb0\\xf8\\xc7\\xd7\\xc3\\xb6\\xb5\\xb5 1\\xc8\\xa3\\xbc\\xb1,4203,\\xc8\\xab\\xb4\\xeb\\xc0\\xd4\\xb1\\xb8,336328,335507,17545,17112\\r\\n2019-01,\\xb0\\xf8\\xc7\\xd7\\xc3\\xb6\\xb5\\xb5 1\\xc8\\xa3\\xbc\\xb1,4204,\\xb5\\xf0\\xc1\\xf6\\xc5\\xd0\\xb9\\xcc\\xb5\\xf0\\xbe\\xee\\xbd\\xc3\\xc6\\xbc,364334,319490,23367,22022\\r\\n2019-01,\\xb0\\xf8\\xc7\\xd7\\xc3\\xb6\\xb5\\xb5 1\\xc8\\xa3\\xbc\\xb1,4206,\\xb8\\xb6\\xb0\\xee\\xb3\\xaa\\xb7\\xe7,133488,119389,8060,8192\\r\\n2019-01,\\xb0\\xf8\\xc7\\xd7\\xc3\\xb6\\xb5\\xb5 1\\xc8\\xa3\\xbc\\xb1,4207,\\xb1\\xe8\\xc6\\xf7\\xb0\\xf8\\xc7\\xd7,300654,196229,18640,14332\\r\\n2019-01,\\xb0\\xf8\\xc7\\xd7\\xc3\\xb6\\xb5\\xb5 1\\xc8\\xa3\\xbc\\xb1,4208,\\xb0\\xe8\\xbe\\xe7,299093,275349,29832,28898\\r\\n2019-01,\\xb0\\xf8\\xc7\\xd7\\xc3\\xb6\\xb5\\xb5 1\\xc8\\xa3\\xbc\\xb1,4209,\\xb0\\xcb\\xbe\\xcf,234050,225849,18332,17974\\r\\n2019-01,\\xb0\\xf8\\xc7\\xd7\\xc3\\xb6\\xb5\\xb5 1\\xc8\\xa3\\xbc\\xb1,4210,\\xc3\\xbb\\xb6\\xf3\\xb1\\xb9\\xc1\\xa6\\xb5\\xb5\\xbd\\xc3,174320,164483,9921,9676\\r\\n2019-01,\\xb0\\xf8\\xc7\\xd7\\xc3\\xb6\\xb5\\xb5 1\\xc8\\xa3\\xbc\\xb1,4211,\\xbf\\xee\\xbc\\xad,181510,187995,22540,22223\\r\\n2019-01,\\xb0\\xf8\\xc7\\xd7\\xc3\\xb6\\xb5\\xb5 1\\xc8\\xa3\\xbc\\xb1,4212,\\xb0\\xf8\\xc7\\xd7\\xc8\\xad\\xb9\\xb0\\xc3\\xbb\\xbb\\xe7,66328,77391,8364,8128\\r\\n2019-01,\\xb0\\xf8\\xc7\\xd7\\xc3\\xb6\\xb5\\xb5 1\\xc8\\xa3\\xbc\\xb1,4213,\\xc0\\xce\\xc3\\xb5\\xb0\\xf8\\xc7\\xd71\\xc5\\xcd\\xb9\\xcc\\xb3\\xce,442059,448913,32280,30925\\r\\n2019-01,\\xb0\\xf8\\xc7\\xd7\\xc3\\xb6\\xb5\\xb5 1\\xc8\\xa3\\xbc\\xb1,4215,\\xc0\\xce\\xc3\\xb5\\xb0\\xf8\\xc7\\xd72\\xc5\\xcd\\xb9\\xcc\\xb3\\xce,156879,139212,15720,14308\\r\\n2019-01,\\xb0\\xf8\\xc7\\xd7\\xc3\\xb6\\xb5\\xb5 1\\xc8\\xa3\\xbc\\xb1,4217,\\xbf\\xb5\\xc1\\xbe,56266,56533,14101,14391\\r\\n2019-01,9\\xc8\\xa3\\xbc\\xb12~3\\xb4\\xdc\\xb0\\xe8,4126,\\xbe\\xf0\\xc1\\xd6,252387,250373,27918,26982\\r\\n2019-01,9\\xc8\\xa3\\xbc\\xb12~3\\xb4\\xdc\\xb0\\xe8,4127,\\xbc\\xb1\\xc1\\xa4\\xb8\\xaa,227032,244880,22287,22837\\r\\n2019-01,9\\xc8\\xa3\\xbc\\xb12~3\\xb4\\xdc\\xb0\\xe8,4128,\\xbb\\xef\\xbc\\xba\\xc1\\xdf\\xbe\\xd3,151060,155520,23091,22945\\r\\n2019-01,9\\xc8\\xa3\\xbc\\xb12~3\\xb4\\xdc\\xb0\\xe8,4129,\\xba\\xc0\\xc0\\xba\\xbb\\xe7,458359,451178,47044,44944\\r\\n2019-01,9\\xc8\\xa3\\xbc\\xb12~3\\xb4\\xdc\\xb0\\xe8,4130,\\xc1\\xbe\\xc7\\xd5\\xbf\\xee\\xb5\\xbf\\xc0\\xe5,123363,110135,16937,14810\\r\\n2019-01,9\\xc8\\xa3\\xbc\\xb12~3\\xb4\\xdc\\xb0\\xe8,4131,\\xbb\\xef\\xc0\\xfc,115510,113979,27484,26938\\r\\n2019-01,9\\xc8\\xa3\\xbc\\xb12~3\\xb4\\xdc\\xb0\\xe8,4132,\\xbc\\xae\\xc3\\xcc\\xb0\\xed\\xba\\xd0,97684,98527,26503,25808\\r\\n2019-01,9\\xc8\\xa3\\xbc\\xb12~3\\xb4\\xdc\\xb0\\xe8,4133,\\xbc\\xae\\xc3\\xcc,134697,99683,24074,18577\\r\\n2019-01,9\\xc8\\xa3\\xbc\\xb12~3\\xb4\\xdc\\xb0\\xe8,4134,\\xbc\\xdb\\xc6\\xc4\\xb3\\xaa\\xb7\\xe7,78484,81312,20228,20157\\r\\n2019-01,9\\xc8\\xa3\\xbc\\xb12~3\\xb4\\xdc\\xb0\\xe8,4135,\\xc7\\xd1\\xbc\\xba\\xb9\\xe9\\xc1\\xa6,45622,39639,10769,9318\\r\\n2019-01,9\\xc8\\xa3\\xbc\\xb12~3\\xb4\\xdc\\xb0\\xe8,4136,\\xbf\\xc3\\xb8\\xb2\\xc7\\xc8\\xb0\\xf8\\xbf\\xf8(\\xc7\\xd1\\xb1\\xb9\\xc3\\xbc\\xb4\\xeb),155506,154127,14235,14305\\r\\n2019-01,9\\xc8\\xa3\\xbc\\xb12~3\\xb4\\xdc\\xb0\\xe8,4137,\\xb5\\xd0\\xc3\\xcc\\xbf\\xc0\\xb7\\xfb,16917,16995,5226,4987\\r\\n2019-01,9\\xc8\\xa3\\xbc\\xb12~3\\xb4\\xdc\\xb0\\xe8,4138,\\xc1\\xdf\\xbe\\xd3\\xba\\xb8\\xc8\\xc6\\xba\\xb4\\xbf\\xf8,126493,113313,57402,58027\\r\\n2019-01,\\xbf\\xec\\xc0\\xcc\\xbd\\xc5\\xbc\\xb3\\xbc\\xb1,4701,\\xba\\xcf\\xc7\\xd1\\xbb\\xea\\xbf\\xec\\xc0\\xcc,48522,39613,32154,32256\\r\\n2019-01,\\xbf\\xec\\xc0\\xcc\\xbd\\xc5\\xbc\\xb3\\xbc\\xb1,4702,\\xbc\\xd6\\xb9\\xe7\\xb0\\xf8\\xbf\\xf8,44120,40598,25998,26357\\r\\n2019-01,\\xbf\\xec\\xc0\\xcc\\xbd\\xc5\\xbc\\xb3\\xbc\\xb1,4703,4.19\\xb9\\xce\\xc1\\xd6\\xb9\\xa6\\xc1\\xf6,49789,48250,28647,26730\\r\\n2019-01,\\xbf\\xec\\xc0\\xcc\\xbd\\xc5\\xbc\\xb3\\xbc\\xb1,4704,\\xb0\\xa1\\xbf\\xc0\\xb8\\xae,77993,73611,44978,46677\\r\\n2019-01,\\xbf\\xec\\xc0\\xcc\\xbd\\xc5\\xbc\\xb3\\xbc\\xb1,4705,\\xc8\\xad\\xb0\\xe8,59426,52190,39531,41027\\r\\n2019-01,\\xbf\\xec\\xc0\\xcc\\xbd\\xc5\\xbc\\xb3\\xbc\\xb1,4706,\\xbb\\xef\\xbe\\xe7,35022,36823,25791,28584\\r\\n2019-01,\\xbf\\xec\\xc0\\xcc\\xbd\\xc5\\xbc\\xb3\\xbc\\xb1,4707,\\xbb\\xef\\xbe\\xe7\\xbb\\xe7\\xb0\\xc5\\xb8\\xae,37572,38401,35436,36998\\r\\n2019-01,\\xbf\\xec\\xc0\\xcc\\xbd\\xc5\\xbc\\xb3\\xbc\\xb1,4708,\\xbc\\xd6\\xbb\\xf9,133044,118786,34119,34990\\r\\n2019-01,\\xbf\\xec\\xc0\\xcc\\xbd\\xc5\\xbc\\xb3\\xbc\\xb1,4709,\\xba\\xcf\\xc7\\xd1\\xbb\\xea\\xba\\xb8\\xb1\\xb9\\xb9\\xae,131839,117790,40396,40629\\r\\n2019-01,\\xbf\\xec\\xc0\\xcc\\xbd\\xc5\\xbc\\xb3\\xbc\\xb1,4710,\\xc1\\xa4\\xb8\\xaa,83527,73090,43457,41092\\r\\n2019-01,\\xbf\\xec\\xc0\\xcc\\xbd\\xc5\\xbc\\xb3\\xbc\\xb1,4711,\\xbc\\xba\\xbd\\xc5\\xbf\\xa9\\xb4\\xeb\\xc0\\xd4\\xb1\\xb8(\\xb5\\xb7\\xbe\\xcf),77040,89799,31555,29648\\r\\n2019-01,\\xbf\\xec\\xc0\\xcc\\xbd\\xc5\\xbc\\xb3\\xbc\\xb1,4712,\\xba\\xb8\\xb9\\xae,31502,32724,15900,16109\\r\\n2019-01,\\xbf\\xec\\xc0\\xcc\\xbd\\xc5\\xbc\\xb3\\xbc\\xb1,4713,\\xbd\\xc5\\xbc\\xb3\\xb5\\xbf,37248,40743,19037,17418\\r\\n'}"
            ]
          },
          "metadata": {
            "tags": []
          },
          "execution_count": 2
        }
      ]
    },
    {
      "cell_type": "code",
      "metadata": {
        "id": "CFvW3Tf4AD3c"
      },
      "source": [
        "import csv\n",
        "f = open('subwayfee.csv', encoding='cp949')\n",
        "data = csv.reader(f)\n",
        "\n",
        "for row in data:\n",
        "  print(row)"
      ],
      "execution_count": null,
      "outputs": []
    },
    {
      "cell_type": "code",
      "metadata": {
        "id": "WbYSx60nBMQj"
      },
      "source": [
        ""
      ],
      "execution_count": null,
      "outputs": []
    },
    {
      "cell_type": "code",
      "metadata": {
        "id": "GjFaH9ryAb91"
      },
      "source": [
        "# 유임승차인원이 최대인 역은 어디인가??"
      ],
      "execution_count": null,
      "outputs": []
    },
    {
      "cell_type": "code",
      "metadata": {
        "id": "9zCzdcKBBKjb"
      },
      "source": [
        "import csv\n",
        "f = open('subwayfee.csv', encoding='cp949')\n",
        "data = csv.reader(f)\n",
        "next(data)\n"
      ],
      "execution_count": null,
      "outputs": []
    },
    {
      "cell_type": "code",
      "metadata": {
        "id": "k_bpg02SCTmq",
        "outputId": "0963743d-b500-4f52-e532-f369843a0087",
        "colab": {
          "base_uri": "https://localhost:8080/",
          "height": 35
        }
      },
      "source": [
        "mx_cus = 0\n",
        "for line in data:\n",
        "  if mx_cus <= int(line[4]):\n",
        "    mx_cus = int(line[4])\n",
        "    station = line[3]\n",
        "print(station, mx_cus)"
      ],
      "execution_count": null,
      "outputs": [
        {
          "output_type": "stream",
          "text": [
            "강남 0\n"
          ],
          "name": "stdout"
        }
      ]
    },
    {
      "cell_type": "code",
      "metadata": {
        "id": "LdqBaBZfDAyZ",
        "outputId": "a9f269f7-8653-4042-f3f0-8445ee69c338",
        "colab": {
          "base_uri": "https://localhost:8080/",
          "height": 110
        }
      },
      "source": [
        "import pandas as pd\n",
        "df = pd.read_csv('subwayfee.csv', encoding='cp949')\n",
        "df.head(2)"
      ],
      "execution_count": null,
      "outputs": [
        {
          "output_type": "execute_result",
          "data": {
            "text/html": [
              "<div>\n",
              "<style scoped>\n",
              "    .dataframe tbody tr th:only-of-type {\n",
              "        vertical-align: middle;\n",
              "    }\n",
              "\n",
              "    .dataframe tbody tr th {\n",
              "        vertical-align: top;\n",
              "    }\n",
              "\n",
              "    .dataframe thead th {\n",
              "        text-align: right;\n",
              "    }\n",
              "</style>\n",
              "<table border=\"1\" class=\"dataframe\">\n",
              "  <thead>\n",
              "    <tr style=\"text-align: right;\">\n",
              "      <th></th>\n",
              "      <th>사용월</th>\n",
              "      <th>호선명</th>\n",
              "      <th>역ID</th>\n",
              "      <th>지하철역</th>\n",
              "      <th>유임승차</th>\n",
              "      <th>유임하차</th>\n",
              "      <th>무임승차</th>\n",
              "      <th>무임하차</th>\n",
              "    </tr>\n",
              "  </thead>\n",
              "  <tbody>\n",
              "    <tr>\n",
              "      <th>0</th>\n",
              "      <td>2019-01</td>\n",
              "      <td>1호선</td>\n",
              "      <td>150</td>\n",
              "      <td>서울역</td>\n",
              "      <td>1516452</td>\n",
              "      <td>1400464</td>\n",
              "      <td>221180</td>\n",
              "      <td>211764</td>\n",
              "    </tr>\n",
              "    <tr>\n",
              "      <th>1</th>\n",
              "      <td>2019-01</td>\n",
              "      <td>1호선</td>\n",
              "      <td>151</td>\n",
              "      <td>시청</td>\n",
              "      <td>676932</td>\n",
              "      <td>676266</td>\n",
              "      <td>102388</td>\n",
              "      <td>101033</td>\n",
              "    </tr>\n",
              "  </tbody>\n",
              "</table>\n",
              "</div>"
            ],
            "text/plain": [
              "       사용월  호선명  역ID 지하철역     유임승차     유임하차    무임승차    무임하차\n",
              "0  2019-01  1호선  150  서울역  1516452  1400464  221180  211764\n",
              "1  2019-01  1호선  151   시청   676932   676266  102388  101033"
            ]
          },
          "metadata": {
            "tags": []
          },
          "execution_count": 27
        }
      ]
    },
    {
      "cell_type": "code",
      "metadata": {
        "id": "XLn_ULoAGSbF",
        "outputId": "2cf6ea56-df86-429a-f30f-55919c8fc969",
        "colab": {
          "base_uri": "https://localhost:8080/",
          "height": 110
        }
      },
      "source": [
        "df[df['지하철역'] == '검암']"
      ],
      "execution_count": null,
      "outputs": [
        {
          "output_type": "execute_result",
          "data": {
            "text/html": [
              "<div>\n",
              "<style scoped>\n",
              "    .dataframe tbody tr th:only-of-type {\n",
              "        vertical-align: middle;\n",
              "    }\n",
              "\n",
              "    .dataframe tbody tr th {\n",
              "        vertical-align: top;\n",
              "    }\n",
              "\n",
              "    .dataframe thead th {\n",
              "        text-align: right;\n",
              "    }\n",
              "</style>\n",
              "<table border=\"1\" class=\"dataframe\">\n",
              "  <thead>\n",
              "    <tr style=\"text-align: right;\">\n",
              "      <th></th>\n",
              "      <th>사용월</th>\n",
              "      <th>호선명</th>\n",
              "      <th>역ID</th>\n",
              "      <th>지하철역</th>\n",
              "      <th>유임승차</th>\n",
              "      <th>유임하차</th>\n",
              "      <th>무임승차</th>\n",
              "      <th>무임하차</th>\n",
              "    </tr>\n",
              "  </thead>\n",
              "  <tbody>\n",
              "    <tr>\n",
              "      <th>332</th>\n",
              "      <td>2019-01</td>\n",
              "      <td>경의선</td>\n",
              "      <td>1297</td>\n",
              "      <td>검암</td>\n",
              "      <td>5</td>\n",
              "      <td>0</td>\n",
              "      <td>0</td>\n",
              "      <td>0</td>\n",
              "    </tr>\n",
              "    <tr>\n",
              "      <th>565</th>\n",
              "      <td>2019-01</td>\n",
              "      <td>공항철도 1호선</td>\n",
              "      <td>4209</td>\n",
              "      <td>검암</td>\n",
              "      <td>234050</td>\n",
              "      <td>225849</td>\n",
              "      <td>18332</td>\n",
              "      <td>17974</td>\n",
              "    </tr>\n",
              "  </tbody>\n",
              "</table>\n",
              "</div>"
            ],
            "text/plain": [
              "         사용월       호선명   역ID 지하철역    유임승차    유임하차   무임승차   무임하차\n",
              "332  2019-01       경의선  1297   검암       5       0      0      0\n",
              "565  2019-01  공항철도 1호선  4209   검암  234050  225849  18332  17974"
            ]
          },
          "metadata": {
            "tags": []
          },
          "execution_count": 28
        }
      ]
    },
    {
      "cell_type": "code",
      "metadata": {
        "id": "fyelkvhMDiby"
      },
      "source": [
        "# 유임승차 비율이 가장 높은 역은?  (유임승차비율 = 유임승차/(유임승차 + 무인승차))"
      ],
      "execution_count": null,
      "outputs": []
    },
    {
      "cell_type": "code",
      "metadata": {
        "id": "XKYWnFAnEZVp",
        "outputId": "5f5d7010-33fe-4cd0-9bf5-5ed7b2370a31",
        "colab": {
          "base_uri": "https://localhost:8080/",
          "height": 35
        }
      },
      "source": [
        "import csv\n",
        "f = open('subwayfee.csv', encoding='cp949')\n",
        "data = csv.reader(f)\n",
        "next(data)\n",
        "next(data)\n",
        "\n",
        "mx_rate = 0\n",
        "for line in data:\n",
        "  if int(line[6]) != 0:\n",
        "    pay_rate = int(line[4])/(int(line[4]) + int(line[6]))\n",
        "    if mx_rate <= pay_rate:\n",
        "      mx_rate = pay_rate\n",
        "      station = line[3]\n",
        "print(station, round(mx_rate, 3))\n"
      ],
      "execution_count": null,
      "outputs": [
        {
          "output_type": "stream",
          "text": [
            "충무로 0.965\n"
          ],
          "name": "stdout"
        }
      ]
    },
    {
      "cell_type": "code",
      "metadata": {
        "id": "mxEzs3GJEacE"
      },
      "source": [
        "# 유임승차인원, 유임하차인원, 무임승차인원, 무임하차인원이 각각 가장 많은 역을 출력.."
      ],
      "execution_count": null,
      "outputs": []
    },
    {
      "cell_type": "code",
      "metadata": {
        "id": "lohSRzpFPHcE",
        "outputId": "594c5e99-b0fa-478e-b054-bfa10387f73f",
        "colab": {
          "base_uri": "https://localhost:8080/",
          "height": 79
        }
      },
      "source": [
        "import pandas as pd\n",
        "df = pd.read_csv('subwayfee.csv', encoding='cp949')\n",
        "df.head(1)"
      ],
      "execution_count": null,
      "outputs": [
        {
          "output_type": "execute_result",
          "data": {
            "text/html": [
              "<div>\n",
              "<style scoped>\n",
              "    .dataframe tbody tr th:only-of-type {\n",
              "        vertical-align: middle;\n",
              "    }\n",
              "\n",
              "    .dataframe tbody tr th {\n",
              "        vertical-align: top;\n",
              "    }\n",
              "\n",
              "    .dataframe thead th {\n",
              "        text-align: right;\n",
              "    }\n",
              "</style>\n",
              "<table border=\"1\" class=\"dataframe\">\n",
              "  <thead>\n",
              "    <tr style=\"text-align: right;\">\n",
              "      <th></th>\n",
              "      <th>사용월</th>\n",
              "      <th>호선명</th>\n",
              "      <th>역ID</th>\n",
              "      <th>지하철역</th>\n",
              "      <th>유임승차</th>\n",
              "      <th>유임하차</th>\n",
              "      <th>무임승차</th>\n",
              "      <th>무임하차</th>\n",
              "    </tr>\n",
              "  </thead>\n",
              "  <tbody>\n",
              "    <tr>\n",
              "      <th>0</th>\n",
              "      <td>2019-01</td>\n",
              "      <td>1호선</td>\n",
              "      <td>150</td>\n",
              "      <td>서울역</td>\n",
              "      <td>1516452</td>\n",
              "      <td>1400464</td>\n",
              "      <td>221180</td>\n",
              "      <td>211764</td>\n",
              "    </tr>\n",
              "  </tbody>\n",
              "</table>\n",
              "</div>"
            ],
            "text/plain": [
              "       사용월  호선명  역ID 지하철역     유임승차     유임하차    무임승차    무임하차\n",
              "0  2019-01  1호선  150  서울역  1516452  1400464  221180  211764"
            ]
          },
          "metadata": {
            "tags": []
          },
          "execution_count": 36
        }
      ]
    },
    {
      "cell_type": "code",
      "metadata": {
        "id": "tvImsJ5AI-nS",
        "outputId": "ed4395bd-9d13-4af4-9ef4-21482a056b16",
        "colab": {
          "base_uri": "https://localhost:8080/",
          "height": 35
        }
      },
      "source": [
        "import csv\n",
        "f = open('subwayfee.csv', encoding='cp949')\n",
        "data = csv.reader(f)\n",
        "next(data)\n",
        "\n",
        "mx_pop = [0]*4\n",
        "mx_station = ['']*4\n",
        "\n",
        "for line in data:\n",
        "  for i in range(4, 8):\n",
        "    if mx_pop[i-4] <= int(line[i]):\n",
        "      mx_pop[i-4] = int(line[i])\n",
        "      mx_station[i-4] = line[3]\n",
        "mx_pop"
      ],
      "execution_count": null,
      "outputs": [
        {
          "output_type": "execute_result",
          "data": {
            "text/plain": [
              "[3153418, 3210437, 387062, 400607]"
            ]
          },
          "metadata": {
            "tags": []
          },
          "execution_count": 33
        }
      ]
    },
    {
      "cell_type": "code",
      "metadata": {
        "id": "0QsVAVQIJJJo",
        "outputId": "40195fa3-eac3-405a-90cc-f4f40ce9b958",
        "colab": {
          "base_uri": "https://localhost:8080/",
          "height": 35
        }
      },
      "source": [
        "mx_station"
      ],
      "execution_count": null,
      "outputs": [
        {
          "output_type": "execute_result",
          "data": {
            "text/plain": [
              "['강남', '강남', '종로3가', '제기동']"
            ]
          },
          "metadata": {
            "tags": []
          },
          "execution_count": 34
        }
      ]
    },
    {
      "cell_type": "code",
      "metadata": {
        "id": "xYDsfDs9Eae6"
      },
      "source": [
        ""
      ],
      "execution_count": null,
      "outputs": []
    },
    {
      "cell_type": "code",
      "metadata": {
        "id": "-UcbdPcIEakE"
      },
      "source": [
        ""
      ],
      "execution_count": null,
      "outputs": []
    },
    {
      "cell_type": "code",
      "metadata": {
        "id": "9DoemTdPEamj"
      },
      "source": [
        ""
      ],
      "execution_count": null,
      "outputs": []
    }
  ]
}