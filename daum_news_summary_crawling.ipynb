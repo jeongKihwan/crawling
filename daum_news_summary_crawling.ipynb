{
 "cells": [
  {
   "cell_type": "code",
   "execution_count": 1,
   "metadata": {},
   "outputs": [],
   "source": [
    "### daum에서 검색어를 입력하고, 뉴스 섹션에서 첫페이지의 제목, 본문링크, \n",
    "### 언론사, summary..를 추출..\n",
    "\n",
    "# ----------------------\n",
    "# 제목 : 빅데이터...\n",
    "# URL : www.sdjfkljsfd.\n",
    "# 언론사: 연합뉴스\n",
    "# 날짜 : 2020.10.06\n",
    "# summary : 빅데이터란 ....\n",
    "# -----------------------\n",
    "# 제목 : 빅데이터...\n",
    "# URL : www.sdjfkljsfd.\n",
    "# 언론사: 연합뉴스\n",
    "# 날짜 : 2020.10.06\n",
    "# summary : 빅데이터란 ....\n",
    "# -----------------------\n",
    "# 제목 : 빅데이터...\n",
    "# URL : www.sdjfkljsfd.\n",
    "# 언론사: 연합뉴스\n",
    "# 날짜 : 2020.10.06\n",
    "# summary : 빅데이터란 ...."
   ]
  },
  {
   "cell_type": "code",
   "execution_count": 5,
   "metadata": {},
   "outputs": [],
   "source": [
    "import requests\n",
    "from bs4 import BeautifulSoup"
   ]
  },
  {
   "cell_type": "code",
   "execution_count": 9,
   "metadata": {},
   "outputs": [
    {
     "data": {
      "text/plain": [
       "<Response [200]>"
      ]
     },
     "execution_count": 9,
     "metadata": {},
     "output_type": "execute_result"
    }
   ],
   "source": [
    "url = 'https://search.daum.net/search?w=news&nil_search=btn&DA=NTB&enc=utf8&cluster=y&cluster_page=1&q=%ED%8C%8C%EC%9D%B4%EC%8D%AC'\n",
    "html = requests.get(url)\n",
    "html"
   ]
  },
  {
   "cell_type": "code",
   "execution_count": 10,
   "metadata": {},
   "outputs": [],
   "source": [
    "soup = BeautifulSoup(html.text, 'html.parser')"
   ]
  },
  {
   "cell_type": "code",
   "execution_count": null,
   "metadata": {},
   "outputs": [],
   "source": [
    "#clusterResultUL > li.fst > div.wrap_cont > div\n",
    "#clusterResultUL > li.fst > div.wrap_cont > div > div > a\n",
    "#clusterResultUL > li.fst > div.wrap_cont > div > span.f_nb.date > span:nth-child(1)\n",
    "#clusterResultUL > li.fst > div.wrap_cont > div > p"
   ]
  },
  {
   "cell_type": "code",
   "execution_count": 14,
   "metadata": {},
   "outputs": [],
   "source": [
    "path = '#clusterResultUL > li.fst > div.wrap_cont > div'\n",
    "title_path = '#clusterResultUL > li.fst > div.wrap_cont > div > div > a'\n",
    "press_path = '#clusterResultUL > li.fst > div.wrap_cont > div > span.f_nb.date'\n",
    "summary_path = '#clusterResultUL > li.fst > div.wrap_cont > div > p'"
   ]
  },
  {
   "cell_type": "code",
   "execution_count": 42,
   "metadata": {
    "collapsed": true
   },
   "outputs": [
    {
     "data": {
      "text/plain": [
       "[<a class=\"f_link_b\" href=\"http://v.media.daum.net/v/20201006134548999?f=o\" onclick='smartLog(this, \"dc=NNS&amp;d=26Y1i2f8tR1AZ0y63d&amp;pg=1&amp;r=1&amp;p=4&amp;rc=10&amp;e1=16ch37p8Eze2f0phkS&amp;e3=0&amp;ext=dsid=26Y1i2f8tR1AZ0y63d\", event, {\"cpid\": {\"value\": \"16ch37p8Eze2f0phkS\"}});' target=\"_blank\">티오베 언어 순위, '<b>파이썬</b>' 자바 위치 넘본다</a>,\n",
       " <a class=\"f_link_b\" href=\"https://cp.news.search.daum.net/p/98002958\" onclick='smartLog(this, \"dc=NNS&amp;d=26xhtxkVOxm3vBabUQ&amp;pg=1&amp;r=2&amp;p=4&amp;rc=10&amp;e1=16oM5rNQgj-I38IYh7&amp;e3=0&amp;ext=dsid=26xhtxkVOxm3vBabUQ\", event, {\"cpid\": {\"value\": \"16oM5rNQgj-I38IYh7\"}});' target=\"_blank\">TIOBE 코딩 언어 순위, <b>파이썬</b> 2위 달성 코앞</a>,\n",
       " <a class=\"f_link_b\" href=\"http://v.media.daum.net/v/20201002090111109?f=o\" onclick='smartLog(this, \"dc=NNS&amp;d=26EnOOaRAV1_U76XKX&amp;pg=1&amp;r=3&amp;p=4&amp;rc=10&amp;e1=16_-rXIov6CN5sdGtY&amp;e3=0&amp;ext=dsid=26EnOOaRAV1_U76XKX\", event, {\"cpid\": {\"value\": \"16_-rXIov6CN5sdGtY\"}});' target=\"_blank\">한국경영인증원, 관악구와 <b>파이썬</b> 활용 데이터 사이언스 비대면 ...</a>,\n",
       " <a class=\"f_link_b\" href=\"https://cp.news.search.daum.net/p/97936906\" onclick='smartLog(this, \"dc=NNS&amp;d=26Fo9Qk0rIA0dbMZ_R&amp;pg=1&amp;r=4&amp;p=4&amp;rc=10&amp;e1=16N-ZtmK4T7c7ekWR1&amp;e3=0&amp;ext=dsid=26Fo9Qk0rIA0dbMZ_R\", event, {\"cpid\": {\"value\": \"16N-ZtmK4T7c7ekWR1\"}});' target=\"_blank\">[포커스 인①] 자바·<b>파이썬</b> 기반 머신러닝 빅데이터의 미래는 소...</a>,\n",
       " <a class=\"f_link_b\" href=\"https://cp.news.search.daum.net/p/97395019\" onclick='smartLog(this, \"dc=NNS&amp;d=26Y2r0O5AQd51Gr7DB&amp;pg=1&amp;r=5&amp;p=4&amp;rc=10&amp;e1=16oM5rNQgj-I38IYh7&amp;e3=0&amp;ext=dsid=26Y2r0O5AQd51Gr7DB\", event, {\"cpid\": {\"value\": \"16oM5rNQgj-I38IYh7\"}});' target=\"_blank\">[제가 방장입니다 ②] <b>파이썬</b> 처음처럼 &amp; 자연어처리 딥러닝</a>,\n",
       " <a class=\"f_link_b\" href=\"http://v.media.daum.net/v/20200825132714155?f=o\" onclick='smartLog(this, \"dc=NNS&amp;d=26dmUk1kJtQu1XrUe0&amp;pg=1&amp;r=6&amp;p=4&amp;rc=10&amp;e1=16A3UMLBwVpURAdVYx&amp;e3=0&amp;ext=dsid=26dmUk1kJtQu1XrUe0\", event, {\"cpid\": {\"value\": \"16A3UMLBwVpURAdVYx\"}});' target=\"_blank\">금투협, 신탁업무 이해·<b>파이썬</b> 입문 과정 개설</a>,\n",
       " <a class=\"f_link_b\" href=\"http://v.media.daum.net/v/20200822190751452?f=o\" onclick='smartLog(this, \"dc=NNS&amp;d=26OP5vTfucAQWILEDq&amp;pg=1&amp;r=7&amp;p=4&amp;rc=10&amp;e1=166KT6l77lf-D_qcvA&amp;e3=0&amp;ext=dsid=26OP5vTfucAQWILEDq\", event, {\"cpid\": {\"value\": \"166KT6l77lf-D_qcvA\"}});' target=\"_blank\">강영민 동명대 교수 저서 '으뜸 <b>파이썬</b>' 세종 우수도서 선정</a>,\n",
       " <a class=\"f_link_b\" href=\"https://cp.news.search.daum.net/p/96979716\" onclick='smartLog(this, \"dc=NNS&amp;d=26EYpFQEHM2mueM0wq&amp;pg=1&amp;r=8&amp;p=4&amp;rc=10&amp;e1=16oM5rNQgj-I38IYh7&amp;e3=0&amp;ext=dsid=26EYpFQEHM2mueM0wq\", event, {\"cpid\": {\"value\": \"16oM5rNQgj-I38IYh7\"}});' target=\"_blank\">\"NASA의 AI 배우세요\"...MS, 초급자용 AIㆍ<b>파이썬</b> 프로그램 출시</a>,\n",
       " <a class=\"f_link_b\" href=\"https://cp.news.search.daum.net/p/96935329\" onclick='smartLog(this, \"dc=NNS&amp;d=26QIs04nyItT96f6A8&amp;pg=1&amp;r=9&amp;p=4&amp;rc=10&amp;e1=16d52wFKu93rKo4C_E&amp;e3=0&amp;ext=dsid=26QIs04nyItT96f6A8\", event, {\"cpid\": {\"value\": \"16d52wFKu93rKo4C_E\"}});' target=\"_blank\">‘<b>파이썬</b>을 이용한 기계학습’</a>,\n",
       " <a class=\"f_link_b\" href=\"http://v.media.daum.net/v/20200729135504594?f=o\" onclick='smartLog(this, \"dc=NNS&amp;d=26DfscI7jQSSYma4A6&amp;pg=1&amp;r=10&amp;p=4&amp;rc=10&amp;e1=16ch37p8Eze2f0phkS&amp;e3=0&amp;ext=dsid=26DfscI7jQSSYma4A6\", event, {\"cpid\": {\"value\": \"16ch37p8Eze2f0phkS\"}});' target=\"_blank\">[신간안내] <b>파이썬</b> 알고리즘 인터뷰</a>]"
      ]
     },
     "execution_count": 42,
     "metadata": {},
     "output_type": "execute_result"
    }
   ],
   "source": [
    "res_t = soup.select('a.f_link_b')\n",
    "res_t"
   ]
  },
  {
   "cell_type": "code",
   "execution_count": 23,
   "metadata": {
    "collapsed": true
   },
   "outputs": [
    {
     "name": "stdout",
     "output_type": "stream",
     "text": [
      "티오베 언어 순위, '파이썬' 자바 위치 넘본다\n",
      "TIOBE 코딩 언어 순위, 파이썬 2위 달성 코앞\n",
      "한국경영인증원, 관악구와 파이썬 활용 데이터 사이언스 비대면 ...\n",
      "[포커스 인①] 자바·파이썬 기반 머신러닝 빅데이터의 미래는 소...\n",
      "[제가 방장입니다 ②] 파이썬 처음처럼 & 자연어처리 딥러닝\n",
      "금투협, 신탁업무 이해·파이썬 입문 과정 개설\n",
      "강영민 동명대 교수 저서 '으뜸 파이썬' 세종 우수도서 선정\n",
      "\"NASA의 AI 배우세요\"...MS, 초급자용 AIㆍ파이썬 프로그램 출시\n",
      "‘파이썬을 이용한 기계학습’\n",
      "[신간안내] 파이썬 알고리즘 인터뷰\n"
     ]
    }
   ],
   "source": [
    "for i in res_t:\n",
    "    print(i.text)"
   ]
  },
  {
   "cell_type": "code",
   "execution_count": 24,
   "metadata": {
    "collapsed": true
   },
   "outputs": [
    {
     "name": "stdout",
     "output_type": "stream",
     "text": [
      "http://v.media.daum.net/v/20201006134548999?f=o\n",
      "https://cp.news.search.daum.net/p/98002958\n",
      "http://v.media.daum.net/v/20201002090111109?f=o\n",
      "https://cp.news.search.daum.net/p/97936906\n",
      "https://cp.news.search.daum.net/p/97395019\n",
      "http://v.media.daum.net/v/20200825132714155?f=o\n",
      "http://v.media.daum.net/v/20200822190751452?f=o\n",
      "https://cp.news.search.daum.net/p/96979716\n",
      "https://cp.news.search.daum.net/p/96935329\n",
      "http://v.media.daum.net/v/20200729135504594?f=o\n"
     ]
    }
   ],
   "source": [
    "for i in res_t:\n",
    "    print(i['href'])"
   ]
  },
  {
   "cell_type": "code",
   "execution_count": 43,
   "metadata": {
    "collapsed": true
   },
   "outputs": [
    {
     "data": {
      "text/plain": [
       "[<span class=\"f_nb date\"> 2020.10.06 <span class=\"txt_bar\">|</span> 지디넷코리아 <span class=\"txt_bar\">|</span> <a \"=\"\" class=\"f_nb\" href=\"http://v.media.daum.net/v/20201006134548999\" onclick='smartLog(this, \"dc=NNS&amp;d=26Y1i2f8tR1AZ0y63d&amp;pg=1&amp;r=1&amp;p=3&amp;rc=10&amp;e1=16ch37p8Eze2f0phkS&amp;e3=0&amp;ext=dsid=26Y1i2f8tR1AZ0y63d\", event, {\"cpid\": {\"value\": \"16ch37p8Eze2f0phkS\"}});' target=\"_blank\">다음뉴스</a> </span>,\n",
       " <span class=\"f_nb date\"> 2020.10.05 <span class=\"txt_bar\">|</span> AI타임스 </span>,\n",
       " <span class=\"f_nb date\"> 2020.10.02 <span class=\"txt_bar\">|</span> 디지털타임스 <span class=\"txt_bar\">|</span> <a \"=\"\" class=\"f_nb\" href=\"http://v.media.daum.net/v/20201002090111109\" onclick='smartLog(this, \"dc=NNS&amp;d=26EnOOaRAV1_U76XKX&amp;pg=1&amp;r=3&amp;p=3&amp;rc=10&amp;e1=16_-rXIov6CN5sdGtY&amp;e3=0&amp;ext=dsid=26EnOOaRAV1_U76XKX\", event, {\"cpid\": {\"value\": \"16_-rXIov6CN5sdGtY\"}});' target=\"_blank\">다음뉴스</a> </span>,\n",
       " <span class=\"f_nb date\"> 2020.10.05 <span class=\"txt_bar\">|</span> 파이낸스투데이 </span>,\n",
       " <span class=\"f_nb date\"> 2020.09.29 <span class=\"txt_bar\">|</span> 데일리그리드 </span>,\n",
       " <span class=\"f_nb date\"> 2020.09.29 <span class=\"txt_bar\">|</span> 에듀동아 </span>,\n",
       " <span class=\"f_nb date\"> 2020.09.15 <span class=\"txt_bar\">|</span> AI타임스 </span>,\n",
       " <span class=\"f_nb date\"> 2020.08.25 <span class=\"txt_bar\">|</span> 데일리안 <span class=\"txt_bar\">|</span> <a \"=\"\" class=\"f_nb\" href=\"http://v.media.daum.net/v/20200825132714155\" onclick='smartLog(this, \"dc=NNS&amp;d=26dmUk1kJtQu1XrUe0&amp;pg=1&amp;r=6&amp;p=3&amp;rc=10&amp;e1=16A3UMLBwVpURAdVYx&amp;e3=0&amp;ext=dsid=26dmUk1kJtQu1XrUe0\", event, {\"cpid\": {\"value\": \"16A3UMLBwVpURAdVYx\"}});' target=\"_blank\">다음뉴스</a> </span>,\n",
       " <span class=\"f_nb date\"> 2020.08.25 <span class=\"txt_bar\">|</span> 매일일보 </span>,\n",
       " <span class=\"f_nb date\"> 2020.08.25 <span class=\"txt_bar\">|</span> EBN </span>,\n",
       " <span class=\"f_nb date\"> 2020.08.25 <span class=\"txt_bar\">|</span> 신아일보 </span>,\n",
       " <span class=\"f_nb date\"> 2020.08.22 <span class=\"txt_bar\">|</span> 아시아경제 <span class=\"txt_bar\">|</span> <a \"=\"\" class=\"f_nb\" href=\"http://v.media.daum.net/v/20200822190751452\" onclick='smartLog(this, \"dc=NNS&amp;d=26OP5vTfucAQWILEDq&amp;pg=1&amp;r=7&amp;p=3&amp;rc=10&amp;e1=166KT6l77lf-D_qcvA&amp;e3=0&amp;ext=dsid=26OP5vTfucAQWILEDq\", event, {\"cpid\": {\"value\": \"166KT6l77lf-D_qcvA\"}});' target=\"_blank\">다음뉴스</a> </span>,\n",
       " <span class=\"f_nb date\"> 2020.08.21 <span class=\"txt_bar\">|</span> 부산일보 </span>,\n",
       " <span class=\"f_nb date\"> 2020.08.21 <span class=\"txt_bar\">|</span> 국제신문 </span>,\n",
       " <span class=\"f_nb date\"> 2020.08.21 <span class=\"txt_bar\">|</span> 아시아뉴스통신 </span>,\n",
       " <span class=\"f_nb date\"> 2020.09.03 <span class=\"txt_bar\">|</span> AI타임스 </span>,\n",
       " <span class=\"f_nb date\"> 2020.09.02 <span class=\"txt_bar\">|</span> 온양신문 </span>,\n",
       " <span class=\"f_nb date\"> 2020.09.02 <span class=\"txt_bar\">|</span> 뉴스타운 </span>,\n",
       " <span class=\"f_nb date\"> 2020.07.29 <span class=\"txt_bar\">|</span> 지디넷코리아 <span class=\"txt_bar\">|</span> <a \"=\"\" class=\"f_nb\" href=\"http://v.media.daum.net/v/20200729135504594\" onclick='smartLog(this, \"dc=NNS&amp;d=26DfscI7jQSSYma4A6&amp;pg=1&amp;r=10&amp;p=3&amp;rc=10&amp;e1=16ch37p8Eze2f0phkS&amp;e3=0&amp;ext=dsid=26DfscI7jQSSYma4A6\", event, {\"cpid\": {\"value\": \"16ch37p8Eze2f0phkS\"}});' target=\"_blank\">다음뉴스</a> </span>]"
      ]
     },
     "execution_count": 43,
     "metadata": {},
     "output_type": "execute_result"
    }
   ],
   "source": [
    "res_p = soup.select('span.f_nb.date')\n",
    "res_p"
   ]
  },
  {
   "cell_type": "code",
   "execution_count": 48,
   "metadata": {
    "collapsed": true
   },
   "outputs": [
    {
     "name": "stdout",
     "output_type": "stream",
     "text": [
      " 지디넷코리아 \n",
      " AI타임스 \n",
      " 디지털타임스 \n",
      " 파이낸스투데이 \n",
      " 데일리그리드 \n",
      " 에듀동아 \n",
      " AI타임스 \n",
      " 데일리안 \n",
      " 매일일보 \n",
      " EBN \n",
      " 신아일보 \n",
      " 아시아경제 \n",
      " 부산일보 \n",
      " 국제신문 \n",
      " 아시아뉴스통신 \n",
      " AI타임스 \n",
      " 온양신문 \n",
      " 뉴스타운 \n",
      " 지디넷코리아 \n"
     ]
    }
   ],
   "source": [
    "for i in res_p:\n",
    "    print(i.text.split('|')[1])"
   ]
  },
  {
   "cell_type": "code",
   "execution_count": 29,
   "metadata": {
    "collapsed": true
   },
   "outputs": [
    {
     "data": {
      "text/plain": [
       "[<p class=\"f_eb desc\">(지디넷코리아=남혁우 기자)<b>파이썬</b>이 티오베의 프로그래밍 언어 순위에서 자바의 뒤를 바싹 추적 중이다. 이번 순위는 인공지능(AI), 빅데이터 분야를 필두로 한 <b>파이썬</b>의...</p>,\n",
       " <p class=\"f_eb desc\">학계 및 산업계에서 인공지능(AI) 활용도가 높아지면서 빅데이터 분석 등에 활용되는 <b>파이썬</b> 이용자가 급증한 탓으로 보인다. 5일 TIOBE가 발표한 2020년 10월 인덱스에...</p>,\n",
       " <p class=\"f_eb desc\">청년을 대상으로 데이터 사이언스(Data Science) 분야 역량강화를 위한 <b>파이썬</b>(<b>Python</b>) 무료 교육을 실시한다고 2일 밝혔다. 관악구는 구민들을 대상으로 Data Science 분야...</p>,\n",
       " <p class=\"f_eb desc\">정도로 방대한 양의 데이터이다. 많은 양의 비정형 데이터를 자바(Java), <b>파이썬</b>(<b>Python</b>), 하둡(Hadoop), 빅데이터R 등 정보통신기술을 활용해 사용자의 목적에 맞도록 수집...</p>,\n",
       " <p class=\"f_eb desc\">지능대학원 재학생 및 준비생'방([제가 방장입니다 ⓛ ]@할수있습니다 )에 이어, '<b>파이썬</b> 처음처럼'과 '자연어처리 딥러닝' 2개 오픈채팅방의 방장을 인터뷰 했습니다.[특별...</p>,\n",
       " <p class=\"f_eb desc\">ⓒ한국금융투자협회 금융투자협회 금융투자교육원은 '신탁업무 이해' 집합과정과 <b>파이썬</b> 입문과 금융 모델링 실습 교육생 모집을 실시한다고 25일 밝혔다. 오는 10월 6일...</p>,\n",
       " <p class=\"f_eb desc\">동명대 강영민 교수와 학술 저서 '으뜸 <b>파이썬</b>' 표지. [아시아경제 영남취재본부 김용우 기자] 동명대 게임공학과 강영민 교수가 펴낸 2020년 신간 ‘으뜸 <b>파이썬</b>’이 최근...</p>,\n",
       " <p class=\"f_eb desc\">영화 원더우먼1984, 스미스 소니언 학습 연구소와 협력해 인공지능(AI) 모델 및 <b>파이썬</b> 개발 등의 프로그램을 개설했다고 1일(현지시간) 밝혔다. ◆ NASA에서 영감을 받은...</p>,\n",
       " <p class=\"f_eb desc\">공학부 주관으로 여름 몰입학기에 미국 조지아텍 AI 전문가인 임성규 교수의 ‘<b>파이썬</b>을 이용한 기계학습’이라는 주제로 온라인 강좌를 마련해 큰 호응을 받았다. 조지아텍...</p>,\n",
       " <p class=\"f_eb desc\">미국 IT 전문매체 지디넷에 흥미로운 기사가 실렸다. 상반기 프로그래밍 언어 순위에서 <b>파이썬</b>이 자바를 제치고 2위를 기록했다는 내용이다. 자바가 2위권 밖으로 밀려난 것...</p>]"
      ]
     },
     "execution_count": 29,
     "metadata": {},
     "output_type": "execute_result"
    }
   ],
   "source": [
    "res_s = soup.select('#clusterResultUL > li > div.wrap_cont > div > p')\n",
    "res_s"
   ]
  },
  {
   "cell_type": "code",
   "execution_count": 31,
   "metadata": {
    "collapsed": true
   },
   "outputs": [
    {
     "name": "stdout",
     "output_type": "stream",
     "text": [
      "(지디넷코리아=남혁우 기자)파이썬이 티오베의 프로그래밍 언어 순위에서 자바의 뒤를 바싹 추적 중이다. 이번 순위는 인공지능(AI), 빅데이터 분야를 필두로 한 파이썬의...\n",
      "학계 및 산업계에서 인공지능(AI) 활용도가 높아지면서 빅데이터 분석 등에 활용되는 파이썬 이용자가 급증한 탓으로 보인다. 5일 TIOBE가 발표한 2020년 10월 인덱스에...\n",
      "청년을 대상으로 데이터 사이언스(Data Science) 분야 역량강화를 위한 파이썬(Python) 무료 교육을 실시한다고 2일 밝혔다. 관악구는 구민들을 대상으로 Data Science 분야...\n",
      "정도로 방대한 양의 데이터이다. 많은 양의 비정형 데이터를 자바(Java), 파이썬(Python), 하둡(Hadoop), 빅데이터R 등 정보통신기술을 활용해 사용자의 목적에 맞도록 수집...\n",
      "지능대학원 재학생 및 준비생'방([제가 방장입니다 ⓛ ]@할수있습니다 )에 이어, '파이썬 처음처럼'과 '자연어처리 딥러닝' 2개 오픈채팅방의 방장을 인터뷰 했습니다.[특별...\n",
      "ⓒ한국금융투자협회 금융투자협회 금융투자교육원은 '신탁업무 이해' 집합과정과 파이썬 입문과 금융 모델링 실습 교육생 모집을 실시한다고 25일 밝혔다. 오는 10월 6일...\n",
      "동명대 강영민 교수와 학술 저서 '으뜸 파이썬' 표지. [아시아경제 영남취재본부 김용우 기자] 동명대 게임공학과 강영민 교수가 펴낸 2020년 신간 ‘으뜸 파이썬’이 최근...\n",
      "영화 원더우먼1984, 스미스 소니언 학습 연구소와 협력해 인공지능(AI) 모델 및 파이썬 개발 등의 프로그램을 개설했다고 1일(현지시간) 밝혔다. ◆ NASA에서 영감을 받은...\n",
      "공학부 주관으로 여름 몰입학기에 미국 조지아텍 AI 전문가인 임성규 교수의 ‘파이썬을 이용한 기계학습’이라는 주제로 온라인 강좌를 마련해 큰 호응을 받았다. 조지아텍...\n",
      "미국 IT 전문매체 지디넷에 흥미로운 기사가 실렸다. 상반기 프로그래밍 언어 순위에서 파이썬이 자바를 제치고 2위를 기록했다는 내용이다. 자바가 2위권 밖으로 밀려난 것...\n"
     ]
    }
   ],
   "source": [
    "for s in res_s:\n",
    "    print(s.text)"
   ]
  },
  {
   "cell_type": "code",
   "execution_count": 50,
   "metadata": {},
   "outputs": [
    {
     "data": {
      "text/plain": [
       "10"
      ]
     },
     "execution_count": 50,
     "metadata": {},
     "output_type": "execute_result"
    }
   ],
   "source": [
    "# path = '#clusterResultUL > li.fst > div.wrap_cont > div'\n",
    "path = '#clusterResultUL > li > div.wrap_cont > div'\n",
    "res = soup.select(path)\n",
    "len(res)"
   ]
  },
  {
   "cell_type": "code",
   "execution_count": 49,
   "metadata": {
    "collapsed": true
   },
   "outputs": [
    {
     "name": "stdout",
     "output_type": "stream",
     "text": [
      "==============================\n",
      "제목 : 티오베 언어 순위, '파이썬' 자바 위치 넘본다\n",
      "URL : http://v.media.daum.net/v/20201006134548999?f=o\n",
      "Date :  2020.10.06 | 지디넷코리아 | 다음뉴스 \n",
      "Summary : (지디넷코리아=남혁우 기자)파이썬이 티오베의 프로그래밍 언어 순위에서 자바의 뒤를 바싹 추적 중이다. 이번 순위는 인공지능(AI), 빅데이터 분야를 필두로 한 파이썬의...\n",
      "\n",
      "==============================\n",
      "제목 : TIOBE 코딩 언어 순위, 파이썬 2위 달성 코앞\n",
      "URL : https://cp.news.search.daum.net/p/98002958\n",
      "Date :  2020.10.05 | AI타임스 \n",
      "Summary : 학계 및 산업계에서 인공지능(AI) 활용도가 높아지면서 빅데이터 분석 등에 활용되는 파이썬 이용자가 급증한 탓으로 보인다. 5일 TIOBE가 발표한 2020년 10월 인덱스에...\n",
      "\n",
      "==============================\n",
      "제목 : 한국경영인증원, 관악구와 파이썬 활용 데이터 사이언스 비대면 ...\n",
      "URL : http://v.media.daum.net/v/20201002090111109?f=o\n",
      "Date :  2020.10.02 | 디지털타임스 | 다음뉴스 \n",
      "Summary : 청년을 대상으로 데이터 사이언스(Data Science) 분야 역량강화를 위한 파이썬(Python) 무료 교육을 실시한다고 2일 밝혔다. 관악구는 구민들을 대상으로 Data Science 분야...\n",
      "\n",
      "==============================\n",
      "제목 : [포커스 인①] 자바·파이썬 기반 머신러닝 빅데이터의 미래는 소...\n",
      "URL : https://cp.news.search.daum.net/p/97936906\n",
      "Date :  2020.09.29 | 에듀동아 \n",
      "Summary : 정도로 방대한 양의 데이터이다. 많은 양의 비정형 데이터를 자바(Java), 파이썬(Python), 하둡(Hadoop), 빅데이터R 등 정보통신기술을 활용해 사용자의 목적에 맞도록 수집...\n",
      "\n",
      "==============================\n",
      "제목 : [제가 방장입니다 ②] 파이썬 처음처럼 & 자연어처리 딥러닝\n",
      "URL : https://cp.news.search.daum.net/p/97395019\n",
      "Date :  2020.09.15 | AI타임스 \n",
      "Summary : 지능대학원 재학생 및 준비생'방([제가 방장입니다 ⓛ ]@할수있습니다 )에 이어, '파이썬 처음처럼'과 '자연어처리 딥러닝' 2개 오픈채팅방의 방장을 인터뷰 했습니다.[특별...\n",
      "\n",
      "==============================\n",
      "제목 : 금투협, 신탁업무 이해·파이썬 입문 과정 개설\n",
      "URL : http://v.media.daum.net/v/20200825132714155?f=o\n",
      "Date :  2020.08.25 | 데일리안 | 다음뉴스 \n",
      "Summary : ⓒ한국금융투자협회 금융투자협회 금융투자교육원은 '신탁업무 이해' 집합과정과 파이썬 입문과 금융 모델링 실습 교육생 모집을 실시한다고 25일 밝혔다. 오는 10월 6일...\n",
      "\n",
      "==============================\n",
      "제목 : 강영민 동명대 교수 저서 '으뜸 파이썬' 세종 우수도서 선정\n",
      "URL : http://v.media.daum.net/v/20200822190751452?f=o\n",
      "Date :  2020.08.22 | 아시아경제 | 다음뉴스 \n",
      "Summary : 동명대 강영민 교수와 학술 저서 '으뜸 파이썬' 표지. [아시아경제 영남취재본부 김용우 기자] 동명대 게임공학과 강영민 교수가 펴낸 2020년 신간 ‘으뜸 파이썬’이 최근...\n",
      "\n",
      "==============================\n",
      "제목 : \"NASA의 AI 배우세요\"...MS, 초급자용 AIㆍ파이썬 프로그램 출시\n",
      "URL : https://cp.news.search.daum.net/p/96979716\n",
      "Date :  2020.09.03 | AI타임스 \n",
      "Summary : 영화 원더우먼1984, 스미스 소니언 학습 연구소와 협력해 인공지능(AI) 모델 및 파이썬 개발 등의 프로그램을 개설했다고 1일(현지시간) 밝혔다. ◆ NASA에서 영감을 받은...\n",
      "\n",
      "==============================\n",
      "제목 : ‘파이썬을 이용한 기계학습’\n",
      "URL : https://cp.news.search.daum.net/p/96935329\n",
      "Date :  2020.09.02 | 온양신문 \n",
      "Summary : 공학부 주관으로 여름 몰입학기에 미국 조지아텍 AI 전문가인 임성규 교수의 ‘파이썬을 이용한 기계학습’이라는 주제로 온라인 강좌를 마련해 큰 호응을 받았다. 조지아텍...\n",
      "\n",
      "==============================\n",
      "제목 : [신간안내] 파이썬 알고리즘 인터뷰\n",
      "URL : http://v.media.daum.net/v/20200729135504594?f=o\n",
      "Date :  2020.07.29 | 지디넷코리아 | 다음뉴스 \n",
      "Summary : 미국 IT 전문매체 지디넷에 흥미로운 기사가 실렸다. 상반기 프로그래밍 언어 순위에서 파이썬이 자바를 제치고 2위를 기록했다는 내용이다. 자바가 2위권 밖으로 밀려난 것...\n",
      "\n"
     ]
    }
   ],
   "source": [
    "for t in res:\n",
    "    print('='*30)\n",
    "    print('제목 :', t.select('a.f_link_b')[0].text)\n",
    "    print('URL :',t.select('a.f_link_b')[0]['href'])\n",
    "    print('Date :',t.select('span.f_nb.date')[0].text)\n",
    "    print('Summary :',t.select('div.wrap_cont > div > p')[0].text) \n",
    "    print()"
   ]
  },
  {
   "cell_type": "code",
   "execution_count": null,
   "metadata": {},
   "outputs": [],
   "source": [
    "# 함수로 만들어서 매개변수로 검색 키워드, 크롤링할 페이지수를 입력받고,\n",
    "# 다음 뉴스에서 키워드 검색결과 입력된 페이지 만큼 크롤링하는 코드.."
   ]
  },
  {
   "cell_type": "code",
   "execution_count": 51,
   "metadata": {},
   "outputs": [],
   "source": [
    "url = 'https://search.daum.net/search?w=news&DA=PGD&enc=utf8&cluster=y&cluster_page=10&q={}&p={}'"
   ]
  },
  {
   "cell_type": "code",
   "execution_count": 52,
   "metadata": {},
   "outputs": [
    {
     "data": {
      "text/plain": [
       "'https://search.daum.net/search?w=news&DA=PGD&enc=utf8&cluster=y&cluster_page=10&q=프로그래밍&p=10'"
      ]
     },
     "execution_count": 52,
     "metadata": {},
     "output_type": "execute_result"
    }
   ],
   "source": [
    "url = url.format('프로그래밍',10)\n",
    "url"
   ]
  },
  {
   "cell_type": "code",
   "execution_count": null,
   "metadata": {},
   "outputs": [],
   "source": []
  }
 ],
 "metadata": {
  "kernelspec": {
   "display_name": "Python 3",
   "language": "python",
   "name": "python3"
  },
  "language_info": {
   "codemirror_mode": {
    "name": "ipython",
    "version": 3
   },
   "file_extension": ".py",
   "mimetype": "text/x-python",
   "name": "python",
   "nbconvert_exporter": "python",
   "pygments_lexer": "ipython3",
   "version": "3.8.5"
  },
  "toc": {
   "base_numbering": 1,
   "nav_menu": {},
   "number_sections": true,
   "sideBar": true,
   "skip_h1_title": false,
   "title_cell": "Table of Contents",
   "title_sidebar": "Contents",
   "toc_cell": false,
   "toc_position": {},
   "toc_section_display": true,
   "toc_window_display": false
  },
  "varInspector": {
   "cols": {
    "lenName": 16,
    "lenType": 16,
    "lenVar": 40
   },
   "kernels_config": {
    "python": {
     "delete_cmd_postfix": "",
     "delete_cmd_prefix": "del ",
     "library": "var_list.py",
     "varRefreshCmd": "print(var_dic_list())"
    },
    "r": {
     "delete_cmd_postfix": ") ",
     "delete_cmd_prefix": "rm(",
     "library": "var_list.r",
     "varRefreshCmd": "cat(var_dic_list()) "
    }
   },
   "types_to_exclude": [
    "module",
    "function",
    "builtin_function_or_method",
    "instance",
    "_Feature"
   ],
   "window_display": false
  }
 },
 "nbformat": 4,
 "nbformat_minor": 4
}
