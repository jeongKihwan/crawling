{
 "cells": [
  {
   "cell_type": "code",
   "execution_count": 1,
   "metadata": {},
   "outputs": [],
   "source": [
    "from bs4 import BeautifulSoup\n",
    "from selenium import webdriver\n",
    "import time"
   ]
  },
  {
   "cell_type": "code",
   "execution_count": null,
   "metadata": {},
   "outputs": [],
   "source": [
    "# https://korean.visitkorea.or.kr"
   ]
  },
  {
   "cell_type": "code",
   "execution_count": 30,
   "metadata": {},
   "outputs": [
    {
     "name": "stdout",
     "output_type": "stream",
     "text": [
      "크롤링할 키워드를 입력하세요..여행\n"
     ]
    }
   ],
   "source": [
    "search_text = input('크롤링할 키워드를 입력하세요..')"
   ]
  },
  {
   "cell_type": "code",
   "execution_count": 31,
   "metadata": {},
   "outputs": [],
   "source": [
    "driver = webdriver.Chrome()\n",
    "driver.set_window_size(800,1000)  # 윈도우창 크기 설정"
   ]
  },
  {
   "cell_type": "code",
   "execution_count": 32,
   "metadata": {},
   "outputs": [],
   "source": [
    "driver.get('https://korean.visitkorea.or.kr')\n",
    "time.sleep(3)"
   ]
  },
  {
   "cell_type": "code",
   "execution_count": 33,
   "metadata": {},
   "outputs": [],
   "source": [
    "driver.find_element_by_id('chkForm01').click()"
   ]
  },
  {
   "cell_type": "code",
   "execution_count": 34,
   "metadata": {},
   "outputs": [],
   "source": [
    "elem = driver.find_element_by_class_name('inp_search')\n",
    "elem.send_keys(search_text)"
   ]
  },
  {
   "cell_type": "code",
   "execution_count": 35,
   "metadata": {},
   "outputs": [],
   "source": [
    "driver.find_element_by_class_name('btn_search2').click()\n",
    "time.sleep(3)"
   ]
  },
  {
   "cell_type": "code",
   "execution_count": 36,
   "metadata": {},
   "outputs": [],
   "source": [
    "html = driver.page_source"
   ]
  },
  {
   "cell_type": "code",
   "execution_count": 37,
   "metadata": {},
   "outputs": [],
   "source": [
    "soup = BeautifulSoup(html, 'html.parser')"
   ]
  },
  {
   "cell_type": "code",
   "execution_count": 38,
   "metadata": {},
   "outputs": [],
   "source": [
    "content_list = soup.select('#contents > div > div.box_leftType1 > ul')"
   ]
  },
  {
   "cell_type": "code",
   "execution_count": 39,
   "metadata": {},
   "outputs": [],
   "source": [
    "lis = content_list[0].select('li')"
   ]
  },
  {
   "cell_type": "code",
   "execution_count": 40,
   "metadata": {
    "collapsed": true
   },
   "outputs": [
    {
     "name": "stdout",
     "output_type": "stream",
     "text": [
      "=============\n",
      "  [8월 걷기여행길9선] 금강 위에 피어나는 노을, 노을 위에 뜬 달, 충북 영동군 양산팔경금강둘레길  충청북도 영동군 #걷기여행길 더보기  즐겨찾기 공유하기 \n",
      "=============\n",
      "즐겨찾기\n",
      "=============\n",
      "공유하기\n",
      "=============\n",
      "  [일주일 살아보기 시즌 2] 은퇴 후 첫 여행, 아내와 단둘이 남해로  경상남도 남해군 #일주일살아보기여행#가족과함께#남해여행#남해가볼만한곳#일주일살아보기_시즌2#9월가볼만한곳 더보기  즐겨찾기 공유하기 \n",
      "=============\n",
      "즐겨찾기\n",
      "=============\n",
      "공유하기\n",
      "=============\n",
      "  시간 여행 하는 화산 돌멩이를 찾아서, 한탄강지질공원  경기도  #한탄강지질공원#재인폭포#고대산자연휴양림#당포성#임진강#주상절리#전곡리토층전시관#전곡선사박물관#산정호수#비둘기낭폭포#추천가볼만한곳#경기도가볼만한곳#경기도당일코스#경기도1박2일코스#포천가볼만한곳#연천가볼만한곳#가족여행#4월추천가볼만한곳#2018년4월추천가볼만한곳 더보기  즐겨찾기 공유하기 \n",
      "=============\n",
      "즐겨찾기\n",
      "=============\n",
      "공유하기\n",
      "=============\n",
      "  감각이 살아나는 정선 화암동굴 여행  강원도 정선군 #생태관광#생태여행코스#2020생태테마사업#2020생태테마관광지#생태테마사업#정선화암동굴#그림바위미술마을#정선향토박물관#천포금광촌 더보기  즐겨찾기 공유하기 \n",
      "=============\n",
      "즐겨찾기\n",
      "=============\n",
      "공유하기\n",
      "=============\n",
      "  봄이 아니어도 친하게 진해. 감성충만 진해여행 코스  경상남도 창원시 #진해여행코스#소사동마을#진해가볼만한곳#창원여행#진해여행#진해해양공원#진해보타닉뮤지엄#원해루#제황산#제황산모노레일#진해탑#안민고개#초여름_더욱_빛나는 더보기  즐겨찾기 공유하기 \n",
      "=============\n",
      "즐겨찾기\n",
      "=============\n",
      "공유하기\n",
      "=============\n",
      "  한국관광공사 추천 5월 걷기여행길, 유네스코 세계문화유산 산사 걷기길  전국 #걷기여행길#5월걷기여행길#트레킹코스#관광공사추천_5월걷기여행길#5월_걷기여행길 더보기  즐겨찾기 공유하기 \n",
      "=============\n",
      "즐겨찾기\n",
      "=============\n",
      "공유하기\n",
      "=============\n",
      "  [지역명사와 함께하는 문화여행] 고판화에 미친 사람, 한선학 명사  강원도 원주시 #지역명사와_함께하는_문화여행#원주#한선학명사 더보기  즐겨찾기 공유하기 \n",
      "=============\n",
      "즐겨찾기\n",
      "=============\n",
      "공유하기\n",
      "=============\n",
      "  전어·꽃게·대하 가을 별미 삼총사와 함께한 서해안 가을 여행  충청남도 서천군 #공공누리#가을축제/행사#가을제철먹거리#가을제철음식#가을가볼만한곳#서해안가볼만한곳#먹방여행#구석구석미식회 더보기  즐겨찾기 공유하기 \n",
      "=============\n",
      "즐겨찾기\n",
      "=============\n",
      "공유하기\n",
      "=============\n",
      "  [인천] 뚜벅이 알뜰여행의 베이스캠프, 인천 '호텔 아띠'  인천 중구 #한국관광품질인증#여행Q레이터#여행Q레이터체험기#추천숙박#체험기#호텔아띠#여행자의방 더보기  즐겨찾기 공유하기 \n",
      "=============\n",
      "즐겨찾기\n",
      "=============\n",
      "공유하기\n",
      "=============\n",
      "  가족여행으로 딱! 문경 겨울 여행  경상북도 문경시 #문경여행#문경가볼만한곳#가족여행#세구기매운탕#가나다라브루어리#고모산성#에코랄라 더보기  즐겨찾기 공유하기 \n",
      "=============\n",
      "즐겨찾기\n",
      "=============\n",
      "공유하기\n"
     ]
    }
   ],
   "source": [
    "for li in lis:\n",
    "    print('=============')\n",
    "    print(li.text)"
   ]
  },
  {
   "cell_type": "code",
   "execution_count": 41,
   "metadata": {
    "collapsed": true
   },
   "outputs": [
    {
     "name": "stdout",
     "output_type": "stream",
     "text": [
      "=============\n",
      "  [8월 걷기여행길9선] 금강 위에 피어나는 노을, 노을 위에 뜬 달, 충북 영동군 양산팔경금강둘레길  충청북도 영동군 #걷기여행길 더보기  즐겨찾기 공유하기 \n",
      "=============\n",
      "  [일주일 살아보기 시즌 2] 은퇴 후 첫 여행, 아내와 단둘이 남해로  경상남도 남해군 #일주일살아보기여행#가족과함께#남해여행#남해가볼만한곳#일주일살아보기_시즌2#9월가볼만한곳 더보기  즐겨찾기 공유하기 \n",
      "=============\n",
      "  시간 여행 하는 화산 돌멩이를 찾아서, 한탄강지질공원  경기도  #한탄강지질공원#재인폭포#고대산자연휴양림#당포성#임진강#주상절리#전곡리토층전시관#전곡선사박물관#산정호수#비둘기낭폭포#추천가볼만한곳#경기도가볼만한곳#경기도당일코스#경기도1박2일코스#포천가볼만한곳#연천가볼만한곳#가족여행#4월추천가볼만한곳#2018년4월추천가볼만한곳 더보기  즐겨찾기 공유하기 \n",
      "=============\n",
      "  감각이 살아나는 정선 화암동굴 여행  강원도 정선군 #생태관광#생태여행코스#2020생태테마사업#2020생태테마관광지#생태테마사업#정선화암동굴#그림바위미술마을#정선향토박물관#천포금광촌 더보기  즐겨찾기 공유하기 \n",
      "=============\n",
      "  봄이 아니어도 친하게 진해. 감성충만 진해여행 코스  경상남도 창원시 #진해여행코스#소사동마을#진해가볼만한곳#창원여행#진해여행#진해해양공원#진해보타닉뮤지엄#원해루#제황산#제황산모노레일#진해탑#안민고개#초여름_더욱_빛나는 더보기  즐겨찾기 공유하기 \n",
      "=============\n",
      "  한국관광공사 추천 5월 걷기여행길, 유네스코 세계문화유산 산사 걷기길  전국 #걷기여행길#5월걷기여행길#트레킹코스#관광공사추천_5월걷기여행길#5월_걷기여행길 더보기  즐겨찾기 공유하기 \n",
      "=============\n",
      "  [지역명사와 함께하는 문화여행] 고판화에 미친 사람, 한선학 명사  강원도 원주시 #지역명사와_함께하는_문화여행#원주#한선학명사 더보기  즐겨찾기 공유하기 \n",
      "=============\n",
      "  전어·꽃게·대하 가을 별미 삼총사와 함께한 서해안 가을 여행  충청남도 서천군 #공공누리#가을축제/행사#가을제철먹거리#가을제철음식#가을가볼만한곳#서해안가볼만한곳#먹방여행#구석구석미식회 더보기  즐겨찾기 공유하기 \n",
      "=============\n",
      "  [인천] 뚜벅이 알뜰여행의 베이스캠프, 인천 '호텔 아띠'  인천 중구 #한국관광품질인증#여행Q레이터#여행Q레이터체험기#추천숙박#체험기#호텔아띠#여행자의방 더보기  즐겨찾기 공유하기 \n",
      "=============\n",
      "  가족여행으로 딱! 문경 겨울 여행  경상북도 문경시 #문경여행#문경가볼만한곳#가족여행#세구기매운탕#가나다라브루어리#고모산성#에코랄라 더보기  즐겨찾기 공유하기 \n"
     ]
    }
   ],
   "source": [
    "for i in range(0, len(lis), 3):\n",
    "    print('=============')\n",
    "    print(lis[i].text)"
   ]
  },
  {
   "cell_type": "code",
   "execution_count": 43,
   "metadata": {
    "collapsed": true
   },
   "outputs": [
    {
     "name": "stdout",
     "output_type": "stream",
     "text": [
      "=============\n",
      "제목: [8월 걷기여행길9선] 금강 위에 피어나는 노을, 노을 위에 뜬 달, 충북 영동군 양산팔경금강둘레길\n",
      "지역: 충청북도 영동군\n",
      "태그: #걷기여행길\n",
      "=============\n",
      "제목: [일주일 살아보기 시즌 2] 은퇴 후 첫 여행, 아내와 단둘이 남해로\n",
      "지역: 경상남도 남해군\n",
      "태그: #일주일살아보기여행\n",
      "=============\n",
      "제목: 시간 여행 하는 화산 돌멩이를 찾아서, 한탄강지질공원\n",
      "지역: 경기도 \n",
      "태그: #한탄강지질공원\n",
      "=============\n",
      "제목: 감각이 살아나는 정선 화암동굴 여행\n",
      "지역: 강원도 정선군\n",
      "태그: #생태관광\n",
      "=============\n",
      "제목: 봄이 아니어도 친하게 진해. 감성충만 진해여행 코스\n",
      "지역: 경상남도 창원시\n",
      "태그: #진해여행코스\n",
      "=============\n",
      "제목: 한국관광공사 추천 5월 걷기여행길, 유네스코 세계문화유산 산사 걷기길\n",
      "지역: 전국\n",
      "태그: #걷기여행길\n",
      "=============\n",
      "제목: [지역명사와 함께하는 문화여행] 고판화에 미친 사람, 한선학 명사\n",
      "지역: 강원도 원주시\n",
      "태그: #지역명사와_함께하는_문화여행\n",
      "=============\n",
      "제목: 전어·꽃게·대하 가을 별미 삼총사와 함께한 서해안 가을 여행\n",
      "지역: 충청남도 서천군\n",
      "태그: #공공누리\n",
      "=============\n",
      "제목: [인천] 뚜벅이 알뜰여행의 베이스캠프, 인천 '호텔 아띠'\n",
      "지역: 인천 중구\n",
      "태그: #한국관광품질인증\n",
      "=============\n",
      "제목: 가족여행으로 딱! 문경 겨울 여행\n",
      "지역: 경상북도 문경시\n",
      "태그: #문경여행\n"
     ]
    }
   ],
   "source": [
    "for i in range(0, len(lis), 3):\n",
    "    print('=============')\n",
    "    print('제목:',lis[i].select('div.tit > a')[0].text)\n",
    "    print('지역:',lis[i].select('div.area_txt > p')[0].text)   \n",
    "    print('태그:',lis[i].select('p.tag > span')[0].text)        "
   ]
  },
  {
   "cell_type": "code",
   "execution_count": 44,
   "metadata": {},
   "outputs": [],
   "source": [
    "# 검색할 키워드를 입력받은 후, 관광공사 사이트에서 검색 결과의 제목과 지역, 태그 정보\n",
    "# 를 크롤링 하도록 함수를 만드세요.."
   ]
  },
  {
   "cell_type": "code",
   "execution_count": 62,
   "metadata": {},
   "outputs": [],
   "source": [
    "def visitkor_search():\n",
    "    \n",
    "    search_text = input('크롤링할 키워드를 입력하세요..')\n",
    "    \n",
    "    driver = webdriver.Chrome()\n",
    "    driver.set_window_size(800,1000)\n",
    "    driver.get('https://korean.visitkorea.or.kr')\n",
    "    time.sleep(3)\n",
    "    \n",
    "    driver.find_element_by_id('chkForm01').click()\n",
    "    elem = driver.find_element_by_class_name('inp_search')\n",
    "    elem.send_keys(search_text)\n",
    "    driver.find_element_by_class_name('btn_search2').click()\n",
    "    time.sleep(3)\n",
    "    \n",
    "    html = driver.page_source\n",
    "    soup = BeautifulSoup(html, 'html.parser')\n",
    "    \n",
    "    content_list = soup.select('#contents > div > div.box_leftType1 > ul')\n",
    "    lis = content_list[0].select('li')\n",
    "    \n",
    "    for i in range(0, len(lis), 3):\n",
    "        print('=============')\n",
    "        print('제목:',lis[i].select('div.tit > a')[0].text)\n",
    "        print('지역:',lis[i].select('div.area_txt > p')[0].text)   \n",
    "        print('태그:',lis[i].select('p.tag > span')[0].text)  \n",
    "        \n",
    "    title_list = []\n",
    "    area_list = []\n",
    "    tag_list = []\n",
    "    \n",
    "    for i in range(0, len(lis), 3):\n",
    "        title_list.append(lis[i].select('div.tit > a')[0].text)\n",
    "        area_list.append(lis[i].select('div.area_txt > p')[0].text)   \n",
    "        tag_list.append(lis[i].select('p.tag > span')[0].text) \n",
    "    \n",
    "    visit_dict = {}\n",
    "    visit_dict['title'] = title_list\n",
    "    visit_dict['area'] = area_list\n",
    "    visit_dict['tag'] = tag_list   \n",
    "    \n",
    "    f = open('visit_{}.txt'.format(search_text), 'w')\n",
    "    for i in range(0, len(lis), 3):\n",
    "        f.write(lis[i].select('div.tit > a')[0].text + '\\n')\n",
    "        f.write(lis[i].select('div.area_txt > p')[0].text + '\\n')   \n",
    "        f.write(lis[i].select('p.tag > span')[0].text + '\\n') \n",
    "    f.close()\n",
    "    \n",
    "    driver.quit()    \n",
    "    return visit_dict"
   ]
  },
  {
   "cell_type": "code",
   "execution_count": 63,
   "metadata": {
    "collapsed": true
   },
   "outputs": [
    {
     "name": "stdout",
     "output_type": "stream",
     "text": [
      "크롤링할 키워드를 입력하세요..여행\n",
      "=============\n",
      "제목: [8월 걷기여행길9선] 금강 위에 피어나는 노을, 노을 위에 뜬 달, 충북 영동군 양산팔경금강둘레길\n",
      "지역: 충청북도 영동군\n",
      "태그: #걷기여행길\n",
      "=============\n",
      "제목: [일주일 살아보기 시즌 2] 은퇴 후 첫 여행, 아내와 단둘이 남해로\n",
      "지역: 경상남도 남해군\n",
      "태그: #일주일살아보기여행\n",
      "=============\n",
      "제목: 시간 여행 하는 화산 돌멩이를 찾아서, 한탄강지질공원\n",
      "지역: 경기도 \n",
      "태그: #한탄강지질공원\n",
      "=============\n",
      "제목: 감각이 살아나는 정선 화암동굴 여행\n",
      "지역: 강원도 정선군\n",
      "태그: #생태관광\n",
      "=============\n",
      "제목: 봄이 아니어도 친하게 진해. 감성충만 진해여행 코스\n",
      "지역: 경상남도 창원시\n",
      "태그: #진해여행코스\n",
      "=============\n",
      "제목: 한국관광공사 추천 5월 걷기여행길, 유네스코 세계문화유산 산사 걷기길\n",
      "지역: 전국\n",
      "태그: #걷기여행길\n",
      "=============\n",
      "제목: [지역명사와 함께하는 문화여행] 고판화에 미친 사람, 한선학 명사\n",
      "지역: 강원도 원주시\n",
      "태그: #지역명사와_함께하는_문화여행\n",
      "=============\n",
      "제목: 전어·꽃게·대하 가을 별미 삼총사와 함께한 서해안 가을 여행\n",
      "지역: 충청남도 서천군\n",
      "태그: #공공누리\n",
      "=============\n",
      "제목: [인천] 뚜벅이 알뜰여행의 베이스캠프, 인천 '호텔 아띠'\n",
      "지역: 인천 중구\n",
      "태그: #한국관광품질인증\n",
      "=============\n",
      "제목: 가족여행으로 딱! 문경 겨울 여행\n",
      "지역: 경상북도 문경시\n",
      "태그: #문경여행\n"
     ]
    }
   ],
   "source": [
    "visit_dict = visitkor_search()"
   ]
  },
  {
   "cell_type": "code",
   "execution_count": 64,
   "metadata": {
    "collapsed": true
   },
   "outputs": [
    {
     "data": {
      "text/plain": [
       "{'title': ['[8월 걷기여행길9선] 금강 위에 피어나는 노을, 노을 위에 뜬 달, 충북 영동군 양산팔경금강둘레길',\n",
       "  '[일주일 살아보기 시즌 2] 은퇴 후 첫 여행, 아내와 단둘이 남해로',\n",
       "  '시간 여행 하는 화산 돌멩이를 찾아서, 한탄강지질공원',\n",
       "  '감각이 살아나는 정선 화암동굴 여행',\n",
       "  '봄이 아니어도 친하게 진해. 감성충만 진해여행 코스',\n",
       "  '한국관광공사 추천 5월 걷기여행길, 유네스코 세계문화유산 산사 걷기길',\n",
       "  '[지역명사와 함께하는 문화여행] 고판화에 미친 사람, 한선학 명사',\n",
       "  '전어·꽃게·대하 가을 별미 삼총사와 함께한 서해안 가을 여행',\n",
       "  \"[인천] 뚜벅이 알뜰여행의 베이스캠프, 인천 '호텔 아띠'\",\n",
       "  '가족여행으로 딱! 문경 겨울 여행'],\n",
       " 'area': ['충청북도 영동군',\n",
       "  '경상남도 남해군',\n",
       "  '경기도 ',\n",
       "  '강원도 정선군',\n",
       "  '경상남도 창원시',\n",
       "  '전국',\n",
       "  '강원도 원주시',\n",
       "  '충청남도 서천군',\n",
       "  '인천 중구',\n",
       "  '경상북도 문경시'],\n",
       " 'tag': ['#걷기여행길',\n",
       "  '#일주일살아보기여행',\n",
       "  '#한탄강지질공원',\n",
       "  '#생태관광',\n",
       "  '#진해여행코스',\n",
       "  '#걷기여행길',\n",
       "  '#지역명사와_함께하는_문화여행',\n",
       "  '#공공누리',\n",
       "  '#한국관광품질인증',\n",
       "  '#문경여행']}"
      ]
     },
     "execution_count": 64,
     "metadata": {},
     "output_type": "execute_result"
    }
   ],
   "source": [
    "visit_dict"
   ]
  },
  {
   "cell_type": "code",
   "execution_count": 59,
   "metadata": {
    "collapsed": true
   },
   "outputs": [
    {
     "data": {
      "text/html": [
       "<div>\n",
       "<style scoped>\n",
       "    .dataframe tbody tr th:only-of-type {\n",
       "        vertical-align: middle;\n",
       "    }\n",
       "\n",
       "    .dataframe tbody tr th {\n",
       "        vertical-align: top;\n",
       "    }\n",
       "\n",
       "    .dataframe thead th {\n",
       "        text-align: right;\n",
       "    }\n",
       "</style>\n",
       "<table border=\"1\" class=\"dataframe\">\n",
       "  <thead>\n",
       "    <tr style=\"text-align: right;\">\n",
       "      <th></th>\n",
       "      <th>title</th>\n",
       "      <th>area</th>\n",
       "      <th>tag</th>\n",
       "    </tr>\n",
       "  </thead>\n",
       "  <tbody>\n",
       "    <tr>\n",
       "      <th>0</th>\n",
       "      <td>[8월 걷기여행길9선] 금강 위에 피어나는 노을, 노을 위에 뜬 달, 충북 영동군 ...</td>\n",
       "      <td>충청북도 영동군</td>\n",
       "      <td>#걷기여행길</td>\n",
       "    </tr>\n",
       "    <tr>\n",
       "      <th>1</th>\n",
       "      <td>[일주일 살아보기 시즌 2] 은퇴 후 첫 여행, 아내와 단둘이 남해로</td>\n",
       "      <td>경상남도 남해군</td>\n",
       "      <td>#일주일살아보기여행</td>\n",
       "    </tr>\n",
       "    <tr>\n",
       "      <th>2</th>\n",
       "      <td>시간 여행 하는 화산 돌멩이를 찾아서, 한탄강지질공원</td>\n",
       "      <td>경기도</td>\n",
       "      <td>#한탄강지질공원</td>\n",
       "    </tr>\n",
       "    <tr>\n",
       "      <th>3</th>\n",
       "      <td>감각이 살아나는 정선 화암동굴 여행</td>\n",
       "      <td>강원도 정선군</td>\n",
       "      <td>#생태관광</td>\n",
       "    </tr>\n",
       "    <tr>\n",
       "      <th>4</th>\n",
       "      <td>봄이 아니어도 친하게 진해. 감성충만 진해여행 코스</td>\n",
       "      <td>경상남도 창원시</td>\n",
       "      <td>#진해여행코스</td>\n",
       "    </tr>\n",
       "    <tr>\n",
       "      <th>5</th>\n",
       "      <td>한국관광공사 추천 5월 걷기여행길, 유네스코 세계문화유산 산사 걷기길</td>\n",
       "      <td>전국</td>\n",
       "      <td>#걷기여행길</td>\n",
       "    </tr>\n",
       "    <tr>\n",
       "      <th>6</th>\n",
       "      <td>[지역명사와 함께하는 문화여행] 고판화에 미친 사람, 한선학 명사</td>\n",
       "      <td>강원도 원주시</td>\n",
       "      <td>#지역명사와_함께하는_문화여행</td>\n",
       "    </tr>\n",
       "    <tr>\n",
       "      <th>7</th>\n",
       "      <td>전어·꽃게·대하 가을 별미 삼총사와 함께한 서해안 가을 여행</td>\n",
       "      <td>충청남도 서천군</td>\n",
       "      <td>#공공누리</td>\n",
       "    </tr>\n",
       "    <tr>\n",
       "      <th>8</th>\n",
       "      <td>[인천] 뚜벅이 알뜰여행의 베이스캠프, 인천 '호텔 아띠'</td>\n",
       "      <td>인천 중구</td>\n",
       "      <td>#한국관광품질인증</td>\n",
       "    </tr>\n",
       "    <tr>\n",
       "      <th>9</th>\n",
       "      <td>가족여행으로 딱! 문경 겨울 여행</td>\n",
       "      <td>경상북도 문경시</td>\n",
       "      <td>#문경여행</td>\n",
       "    </tr>\n",
       "  </tbody>\n",
       "</table>\n",
       "</div>"
      ],
      "text/plain": [
       "                                               title      area  \\\n",
       "0  [8월 걷기여행길9선] 금강 위에 피어나는 노을, 노을 위에 뜬 달, 충북 영동군 ...  충청북도 영동군   \n",
       "1             [일주일 살아보기 시즌 2] 은퇴 후 첫 여행, 아내와 단둘이 남해로  경상남도 남해군   \n",
       "2                      시간 여행 하는 화산 돌멩이를 찾아서, 한탄강지질공원      경기도    \n",
       "3                                감각이 살아나는 정선 화암동굴 여행   강원도 정선군   \n",
       "4                       봄이 아니어도 친하게 진해. 감성충만 진해여행 코스  경상남도 창원시   \n",
       "5             한국관광공사 추천 5월 걷기여행길, 유네스코 세계문화유산 산사 걷기길        전국   \n",
       "6               [지역명사와 함께하는 문화여행] 고판화에 미친 사람, 한선학 명사   강원도 원주시   \n",
       "7                  전어·꽃게·대하 가을 별미 삼총사와 함께한 서해안 가을 여행  충청남도 서천군   \n",
       "8                   [인천] 뚜벅이 알뜰여행의 베이스캠프, 인천 '호텔 아띠'     인천 중구   \n",
       "9                                 가족여행으로 딱! 문경 겨울 여행  경상북도 문경시   \n",
       "\n",
       "                tag  \n",
       "0            #걷기여행길  \n",
       "1        #일주일살아보기여행  \n",
       "2          #한탄강지질공원  \n",
       "3             #생태관광  \n",
       "4           #진해여행코스  \n",
       "5            #걷기여행길  \n",
       "6  #지역명사와_함께하는_문화여행  \n",
       "7             #공공누리  \n",
       "8         #한국관광품질인증  \n",
       "9             #문경여행  "
      ]
     },
     "execution_count": 59,
     "metadata": {},
     "output_type": "execute_result"
    }
   ],
   "source": [
    "import pandas as pd\n",
    "pd.DataFrame(visit_dict)"
   ]
  },
  {
   "cell_type": "code",
   "execution_count": 65,
   "metadata": {
    "collapsed": true
   },
   "outputs": [
    {
     "name": "stdout",
     "output_type": "stream",
     "text": [
      "[8월 걷기여행길9선] 금강 위에 피어나는 노을, 노을 위에 뜬 달, 충북 영동군 양산팔경금강둘레길\n",
      "충청북도 영동군\n",
      "#걷기여행길\n",
      "[일주일 살아보기 시즌 2] 은퇴 후 첫 여행, 아내와 단둘이 남해로\n",
      "경상남도 남해군\n",
      "#일주일살아보기여행\n",
      "시간 여행 하는 화산 돌멩이를 찾아서, 한탄강지질공원\n",
      "경기도 \n",
      "#한탄강지질공원\n",
      "감각이 살아나는 정선 화암동굴 여행\n",
      "강원도 정선군\n",
      "#생태관광\n",
      "봄이 아니어도 친하게 진해. 감성충만 진해여행 코스\n",
      "경상남도 창원시\n",
      "#진해여행코스\n",
      "한국관광공사 추천 5월 걷기여행길, 유네스코 세계문화유산 산사 걷기길\n",
      "전국\n",
      "#걷기여행길\n",
      "[지역명사와 함께하는 문화여행] 고판화에 미친 사람, 한선학 명사\n",
      "강원도 원주시\n",
      "#지역명사와_함께하는_문화여행\n",
      "전어·꽃게·대하 가을 별미 삼총사와 함께한 서해안 가을 여행\n",
      "충청남도 서천군\n",
      "#공공누리\n",
      "[인천] 뚜벅이 알뜰여행의 베이스캠프, 인천 '호텔 아띠'\n",
      "인천 중구\n",
      "#한국관광품질인증\n",
      "가족여행으로 딱! 문경 겨울 여행\n",
      "경상북도 문경시\n",
      "#문경여행\n",
      "\n"
     ]
    }
   ],
   "source": [
    "f = open('visit_{}.txt'.format(search_text), 'r')\n",
    "data = f.read()\n",
    "print(data)\n",
    "f.close()"
   ]
  },
  {
   "cell_type": "code",
   "execution_count": null,
   "metadata": {},
   "outputs": [],
   "source": []
  }
 ],
 "metadata": {
  "kernelspec": {
   "display_name": "Python 3",
   "language": "python",
   "name": "python3"
  },
  "language_info": {
   "codemirror_mode": {
    "name": "ipython",
    "version": 3
   },
   "file_extension": ".py",
   "mimetype": "text/x-python",
   "name": "python",
   "nbconvert_exporter": "python",
   "pygments_lexer": "ipython3",
   "version": "3.8.3"
  }
 },
 "nbformat": 4,
 "nbformat_minor": 4
}
