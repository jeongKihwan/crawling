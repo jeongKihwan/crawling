{
 "cells": [
  {
   "cell_type": "code",
   "execution_count": 1,
   "metadata": {},
   "outputs": [],
   "source": [
    "# https://korean.visitkorea.or.kr\n",
    "\n",
    "# 사이트에서 '여행'으로 검색한 결과페이지에서 첫 번째 콘텐츠의 텍스트를\n",
    "# 출력하시오."
   ]
  },
  {
   "cell_type": "code",
   "execution_count": 19,
   "metadata": {},
   "outputs": [],
   "source": [
    "from bs4 import BeautifulSoup\n",
    "from selenium import webdriver\n",
    "import time"
   ]
  },
  {
   "cell_type": "code",
   "execution_count": 20,
   "metadata": {},
   "outputs": [
    {
     "name": "stdout",
     "output_type": "stream",
     "text": [
      "크롤링할 키워드를 입력하세요..여행\n"
     ]
    }
   ],
   "source": [
    "search_text = input('크롤링할 키워드를 입력하세요..')"
   ]
  },
  {
   "cell_type": "code",
   "execution_count": 24,
   "metadata": {},
   "outputs": [],
   "source": [
    "driver = webdriver.Chrome()\n",
    "driver.set_window_size(800,1000)  # 윈도우창 크기 설정"
   ]
  },
  {
   "cell_type": "code",
   "execution_count": 25,
   "metadata": {},
   "outputs": [],
   "source": [
    "driver.get('https://korean.visitkorea.or.kr')\n",
    "time.sleep(3)"
   ]
  },
  {
   "cell_type": "code",
   "execution_count": 26,
   "metadata": {},
   "outputs": [],
   "source": [
    "driver.find_element_by_id('chkForm01').click()  # popup 제거\n",
    "elem = driver.find_element_by_class_name('inp_search')\n",
    "elem.send_keys(search_text)"
   ]
  },
  {
   "cell_type": "code",
   "execution_count": 27,
   "metadata": {},
   "outputs": [],
   "source": [
    "driver.find_element_by_class_name('btn_search2').click()\n",
    "time.sleep(3)"
   ]
  },
  {
   "cell_type": "code",
   "execution_count": 28,
   "metadata": {},
   "outputs": [],
   "source": [
    "# //*[@id=\"contents\"]/div/div[1]/ul/li[1]/div[2]/div/a\n",
    "driver.find_element_by_xpath('//*[@id=\"contents\"]/div/div[1]/ul/li[1]/div[2]/div/a').click()"
   ]
  },
  {
   "cell_type": "code",
   "execution_count": 9,
   "metadata": {},
   "outputs": [],
   "source": [
    "html = driver.page_source\n",
    "soup = BeautifulSoup(html, 'html.parser')"
   ]
  },
  {
   "cell_type": "code",
   "execution_count": 29,
   "metadata": {
    "collapsed": true
   },
   "outputs": [
    {
     "data": {
      "text/plain": [
       "'[8월 걷기여행길9선] 금강 위에 피어나는 노을, 노을 위에 뜬 달, 충북 영동군 양산팔경금강둘레길'"
      ]
     },
     "execution_count": 29,
     "metadata": {},
     "output_type": "execute_result"
    }
   ],
   "source": [
    "title = driver.find_element_by_id('topTitle').text\n",
    "title"
   ]
  },
  {
   "cell_type": "code",
   "execution_count": 32,
   "metadata": {
    "collapsed": true
   },
   "outputs": [
    {
     "name": "stdout",
     "output_type": "stream",
     "text": [
      "\n",
      "충북 영동군 양산팔경금강둘레길은 송호국민관광지에서 시작해서  여의정 - 봉곡교 - 강선대 - 함벽정 - 봉양정 - 수두교 - 금강 둔치길 - 송호국민관광지로 돌아오는 원점회귀형코스다. 전체 구간이 약 6.0km 정도 되며 길이 잘 정비돼 있어 어렵지 않게 걸을 수 있다. \n",
      "\n",
      "걷는 동안 양산팔경에 포함된 여의정, 용암, 강선대, 함벽정, 비봉산 등을 볼 수 있다. 특히 봉곡교에서 보는, 금강 위 하늘에 피어나는 노을과 달이 함께 어우러진 풍경이 백미다. \n",
      "\n",
      "그 풍경을 보려면 오후에 길을 걷기 시작해서 해질녘에 송호국민관광지 송림에 도착해서 황금빛 햇살이 송림을 비추는 풍경을 본 뒤에 다시 봉곡교로 가야 한다. 봉곡교 위에서 노을과 달이 어울린 풍경을 본다.(달이 뜨고 지는 시간을 미리 알아야 한다. 달도 동쪽에서 떠서 서쪽으로 지는데, 노을과 달이 한 하늘에 있는 풍경을 보기 위해서는 노을이 피었다 지는 시간대에 달이 지는 날을 알아야 한다.) \n",
      "\n",
      " \n",
      "\n",
      "예로부터 영동은 올갱이로 유명한 고을이다. 영동의 특산물 음식인 올갱이국을 먹지 않고서 영동을 여행했다고 할 수 없겠다. 점심때도 됐고 해서 올갱이국으로 유명한 집을 찾아갔다.  영동 읍내는 물론이고 황간에도 올갱이로 유명한 식당이 몇 곳 있는데, 점심을 먹고 목적지인 송호국민관광지로 가기 위해서 읍내에서 먹었다. 읍내에도 올갱이국으로 유명한 집이 몇 곳 있었고, 그 식당들의 올갱이국은 다 먹어봤으니 맛 걱정 없이 가까운 식당으로 들어갔다. 송호국민관광지로 가는 길에 빗방울이 떨어지더니 도착할 무렵에는 다시 파란 하늘이 드러났다. \n",
      "\n",
      "구불구불 자라는 소나무 가지들이 겹겹이 겹친 소나무숲을 걷는다. 눈을 두는 곳 마다 소나무 가지가 어울린 풍경이 다 다르다. 그래서 소나무숲에서는 사람마다 감흥이 이는 포인트가 다르다. \n",
      "\n",
      "송림 한쪽 바위 위에 정자와 불상과 탑이 모여 있었다. 영동군 향토유적 제23호인 여의정이다. 양산팔경 중 한 곳이기도 하다.  여의정에서 내려와 강가로 간다. 강가에 이정표가 보인다. 용암과 강선대 방향으로 걷는다. \n",
      "\n",
      "용암도 양산팔경 중 하나다. 용이 강선대에 내려온 선녀들이 목욕하는 것을 보다가 승천하지 못하고 바위로 남았다는 전설이 내려온다. \n",
      "\n",
      "용암을 지나 쪽문으로 나가서 좌회전 하면 다리가 보인다. 다리 위로 올라가 다리를 건너서 좌회전해서 강선대에 도착한다. \n",
      "\n",
      "강선대도 양산팔경 중 한 곳이다. 선녀들이 내려와서 놀던 곳이다. 강가 바위 절벽에 소나무가 제 마음대로 자랐다. 절벽 위에 정자가 있다. 정자에 앉아 바람에 땀을 식힌다. \n",
      "\n",
      "강선대를 지나면 길은 숲으로 들어간다.\n",
      "\n",
      "본격적인 숲길이 시작되는 것이다.\n",
      "\n",
      "강가 산기슭에 난 길을 걷는다. \n",
      "\n",
      "정비가 잘 돼 있어 어렵지 않게 걸을 수 있다. 곳곳에 마련된 쉼터에서 쉬어가도 좋겠다. \n",
      "\n",
      "강선대에서 1.4km 정도 걸으면 함벽정이 나온다. 함벽정은 강가 언덕에 지은 정자다. 양산팔경 중 한 곳이다. 옛날 사람들은 이곳에 앉아 시를 짓고 풍류를 즐겼다고 전한다. 그만큼 경치가 좋다는 이야기다. 함벽정과 푸른 강물을 한 눈에 넣고 바라보는 풍경은 지금도 운치 있다. \n",
      "\n",
      "함벽정 다음에 나오는 곳이 봉양정이다. 금운 이명주가 이 자리를 좋아해서 함께 어울리던 열세 명의 친구들과 함께 지은 정자다. 지금의 건물은 1967년에 지은 것이다. \n",
      "\n",
      "골짜기를 건너는 나무데크 다리 위에 서면 골짜기에서 강으로 불어가는 바람의 결을 느낄 수 있다. 폭염에도 골짜기 바람은 시원해서 잠깐이나마 쉬었다 간다. \n",
      "\n",
      "비봉산이 보이는 전망데크에 도착했다. 양산팔경 중 하나인 비봉산은 해발 460m로 산세가 수더분하다.\n",
      "\n",
      "전망데크 아래로 흐르는 금강과 수수한 산세를 지닌 비봉산, 그리고 그 중간에 사람 사는 마을을 한 눈에 넣고 본다. 마음이 차분해지고 넉넉해진다. \n",
      "\n",
      "수두교를 건너 좌회전해서 금강 둔치길을 걷는다.\n",
      "\n",
      "지금까지는 숲길을 걸었다면 이제부터는 강가의 길을 걷는 것이다. \n",
      "\n",
      "아무렇게나 자라난 들풀과 들꽃이 둔치를 가득 메웠다. 그 사이로 오솔길이 났다. 저녁햇살에 휘발되는 물비린내와 들풀, 들꽃의 향기가 공중에 가득하다. 텅 빈 것 같지만 가득한 것이 어디 그뿐이랴! \n",
      "\n",
      "등을 밀어주는 햇볕에 그림자처럼 길어지는 발걸음을 송호국민관광지 송림에서 멈춘다. 황금빛 햇살을 받은 소나무 가지가 빛난다.\n",
      "\n",
      "빛의 영역과 어둠의 영역이 도드라지는 시간, 어둠은 더 어둡고 빛은 더 빛나는 그 공간이 바로 송호리 송림이다. \n",
      "\n",
      "송호리 송림에서 잠깐 머문 뒤 다시 강선대 방향으로 걸었다. 봉곡교에 올라 노을이 피어나는 순간을 기다렸다. \n",
      "\n",
      "금강 위 하늘에서 피어난 노을빛이 금강에 비친다. 하늘도 강도 노을빛으로 빛난다. 해는 산 뒤로 떨어졌다. 해가 진 뒤에 하늘색은 세 번 바뀐다. 그게 바로 노을의 세 가지 색이다. \n",
      "\n",
      "강렬한 빛이 스러지는 동안 하늘은 잠깐 밝아진다. 그리고 붉은 기운이 강해진다. 그리고 마지막에 분홍빛이 감돌게 된다. 보랏빛 파란색이 짙어지는 공기는 이내 어둠 속으로 사라진다. \n",
      "\n",
      "강렬한 빛이 스러지고 붉은 기운이 돌 때, 강물은 부풀어 오르고 새들은 안식의 공간으로 날아간다.\n",
      "\n",
      "그리고 분홍빛이 공중에서 스러질 무렵 빛에 가려있던 달이 모습을 드러낸다. \n",
      "\n",
      "코스요약-걷는거리 : 약 6km -걷는시간 : 2시간30분 -걷는순서 : 송호국민관광지 매표소 - 여의정 - 봉곡교 - 강선대 - 함벽정 - 봉양정 - 수두교 - 금강 둔치길 - 송호국민관광지 걷기 여행 Tip-화장실 : 송호국민관광지. 함벽정 도착 전 간이화장실 있음.-식당(매점) : 송호국민관광지에 식당 및 매점 있음.(영동읍내에서 올갱이국을 먹는 것도 좋다.) -숙박업소 : 송호국민관광지에 캠핑장과 민박집 있음. -코스문의 : 영동군 문화체육정책실 043-740-3232 교통편-찾아가기 영동시외버스터미널 옆 시내버스 종점(시내버스 차고지. 차고지 입구 주유소 앞에서 버스를 탄다.)에서 송호국민관광지 가는 버스(하루 8대 운행)를 타고 송호국민관광지에서 가장 가까운 정류장에 내려달라고 하면 된다. 송호국민관광지 가는 버스는 영동역 앞 버스정류장에서도 정차하니까 기차를 이용한다면 영동역 앞 시내버스정류장에서 타면 된다. -돌아오기 찾아가기의 역순이다.(영동읍내로 가는 시내버스 막차가 일찍 끝난다. 금강에 피어나는 노을과 달 뜬 풍경을 본다면 시내버스 막차를 못 타게 된다. 이때는 콜택시를 불러서 영동읍내로 가야 한다. 택시비는 1만6000~7000원 안팎 정도 나온다.) 출처 : 한국관광공사 레저관광팀 (두루누비 durunubi.kr/)  글, 사진 : 장태동 (걷기여행가/여행작가)※ 위 정보는 2019년 8월에 갱신된 정보로, 이후 변경될 수 있으니 여행 하시기 전에 반드시 확인하시기 바랍니다.※ 이 기사에 사용된 텍스트, 사진, 동영상 등의 정보는 한국관광공사가 저작권을 보유하고 있으므로 기사의 무단 사용을 금합니다. \n"
     ]
    }
   ],
   "source": [
    "for d in soup.select('div.txt_p'):\n",
    "    print()\n",
    "    print(d.text)"
   ]
  },
  {
   "cell_type": "code",
   "execution_count": 33,
   "metadata": {},
   "outputs": [],
   "source": [
    "# print(title)\n",
    "# print()\n",
    "# elem = soup.select('div.txt_p')\n",
    "# for e in elem:\n",
    "#     print()\n",
    "#     print(e.text)"
   ]
  },
  {
   "cell_type": "code",
   "execution_count": null,
   "metadata": {},
   "outputs": [],
   "source": []
  }
 ],
 "metadata": {
  "kernelspec": {
   "display_name": "Python 3",
   "language": "python",
   "name": "python3"
  },
  "language_info": {
   "codemirror_mode": {
    "name": "ipython",
    "version": 3
   },
   "file_extension": ".py",
   "mimetype": "text/x-python",
   "name": "python",
   "nbconvert_exporter": "python",
   "pygments_lexer": "ipython3",
   "version": "3.8.3"
  }
 },
 "nbformat": 4,
 "nbformat_minor": 4
}
